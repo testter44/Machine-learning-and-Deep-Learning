{
 "cells": [
  {
   "cell_type": "markdown",
   "id": "00023868-eb53-42b9-a46e-2db78dd707a4",
   "metadata": {},
   "source": [
    "<h1>Web Scraping</h1>\n",
    "\n",
    "* Web scraping is the process of gathering information from the Internet.\n",
    "  \n",
    "* It is also called web data mining or web harvesting\n",
    "  \n",
    "* The data is obtained in an unstructured format, which is then converted into a structured manner after performing multiple pre-processing steps.\n",
    "  \n",
    "* Web scraping can also be done manually for small web pages by simply copying and pasting the data from the web page.\n",
    "  \n",
    "* If we require data at a large scale and from multiple web pages we use web scrapers\n"
   ]
  },
  {
   "cell_type": "markdown",
   "id": "cfb7f76c-0d0f-4935-a23b-66ea54ebf99a",
   "metadata": {},
   "source": [
    "<h2>web scraping and crawling</h2>\n",
    "\n",
    "<h3>Web scraping</h3>\n",
    "\n",
    "* the act of automatically downloading a web page's data and extracting very specific information from it.\n",
    "  \n",
    "* The extracted information can be stored pretty much anywhere (database, file, etc.).\n",
    "  \n",
    "* Can be implemented at any scale.\n",
    "\n",
    "<h3>Web crawling</h3>\n",
    "\n",
    "*  the act of automatically downloading a web page's data, extracting the hyperlinks it contains and following them.\n",
    "  \n",
    "*  The downloaded data is generally stored in an index or a database to make it easily searchable.\n",
    "\n",
    "*  Mostly done on large scale.\t"
   ]
  },
  {
   "cell_type": "markdown",
   "id": "0d58523d-af43-486a-be11-1a41b35c296b",
   "metadata": {},
   "source": [
    "<h2> Why is web scraping often seen negatively? </h2>\n",
    "\n",
    "1. It's increasingly being used for business purposes to gain a competitive advantage. So there's often a financial motive behind it.\n",
    "\n",
    "2. It's often done in complete disregard of copyright laws and of Terms of Service (ToS).\n",
    "\n",
    "3. It's often done in abusive manners.\n",
    "   Example: web scrapers might send much more requests per second than what a human would do, thus causing an unexpected load on websites.\n",
    "\n",
    "\n",
    "Note: Tons of individuals and companies are running their own web scrapers right now. So much that this has been causing headaches for companies whose websites are scraped, like social networks (e.g. Facebook, LinkedIn, etc.) and online stores (e.g. Amazon). This is probably why Facebook has separate terms for automated data collection."
   ]
  },
  {
   "cell_type": "markdown",
   "id": "f2003189-a8d4-4315-b2c6-c0158d198153",
   "metadata": {},
   "source": [
    "<h2> Is scraping legal or illegal? </h2>\n",
    "\n",
    "* Web scraping and crawling aren't illegal by themselves\n",
    "  \n",
    "* Some websites need permission for crawling and some don't allow as in their  Terms of Service (ToS)\n",
    "  \n",
    "* Example: Linked suied anonymous scrapers for following reasons : <br>\n",
    "    1. Violation of the Computer Fraud and Abuse Act (CFAA). <br>\n",
    "    2. Violation of California Penal Code. <br>\n",
    "    3. Violation of the Digital Millennium Copyright Act (DMCA). <br>\n",
    "    4. Breach of contract. <br>\n"
   ]
  },
  {
   "cell_type": "markdown",
   "id": "d6e7a90b-b7a4-45d2-b4ed-b1229a1fbae4",
   "metadata": {},
   "source": [
    "<h2>Uses of Web Scraping</h2>\n",
    "\n",
    "1. <b>Marketing</b> : collect information about their products or services from various social media websites to get a general public sentiment. Also, they extract email ids from various websites and then send bulk promotional emails to the owners of these email ids.\n",
    "   \n",
    "3. <b> Content Creation</b> : It helps the creator to create quality and trending content as we can gather information from news articles, research reports, and blog posts\n",
    "   \n",
    "5. <b> Price Comparison </b> : Web scraping can be used to extract the prices from multiple e-commerce websites can compare them.\n",
    "   \n",
    "7. <b> Job Postings</b> : Web Scraping can also be used to collect data on various job openings across multiple job portals so that this information can help many job seekers and recruiters.\n",
    "\n",
    "8. <b> Data for Machine Learning Projects</b> : Retrieval of data for machine learning projects depends upon web scraping.\n",
    "\n",
    "9. <b>Search Engine Optimization (SEO) </b>: Web scraping is widely used by SEO tools like SEMRush, Majestic etc. to tell business how they rank for search keywords that matter to them."
   ]
  },
  {
   "cell_type": "markdown",
   "id": "9a2cfc74-d97b-44e6-9cc7-7fbabaf136b5",
   "metadata": {},
   "source": [
    "<h2>Python Library for scraping</h2>\n",
    "\n",
    "* Scrapy\n",
    "* Salenium\n",
    "* BeautifulSoup\n",
    "  "
   ]
  },
  {
   "cell_type": "code",
   "execution_count": null,
   "id": "5aaa7675-05bc-450e-a63d-64b8d2995a73",
   "metadata": {},
   "outputs": [],
   "source": []
  },
  {
   "cell_type": "markdown",
   "id": "52db1109-d60e-4cd3-8f5f-6a978be2a79f",
   "metadata": {},
   "source": [
    "<h3> Necessary Library </h3>\n",
    "\n",
    "* pip install requests\n",
    "* pip install urllib3\n",
    "* pip install bs4\n",
    "* pip install lxml"
   ]
  },
  {
   "cell_type": "code",
   "execution_count": 1,
   "id": "a7c5c848-186b-457e-9f75-195f62fa2de8",
   "metadata": {},
   "outputs": [
    {
     "name": "stdout",
     "output_type": "stream",
     "text": [
      "Requirement already satisfied: requests in c:\\users\\us\\documents\\scrapper\\env\\lib\\site-packages (2.31.0)\n",
      "Requirement already satisfied: charset-normalizer<4,>=2 in c:\\users\\us\\documents\\scrapper\\env\\lib\\site-packages (from requests) (3.3.2)\n",
      "Requirement already satisfied: idna<4,>=2.5 in c:\\users\\us\\documents\\scrapper\\env\\lib\\site-packages (from requests) (3.6)\n",
      "Requirement already satisfied: urllib3<3,>=1.21.1 in c:\\users\\us\\documents\\scrapper\\env\\lib\\site-packages (from requests) (2.1.0)\n",
      "Requirement already satisfied: certifi>=2017.4.17 in c:\\users\\us\\documents\\scrapper\\env\\lib\\site-packages (from requests) (2023.11.17)\n"
     ]
    }
   ],
   "source": [
    "!pip install requests"
   ]
  },
  {
   "cell_type": "code",
   "execution_count": 1,
   "id": "252862c0-4442-4d48-b3ed-827cd563d413",
   "metadata": {},
   "outputs": [],
   "source": [
    "#we use requests to make a GET HTTP requests for the url: https://ekantipur.com/ by making a GET request.\n",
    "import requests\n",
    "r = requests.get('https://gorkhapatraonline.com/')"
   ]
  },
  {
   "cell_type": "code",
   "execution_count": 3,
   "id": "91ca9429-eb1a-4307-a89d-99b194e0bfa7",
   "metadata": {},
   "outputs": [
    {
     "data": {
      "text/plain": [
       "'<!DOCTYPE html>\\n<html class=\"no-js\" lang=\"\">\\n\\n<head>\\n\\t<meta charset=\"utf-8\"/>\\n\\t<meta content=\"ie=edge\" http-equiv=\"x-ua-compatible\"/>\\n\\n\\t\\t\\t<title> Gorkhapatra | Nepal&#039;s First News Organization</title>\\n\\t\\n\\t        <meta\\n            name=\"description\"\\n            content=\"Gorkhapatra is the oldest national daily newspaper of Nepal. It is run by Gorkhapatra Sansthan. It was launched as a weekly in May\\n\\t\\t\\t  1901 and became a daily newspaper in 1961.Gorkhapatra Online is Nepal\\'s oldest newspaper which is now available in digital form as well.Nepal\\'s digital newspaper, online destination for Nepa'"
      ]
     },
     "execution_count": 3,
     "metadata": {},
     "output_type": "execute_result"
    }
   ],
   "source": [
    "# retrieve the content by using .text property\n",
    "# we got the first 600 characters\n",
    "r.text[:600]"
   ]
  },
  {
   "cell_type": "code",
   "execution_count": 4,
   "id": "b67f42c6-c875-4b3b-9a6c-d5a6c68825d5",
   "metadata": {},
   "outputs": [
    {
     "name": "stdout",
     "output_type": "stream",
     "text": [
      "Requirement already satisfied: urllib3 in c:\\users\\us\\documents\\scrapper\\env\\lib\\site-packages (2.1.0)\n"
     ]
    }
   ],
   "source": [
    "! pip install urllib3"
   ]
  },
  {
   "cell_type": "code",
   "execution_count": 5,
   "id": "86a154f1-3076-4773-99f6-c46518244dd1",
   "metadata": {},
   "outputs": [
    {
     "name": "stdout",
     "output_type": "stream",
     "text": [
      "Requirement already satisfied: bs4 in c:\\users\\us\\documents\\scrapper\\env\\lib\\site-packages (0.0.1)\n",
      "Requirement already satisfied: beautifulsoup4 in c:\\users\\us\\documents\\scrapper\\env\\lib\\site-packages (from bs4) (4.12.2)\n",
      "Requirement already satisfied: soupsieve>1.2 in c:\\users\\us\\documents\\scrapper\\env\\lib\\site-packages (from beautifulsoup4->bs4) (2.5)\n"
     ]
    }
   ],
   "source": [
    "!pip install bs4"
   ]
  },
  {
   "cell_type": "code",
   "execution_count": 6,
   "id": "b62d7efb-0657-45dd-8b39-484e46b91d32",
   "metadata": {},
   "outputs": [
    {
     "name": "stdout",
     "output_type": "stream",
     "text": [
      "Requirement already satisfied: lxml in c:\\users\\us\\documents\\scrapper\\env\\lib\\site-packages (5.0.1)\n"
     ]
    }
   ],
   "source": [
    "# It is a highperformance HTML and XML parsing library.\n",
    "! pip install lxml"
   ]
  },
  {
   "cell_type": "code",
   "execution_count": null,
   "id": "341e1a39-0ab5-4a6c-b893-38f5d1151c63",
   "metadata": {},
   "outputs": [],
   "source": []
  },
  {
   "cell_type": "code",
   "execution_count": 8,
   "id": "14fc17ca-ad84-4b64-b7c1-eb281c9db828",
   "metadata": {},
   "outputs": [
    {
     "data": {
      "text/plain": [
       "'विचार | अन्नपूर्ण पोस्ट्  '"
      ]
     },
     "execution_count": 8,
     "metadata": {},
     "output_type": "execute_result"
    }
   ],
   "source": [
    "import csv\n",
    "import lxml\n",
    "import requests\n",
    "from bs4 import BeautifulSoup\n",
    "\n",
    "r = requests.get('https://annapurnapost.com/category/opinion/')\n",
    "# print(r)\n",
    "soup = BeautifulSoup(r.text, 'lxml')\n",
    "# print(soup.prettify())\n",
    "\n",
    "match = soup.title.text\n",
    "match\n"
   ]
  },
  {
   "cell_type": "code",
   "execution_count": 10,
   "id": "efa513f4-3b63-4b10-babe-ee356519e8ad",
   "metadata": {},
   "outputs": [
    {
     "name": "stdout",
     "output_type": "stream",
     "text": [
      "<div id=\"fb-root\">\n",
      "</div>\n",
      "\n"
     ]
    }
   ],
   "source": [
    "match = soup.div\n",
    "print(match.prettify())"
   ]
  },
  {
   "cell_type": "code",
   "execution_count": 9,
   "id": "fd3453f4-c896-4c9e-9a2f-9a921eb819fc",
   "metadata": {},
   "outputs": [],
   "source": [
    "# csv_file = open('news_scrape.csv', 'w')\n",
    "# csv_writer = csv.writer(csv_file)\n",
    "# csv_writer.writerow(['headline', 'summary', 'news_link'])"
   ]
  },
  {
   "cell_type": "markdown",
   "id": "858bd774-07be-4daa-9acc-fe251fa855a7",
   "metadata": {},
   "source": [
    "<h3>Extracting news from a single page</h3>"
   ]
  },
  {
   "cell_type": "code",
   "execution_count": 12,
   "id": "1e3a4bec-75c0-4b51-bbd6-a0dfb0fdde86",
   "metadata": {},
   "outputs": [
    {
     "data": {
      "text/plain": [
       "'सार्वजनिक ऋणका पाँच सबाल | अन्नपूर्ण पोस्ट्  '"
      ]
     },
     "execution_count": 12,
     "metadata": {},
     "output_type": "execute_result"
    }
   ],
   "source": [
    "import requests\n",
    "from bs4 import BeautifulSoup\n",
    "\n",
    "r = requests.get('https://annapurnapost.com/story/449623/')\n",
    "soup = BeautifulSoup(r.text, 'lxml')\n",
    "# print(soup.prettify())\n",
    "match = soup.title.text\n",
    "match"
   ]
  },
  {
   "cell_type": "code",
   "execution_count": 23,
   "id": "485b7c69-fd5c-4595-93b5-b63f0688ab2c",
   "metadata": {},
   "outputs": [
    {
     "name": "stdout",
     "output_type": "stream",
     "text": [
      "The title of the article is: \n",
      "                    सार्वजनिक ऋणका पाँच सबाल\n",
      "                \n"
     ]
    }
   ],
   "source": [
    "#scrape title\n",
    "title = soup.find('div', class_='news__details-titles')  # use .text too\n",
    "# print(title)\n",
    "p_title = title.h1.text\n",
    "# print(p_title)\n",
    "print(\"The title of the article is:\", p_title)\n",
    "# print(title.prettify())"
   ]
  },
  {
   "cell_type": "code",
   "execution_count": 24,
   "id": "48275c60-2fe4-4f50-ae69-292257c9b331",
   "metadata": {},
   "outputs": [
    {
     "name": "stdout",
     "output_type": "stream",
     "text": [
      "Author's Name: गोपीनाथ मैनाली\n"
     ]
    }
   ],
   "source": [
    "#scrape author name\n",
    "author_element = title.find('p', class_='author__name')\n",
    "\n",
    "if author_element:\n",
    "    author_name = author_element.a.text.strip()\n",
    "    print(\"Author's Name:\", author_name)\n",
    "else:\n",
    "    print(\"Author's name not found.\")"
   ]
  },
  {
   "cell_type": "code",
   "execution_count": 13,
   "id": "2eb4ef64-6b04-49ba-9a6c-85ac74f7bd43",
   "metadata": {},
   "outputs": [
    {
     "name": "stdout",
     "output_type": "stream",
     "text": [
      "Date: पुष २०, २०८० शुक्रबार १०:५८:५९\n"
     ]
    }
   ],
   "source": [
    "#scrape date\n",
    "date_element = title.find('p', class_='date')\n",
    "\n",
    "if date_element:\n",
    "    date = date_element.text.strip()\n",
    "    print(\"Date:\", date)\n",
    "else:\n",
    "    print(\"Date not found\")"
   ]
  },
  {
   "cell_type": "code",
   "execution_count": 27,
   "id": "d0c794cd-b869-4bc9-854e-f088eeb77fb0",
   "metadata": {},
   "outputs": [
    {
     "name": "stdout",
     "output_type": "stream",
     "text": [
      "\n",
      "विकासशील मुलुकहरू दोहोरो वित्त समस्यामा हुन्छन्। पहिलो, वित्तीय स्रोतको न्यूनता र दोस्रो, उपलब्ध स्रोतको उपयोगको न्यून सामर्थ्य। नेपाल यसको अपवाद होइन। नेपालले तिर्न बाँकी ऋण करिब २,३४९ अर्ब पुगेको छ। जसमा १,१७० अर्ब बाह्य र अन्तरिक १,१७९ अर्ब छ। यो प्रतिव्यक्तिका हिसाबमा करिब ७९ हजार नाघेको छ। अर्कोतर्फ विकास वित्तका लागि लिइएको ऋण समयमै खर्च हुन नसक्दा पुँजी निर्माणको क्रम पनि सुस्त छ। भएको खर्चको समयमै शोधभर्ना लिन नहुँदा नगद प्रवाह पनि समस्यामा पर्ने गरेको छ।\n",
      "\n",
      "\n",
      "\n",
      "\n",
      "\n",
      "\n",
      "\n",
      "\n",
      "राजनीतिक तवरबाट सार्वजनिक ऋण बढ्दै गएकोमा आलोचना भइरहेकै छ तर सरकारमा पुगेपछि ऋणलाई सजिलो विकल्पको रूपमा लिने प्रवृत्ति छ। अझ ऋण लिन सक्नुलाई राजनीतिक सफलता मानिन्छ। नेपालको बजेट सबै घाटा बजेट हुन्, राष्ट्रिय बजेटको २५ प्रतिशतभन्दा माथिको हिस्सा सार्वजनिक ऋणले लिँदै आएको छ। २०७८/०७९ को बजेट १,६३२ अर्बमा आन्तरिक राजस्व १,०५० अर्ब, अनुदान ५९.९ अर्ब भई खुद न्यून ५२२ अर्बमध्ये २८३ अर्ब र आन्तरिक ऋण २३९ अर्ब थियो। त्यसपछिका आर्थिक वर्षदेखि आन्तरिक ऋणले बाह्यलाई उछिन्दै आएको छ। चालू आव २०८०/०८१ को बजेटको आकार १,७५१ अर्बमा ४५२ अर्ब न्यूनपूर्तिका लागि २१० अर्ब बाह्य ऋण र २४० अर्ब आन्तरिक ऋण लिइँदै छ। बाह्यभन्दा आन्तरिक ऋण बढ्नु र त्यो दैनन्दिनी प्रशासनमा खर्च हुनुले ऋण व्यवस्थापनको गम्भीरतालाई संकेत गर्छ।\n",
      "\n",
      "के सार्वजनिक ऋण नराम्रो हो ? भन्ने भाष्य बनाइएको छ, के यो त्यस्तो खराब कुरा हो ? ऋण लिएर लगानी गर्ने सामान्य आर्थिक अवधारणा हो, जुन परिवार वा निजी तहमा मान्य छ, सार्वजनिक तवरमा पनि त्यस्तै हो। विकासको सुरुआती दिनमा ऋण आन्तरिक साधनको विकल्प पनि हो। ऋण लिएर विकास र समृद्धिको आधार बनाउनु यसपछिको अवधारणा हो। यसलाई कुल गार्हस्थ्य उत्पादन अनुपातको सापेक्षमा लिएर पनि विश्लेषण गरिन्छ। त्यो पनि सधैं सान्दर्भिक तथ्य होइन। नेपालको तिर्न बाँकी ऋण कुल गार्हस्थ्य उत्पादनको अनुपातमा ४३ प्रतिशत छ।\n",
      "\n",
      "\n",
      "\n",
      "\n",
      "\n",
      "\n",
      "\n",
      "\n",
      "\n",
      "\n",
      "\n",
      "\n",
      "\n",
      "ग्लोबल डेब्ट ¥याकिङमा माथि रहेका मुलुकहरू विकसित छन्। पहिलो स्थानमा रहेको जापानको ऋण कूल गार्हस्थ्य अनुपातमा २५५ प्रतिशत छ, त्यो पनि आन्तरिक ऋण हो। जापानले बाह्य ऋण लिँदैन। विकसित देशहरूको समूह जी–७ को यो अनुपात १२८ प्रतिशत छ। दोस्रो दोस्रो ¥याकिङमा रहेको ग्रिसको १६८, तेस्रोमा रहेको सिंगापुरको १६८, त्यसपछिको इटालीको १४४ र छैटौं स्थानमा रहेको संयुक्त राज्य अमेरिकाको १२३ प्रतिशत छ। उदीयमान चीन र भारतको क्रमशः ७४ र ५७ प्रतिशत जति छ। यस अर्थमा कुल गार्हस्थ्य अनुपातमा नेपाल आत्तिनु पर्ने अवस्था होइन। त्यस्तै, प्रतिव्यक्ति ऋण अनुपातमा पनि नेपालको ७९ हजार (करिब ६०८ अमेरिकी डलर) छ भने अमेरिका र जापानको क्रमशः ९२ हजार र १ सय १ हजार अमेरिकी डलर छ।आँकडा र विश्लेषणले लिएको ऋण उत्पादन क्षमता बढाउन र पुँजी निर्माणमा खर्च गर्नुपर्छ। विकसित मुलुक विकास समृद्धिमा माथि छन्, नेपाल त्यस अवस्थामा छ्रैन। जे.एम. किन्जले बेरोजगारीको समस्या समाधान गर्न ऋण लिएर भए पनि लगानी गरी दीर्घकालमा निजी क्षेत्रले रोजगारी सिर्जना गर्ने वातावरण बनाउनुपर्छ भन्ने सिद्धान्त स्थापित गरे। विकासशील देशहरू विशेषतः विकास वित्तका लागि ऋण लिने गर्छन्। नेपालको सार्वजनिक ऋणलाई यिनै आधारमा रहेर हेर्नुपर्ने हुन्छ। नेपालको सार्वजनिक ऋण व्यवस्थापनमा केही सबाल छन्, जसलाई सम्बोधन गरेर नै ऋण व्यवस्थापनको उद्देश्य पूरा गर्न सकिन्छ। पहिलो, सार्वजनिक ऋणको परिभाषा साँघुरो छ। सरकारले आन्तरिक तथा बाह्य रूपमा लिएको ऋण मात्र यसमा गणना गरिएको छ। जब कि व्यापक परिभाषाअनुसार सरकार, यसका संरचना, सार्वजनिक संस्थानलगायत सबै एक्स्ट्राबजेटरी निकायको ऋण दायित्व समावेश हुनुपर्नेमा त्यसो भएको छैन भने ऋण जमानतजस्ता सरकारी दायित्व पनि ऋणमा समावेश छैनन्।दोस्रो, ऋणको कार्यकुशल उपयोग हुने गरेको छैन। वैदेशिक ऋण समयमा खर्च गर्ने (प्रशोचन) क्षमता छैन। खर्च गरिएको ऋणको शोधभर्ना समयमा नहुँदा नगद व्यवस्थापनमा समस्या आएको छ। आन्तरिक ऋणका संयन्त्र जारी गर्ने समय र नगद व्यवस्थापनबीचको सन्तुलन छैन। सहजताका आधारमा प्रत्येक चौमासिकमा नै आन्तरिक ऋण उठाइएको छ। यसले ऋणको लागत र नगदको निष्क्रियता बढाएको छ। तेस्रो, ऋणको उपयोगको प्रश्न पनि छ। बाह्य ऋण सामान्यतः आयोजना र सर्त आबद्ध गरिएको हुन्छ। ऋण लिनु भनेको कमाउन हो, उपभोगका लागि होइन।\n",
      "चौथो, नेपालको बाह्य ऋण भुक्तानीमा प्रतिवर्ष ठूलो विनिमय घाटा व्यहोर्नु परिरहेको छ। नेपाली मुद्रा प्रतिदिन कमजोर छ र विदेशी मुद्रामा ऋण भुक्तानी गर्नुपर्छ। पाँचौं, ऋण व्यवस्थापन लागत उच्च छ। आन्तरिक ऋण व्यवस्थापन लागत घटाउन केही सजिला उपाय छन्, तर तिनले कार्यरूप पाएका छैनन्। ऋण लेखांकन विधि र क्षमता विकासका काम भर्खर हुँदैछन्। सार्वजनिक ऋण व्यवस्थापन कार्यालय स्थापनापछि प्रणाली निर्माणको काम भइरहेको छ। लेखांकन, अभिलेखन, प्रतिवेदन र समयतालिका अनुरूप भुक्तानीका कामहरू हुनेगरी महालेखा नियन्त्रक कार्यालयबाट विकास भएको प्रणाली हस्तान्तरण भएको छ। तर नेपाल राष्ट्र बैंक, महालेखा नियन्त्रक कार्यालय र ऋण व्यवस्थापन कार्यालयबीच कार्यमूलक समन्वयको खाँचो छ। कार्यालयमा क्षमता विकासको खाँचो छ।केही वर्षयता सरकारी कोषले नकारात्मक बचत उपयोग गरिरहेछ। कुनै समय यसलाई आन्तरिक ऋणका रूपमा मिलान गर्नुपर्ने अवस्था आउँछ। त्यसतर्फ ध्यान दिइएको छैन। विकासोन्मुख मुलुकले ऋण व्यवस्थापनमा केही साझा समस्या भोग्दै आएका छन्, नेपाल पनि यसबाट अपवाद छैन। जस्तो कि अपर्याप्त र कमजोर पुँजी तथा मुद्रा बजारको विद्यमानता, गैरवित्तीय क्षेत्रको ऋण लिने अवसरको सीमितता, बचतकर्ताको बानी परिवर्तन र राजनीतिक क्षेत्रबाट सतही प्राथमिकता।\n",
      "\n",
      "\n",
      "\n",
      "\n",
      "\n"
     ]
    }
   ],
   "source": [
    "#scrape body of news article\n",
    "body = soup.find('div', class_='news__details').text\n",
    "print(body)"
   ]
  },
  {
   "cell_type": "code",
   "execution_count": null,
   "id": "97582c5f-bdca-4059-bf13-90db133f6ddf",
   "metadata": {},
   "outputs": [],
   "source": []
  },
  {
   "cell_type": "code",
   "execution_count": null,
   "id": "e5aaa657-3224-4aec-b96a-dc21f64b7061",
   "metadata": {},
   "outputs": [],
   "source": []
  },
  {
   "cell_type": "markdown",
   "id": "03ef5b4a-df0e-4e13-92d5-953d08bd06e9",
   "metadata": {},
   "source": [
    "<h3>Using find method</h3>"
   ]
  },
  {
   "cell_type": "code",
   "execution_count": 3,
   "id": "05f622bc-4276-481b-b567-67256e3da011",
   "metadata": {},
   "outputs": [],
   "source": [
    "import csv\n",
    "import lxml\n",
    "import requests\n",
    "from bs4 import BeautifulSoup\n",
    "\n",
    "r = requests.get('https://annapurnapost.com/category/opinion/')\n",
    "soup = BeautifulSoup(r.text, 'lxml')"
   ]
  },
  {
   "cell_type": "code",
   "execution_count": 9,
   "id": "a0dbf3c1-8155-4d84-b2ea-71af660858cf",
   "metadata": {},
   "outputs": [
    {
     "name": "stdout",
     "output_type": "stream",
     "text": [
      "हिंसामा सामाजिक मनोविज्ञान\n"
     ]
    }
   ],
   "source": [
    "article = soup.find('div', class_='category__news')\n",
    "headline = article.h3.a.text\n",
    "print(headline)"
   ]
  },
  {
   "cell_type": "code",
   "execution_count": 10,
   "id": "989e9030-044e-4344-9d7c-e871207ae3d3",
   "metadata": {},
   "outputs": [
    {
     "data": {
      "text/plain": [
       "'\\n                                \\n                                नेपालीमा उखान छ, सुतेको मानिसलाई जगाउन सकिन्छ तर सुतेको जस्तै बहाना गर्नेलाई जगाउन सकिँदैन। यही उखानसँग मिल्दोजुल्दो व्यवहार नेपालको सबैभन्दा पुरानो र ठूलो …\\n                                \\n                            '"
      ]
     },
     "execution_count": 10,
     "metadata": {},
     "output_type": "execute_result"
    }
   ],
   "source": [
    "summary = soup.find('div', class_='card__desc')\n",
    "sum = summary.text\n",
    "sum"
   ]
  },
  {
   "cell_type": "markdown",
   "id": "c4b99c5f-c36c-4fd7-b50c-b8913063821a",
   "metadata": {},
   "source": [
    "<h4>Extract title only</h4>"
   ]
  },
  {
   "cell_type": "code",
   "execution_count": 15,
   "id": "e28a1e7a-3117-4b9e-9d88-136ac8685a65",
   "metadata": {},
   "outputs": [
    {
     "name": "stdout",
     "output_type": "stream",
     "text": [
      "त्रिवि रेकर्डको अन्तर्य\n",
      "हिंसामा सामाजिक मनोविज्ञान\n",
      "सार्वजनिक ऋणका पाँच सबाल\n",
      "जे देखें, त्यही लेखें\n",
      "उत्पादनसँगै माग बढाउनुपर्‍यो\n",
      "पीडामा एम्सका नेपाली डाक्टर\n",
      "भोकको मूल्य\n",
      "बलमिच्याइँमा विश्वविद्यालय\n",
      "विश्वव्यापी आर्थिक संकटका बाछिटा\n",
      "द्वन्द्वपीडित प्राथमिकतामा परेनन्\n",
      "उकुसमुकुस छन् नागरिक\n",
      "जलविद्युत् क्षेत्रमा तेस्रो नियामकको उदय\n",
      "यसरी हटाऔं बारुदी सुरुङको जोखिम\n",
      "प्रचण्डको कमजोर एक वर्ष\n",
      "बालकुमारी काण्ड : कोरिया रोजगारी गुम्ने संशय\n",
      "पुँजीवादको राजनीति\n",
      "मधुमेहको शिक्षा र सुरक्षा\n",
      "बालबालिकामा ग्याजेटको असर\n",
      "इजरायल–हमास युद्ध धेरै नलम्बिने सङ्केत\n",
      "नयाँ राजनीतिक विचार कहिले ?\n",
      "\n",
      "                                \n",
      "                                सियोल : दक्षिण कोरियाको सीमावर्ती टापु योन्प्योङमा उत्तर कोरियाले लगातार तेस्रो दिन ‘प्रत्य…\n",
      "                                \n",
      "                            \n",
      "\n",
      "                                \n",
      "                                काठमाडौं : गत चैतसम्म नारायणगढ बुटवल सडक खण्डमा जम्मा ५.२९ मिटर सडक कालोपत्रे गरिएको थियो। ८ …\n",
      "                                \n",
      "                            \n",
      "\n",
      "                                \n",
      "                                काठमाडौं : सत्ता गठबन्धनले राष्ट्रिय सभा निर्वाचनका लागि सिट बाँडफाँटको टुंगो लगाएको छ। बालुवा…\n",
      "                                \n",
      "                            \n",
      "\n",
      "                                \n",
      "                                करोडौं बजेट खर्चेर विमानस्थल बनाउने तर प्रयोगमा ल्याउन नसक्ने जुन पुरानो ‘रोग’ छ त्…\n",
      "                                \n",
      "                            \n"
     ]
    }
   ],
   "source": [
    "article =  soup.find_all('div', class_='grid__card')\n",
    "\n",
    "for i in article:\n",
    "    # print(i.prettify())\n",
    "    title = i.h3.a.text\n",
    "    print(title)"
   ]
  },
  {
   "cell_type": "markdown",
   "id": "2e796b31-377b-4bbd-ae92-79054e6411b4",
   "metadata": {},
   "source": [
    "<h4>Extract summary only</h4>"
   ]
  },
  {
   "cell_type": "code",
   "execution_count": 16,
   "id": "d0b4d56d-281e-49c8-9a52-9faa844601f8",
   "metadata": {},
   "outputs": [
    {
     "name": "stdout",
     "output_type": "stream",
     "text": [
      "\n",
      "                                \n",
      "                                नेपालीमा उखान छ, सुतेको मानिसलाई जगाउन सकिन्छ तर सुतेको जस्तै बहाना गर्नेलाई जगाउन सकिँदैन। यही उखानसँग मिल्दोजुल्दो व्यवहार नेपालको सबैभन्दा पुरानो र ठूलो …\n",
      "                                \n",
      "                            \n",
      "\n",
      "                            \n",
      "                            सृष्टिको रथ धान्ने अर्को पांग्रोलाई हेर्ने दृष्टिकोण समान छ ? अर्थात् नारीलाई हामीले गर्ने व्यवहार …\n",
      "                            \n",
      "                        \n",
      "\n",
      "                            \n",
      "                            विकासशील मुलुकहरू दोहोरो वित्त समस्यामा हुन्छन्। पहिलो, वित्तीय स्रोतको न्यूनता र दोस्रो, उपलब्ध स्…\n",
      "                            \n",
      "                        \n",
      "\n",
      "                            \n",
      "                            गाउँमा बिताएका बाल्यकालका स्मरणमध्ये एउटा कुराले अहिले पनि मेरो मगज खलबली रहन्छ। म बसेको गाउँ…\n",
      "                            \n",
      "                        \n",
      "\n",
      "                            \n",
      "                            सन् २०३५ सम्म २८ हजार मेगावाटभन्दा बढी विद्युत् उत्पादनको सरकारी लक्ष्य महत्वकांक्षी नै हो। यसका ला…\n",
      "                            \n",
      "                        \n",
      "\n",
      "                            \n",
      "                            भारतको नयाँदिल्लीस्थित अल इन्डिया इन्स्टिच्युट अफ मेडिकल साइन्सेस (एम्स)मा कार्यरत नेपाली चिकित्सकह…\n",
      "                            \n",
      "                        \n",
      "\n",
      "                            \n",
      "                            राज्यकोषबाट १० लाख तिरेर राज्यले नागरिक हत्याको जिम्मेवारीबाट उन्मुक्ति पाउन सक्तैन।\n",
      "                            \n",
      "                        \n",
      "\n",
      "                            \n",
      "                            सरकारको गलत आर्थिक एवं शैक्षिक नीतिले विश्वविद्यालयबाट उत्पादित जनशक्ति पलायन उन्मुख छ।\n",
      "                            \n",
      "                        \n",
      "\n",
      "                            \n",
      "                            आँकलनअनुसार हालको मन्दीले फक्रँदै गएका बजार र विकासशील अर्थतन्त्रलाई दूरगामी प्रभाव पार्नेछ।\n",
      "                            \n",
      "                        \n",
      "\n",
      "                            \n",
      "                            विस्तृत शान्ति सम्झौताको १७ वर्ष पूरा भइसक्दा पनि द्वन्द्वपीडितले न्यायको अनुभूति गर्न पाएका छैनन्। …\n",
      "                            \n",
      "                        \n",
      "\n",
      "                            \n",
      "                            दलहरू र सरकारको नेतृत्व नसच्चिए सजाय जनताले दिनेछन् ।\n",
      "                            \n",
      "                        \n",
      "\n",
      "                            \n",
      "                            नेपाल स्टक एक्सचेन्ज लिमिटेड (नेप्से) मा विद्युत् प्रवद्र्धक कम्पनी सूचीकरण हुने संख्या बढ्दो छ। आजको…\n",
      "                            \n",
      "                        \n",
      "\n",
      "                            \n",
      "                            शान्ति सम्झौता भएको १७ वर्ष भयो। तर, द्वन्द्वले छाडेका धेरै समस्या अहिलेसम्म यथावत छन्। द्वन्द्वको अव…\n",
      "                            \n",
      "                        \n",
      "\n",
      "                            \n",
      "                            सरकारका हरेक सूचकांकको नकारात्मक ब्यारोमिटर उत्कर्षमा पुगेको छ।\n",
      "                            \n",
      "                        \n",
      "\n",
      "                            \n",
      "                            दक्षिण कोरियाले अन्य केही मुलुकमा यस्ता समस्या आउँदा कोटा नै खारेज या केही वर्ष परीक्षा नै नलिएका उदाहरण छन्।\n",
      "                            \n",
      "                        \n",
      "\n",
      "                            \n",
      "                            पुँजीवादमा ‘उपभोग’ नै असमानताको ठूलो चालक हो। पुँजीवाद लोभमा फैलिन्छ र चुसेर बाँचिरहन्छ।\n",
      "                            \n",
      "                        \n",
      "\n",
      "                            \n",
      "                            नेपालमा अस्वस्थकर जीवनशैलीका कारण नसर्ने रोग बढ्दै गएको छ। जसमा हरेक १० मध्ये एक व्यक्तिमा मधुमे…\n",
      "                            \n",
      "                        \n",
      "\n",
      "                            \n",
      "                            कक्षा ५ मा पढ्दै गरेका सबल स्कुलमा रहेका बेलाबाहेक अरु समय मोबाइल बिना बस्नै सक्दैनन्। मोबाइलमा…\n",
      "                            \n",
      "                        \n",
      "\n",
      "                            \n",
      "                            काठमाडौं : गाजामा हमाससँग इजराइलको युद्ध दिनप्रतिदिन रक्तपातपूर्ण बन्दै गइरहेको छ।बेन्यामिन नेत…\n",
      "                            \n",
      "                        \n",
      "\n",
      "                            \n",
      "                            विगतका राजनीतिक विचार ‘आउटडेटेड’ भएका हुन् भने नयाँ विचारहरूको खोजी गरी अगाडि बढ्नुपर्छ।\n",
      "                            \n",
      "                        \n"
     ]
    }
   ],
   "source": [
    "summary = soup.find_all('div', class_='card__desc')\n",
    "\n",
    "for i in summary:\n",
    "    # print(i.prettify())\n",
    "    sum = i.text\n",
    "    print(sum)"
   ]
  },
  {
   "cell_type": "markdown",
   "id": "78d1fc2f-e6cb-49a1-b4aa-14045e480d9e",
   "metadata": {},
   "source": [
    "<h3>Extract link only </h3>"
   ]
  },
  {
   "cell_type": "code",
   "execution_count": 17,
   "id": "b6a11fe2-eaf2-45df-b3f0-b943c1a80ed9",
   "metadata": {},
   "outputs": [
    {
     "name": "stdout",
     "output_type": "stream",
     "text": [
      "/story/449734/\n",
      "/story/449733/\n",
      "/story/449623/\n",
      "/story/449625/\n",
      "/story/449559/\n",
      "/story/449555/\n",
      "/story/449554/\n",
      "/story/449486/\n",
      "/story/449485/\n",
      "/story/449478/\n",
      "/story/449429/\n",
      "/story/449425/\n",
      "/story/449421/\n",
      "/story/449414/\n",
      "/story/449374/\n",
      "/story/449317/\n",
      "/story/449316/\n",
      "/story/449290/\n",
      "/story/449244/\n",
      "/story/449196/\n",
      "/story/449790/\n",
      "/story/449729/\n",
      "/story/449746/\n",
      "/story/449732/\n"
     ]
    }
   ],
   "source": [
    "article =  soup.find_all('div', class_='grid__card')\n",
    "\n",
    "for i in article:\n",
    "    # print(i.prettify())\n",
    "    link = i.h3.a['href']\n",
    "    print(link)"
   ]
  },
  {
   "cell_type": "code",
   "execution_count": 9,
   "id": "a5aa29a2-08ea-48d1-8937-4f90fed3d688",
   "metadata": {},
   "outputs": [],
   "source": [
    "import requests\n",
    "from urllib.parse import urljoin\n",
    "from bs4 import BeautifulSoup\n",
    "import csv\n",
    "\n",
    "# Base URL of the website\n",
    "base_url = \"https://annapurnapost.com\"\n",
    "\n",
    "r = requests.get('https://annapurnapost.com/category/opinion/')\n",
    "soup = BeautifulSoup(r.text, 'lxml')\n",
    "\n",
    "# Create a CSV file for writing\n",
    "with open('article_data.csv', mode='w', newline='', encoding='utf-8') as csv_file:\n",
    "    writer = csv.writer(csv_file)\n",
    "    \n",
    "    # Write the header row\n",
    "    writer.writerow(['Title', 'Linked Summary', 'Full Link'])\n",
    "\n",
    "    # Iterate through the links and visit each page\n",
    "    article = soup.find_all('div', class_='grid__card')\n",
    "    for i in article:\n",
    "        relative_link = i.h3.a['href']\n",
    "        # print(relative_link)\n",
    "        full_link = urljoin(base_url, relative_link)  # Concatenate base URL with relative link\n",
    "        # print(full_link)\n",
    "\n",
    "        # Send an HTTP GET request to the linked page\n",
    "        response = requests.get(full_link)\n",
    "        # print(response)\n",
    "  \n",
    "        if response.status_code == 200:\n",
    "            # Parse the content of the linked page using BeautifulSoup\n",
    "            linked_soup = BeautifulSoup(response.content, 'html.parser')\n",
    "\n",
    "            # Extract the title and summary from the linked page\n",
    "            linked_title = linked_soup.find('div', class_='news__details-titles').h1.text\n",
    "            # print(linked_title)\n",
    "            linked_summary = linked_soup.find('div', class_='news__details').text.strip()\n",
    "            # print(linked_summary)\n",
    "            # Write the data to the CSV file\n",
    "            writer.writerow([linked_title, linked_summary, full_link])\n",
    "\n",
    "        else:\n",
    "            print(\"Failed to retrieve the linked page:\", response.status_code)\n"
   ]
  },
  {
   "cell_type": "code",
   "execution_count": null,
   "id": "0d87ef2b-ee2c-4064-82c5-79781cbd47dd",
   "metadata": {},
   "outputs": [],
   "source": []
  },
  {
   "cell_type": "code",
   "execution_count": 25,
   "id": "14c78633-f37b-4868-a325-ea54fbfe41d1",
   "metadata": {},
   "outputs": [
    {
     "name": "stdout",
     "output_type": "stream",
     "text": [
      "Collecting pandas\n",
      "  Downloading pandas-2.1.4-cp39-cp39-win_amd64.whl.metadata (18 kB)\n",
      "Collecting numpy<2,>=1.22.4 (from pandas)\n",
      "  Downloading numpy-1.26.3-cp39-cp39-win_amd64.whl.metadata (61 kB)\n",
      "     ---------------------------------------- 0.0/61.2 kB ? eta -:--:--\n",
      "     ------------------------------- ------ 51.2/61.2 kB 871.5 kB/s eta 0:00:01\n",
      "     -------------------------------------- 61.2/61.2 kB 809.0 kB/s eta 0:00:00\n",
      "Requirement already satisfied: python-dateutil>=2.8.2 in c:\\users\\us\\documents\\scrapper\\env\\lib\\site-packages (from pandas) (2.8.2)\n",
      "Collecting pytz>=2020.1 (from pandas)\n",
      "  Downloading pytz-2023.3.post1-py2.py3-none-any.whl.metadata (22 kB)\n",
      "Collecting tzdata>=2022.1 (from pandas)\n",
      "  Using cached tzdata-2023.4-py2.py3-none-any.whl.metadata (1.4 kB)\n",
      "Requirement already satisfied: six>=1.5 in c:\\users\\us\\documents\\scrapper\\env\\lib\\site-packages (from python-dateutil>=2.8.2->pandas) (1.16.0)\n",
      "Downloading pandas-2.1.4-cp39-cp39-win_amd64.whl (10.8 MB)\n",
      "   ---------------------------------------- 0.0/10.8 MB ? eta -:--:--\n",
      "   ---------------------------------------- 0.1/10.8 MB 2.4 MB/s eta 0:00:05\n",
      "   - -------------------------------------- 0.4/10.8 MB 3.6 MB/s eta 0:00:03\n",
      "   -- ------------------------------------- 0.7/10.8 MB 4.4 MB/s eta 0:00:03\n",
      "   --- ------------------------------------ 1.0/10.8 MB 4.7 MB/s eta 0:00:03\n",
      "   ---- ----------------------------------- 1.3/10.8 MB 5.2 MB/s eta 0:00:02\n",
      "   ----- ---------------------------------- 1.6/10.8 MB 5.3 MB/s eta 0:00:02\n",
      "   ------- -------------------------------- 1.9/10.8 MB 5.5 MB/s eta 0:00:02\n",
      "   -------- ------------------------------- 2.2/10.8 MB 5.8 MB/s eta 0:00:02\n",
      "   --------- ------------------------------ 2.5/10.8 MB 5.9 MB/s eta 0:00:02\n",
      "   ---------- ----------------------------- 2.9/10.8 MB 5.9 MB/s eta 0:00:02\n",
      "   ----------- ---------------------------- 3.2/10.8 MB 5.9 MB/s eta 0:00:02\n",
      "   ------------ --------------------------- 3.5/10.8 MB 6.0 MB/s eta 0:00:02\n",
      "   ------------- -------------------------- 3.8/10.8 MB 6.0 MB/s eta 0:00:02\n",
      "   -------------- ------------------------- 4.0/10.8 MB 6.0 MB/s eta 0:00:02\n",
      "   ---------------- ----------------------- 4.3/10.8 MB 6.0 MB/s eta 0:00:02\n",
      "   ----------------- ---------------------- 4.6/10.8 MB 6.0 MB/s eta 0:00:02\n",
      "   ------------------ --------------------- 4.9/10.8 MB 6.0 MB/s eta 0:00:01\n",
      "   ------------------- -------------------- 5.2/10.8 MB 6.1 MB/s eta 0:00:01\n",
      "   -------------------- ------------------- 5.5/10.8 MB 6.1 MB/s eta 0:00:01\n",
      "   --------------------- ------------------ 5.8/10.8 MB 6.1 MB/s eta 0:00:01\n",
      "   ---------------------- ----------------- 6.1/10.8 MB 6.1 MB/s eta 0:00:01\n",
      "   ----------------------- ---------------- 6.4/10.8 MB 6.1 MB/s eta 0:00:01\n",
      "   ------------------------ --------------- 6.7/10.8 MB 6.1 MB/s eta 0:00:01\n",
      "   ------------------------- -------------- 7.0/10.8 MB 6.1 MB/s eta 0:00:01\n",
      "   --------------------------- ------------ 7.3/10.8 MB 6.2 MB/s eta 0:00:01\n",
      "   ---------------------------- ----------- 7.6/10.8 MB 6.2 MB/s eta 0:00:01\n",
      "   ----------------------------- ---------- 7.9/10.8 MB 6.2 MB/s eta 0:00:01\n",
      "   ------------------------------ --------- 8.2/10.8 MB 6.2 MB/s eta 0:00:01\n",
      "   ------------------------------- -------- 8.5/10.8 MB 6.2 MB/s eta 0:00:01\n",
      "   -------------------------------- ------- 8.8/10.8 MB 6.2 MB/s eta 0:00:01\n",
      "   --------------------------------- ------ 9.1/10.8 MB 6.2 MB/s eta 0:00:01\n",
      "   ---------------------------------- ----- 9.4/10.8 MB 6.2 MB/s eta 0:00:01\n",
      "   ----------------------------------- ---- 9.7/10.8 MB 6.2 MB/s eta 0:00:01\n",
      "   ------------------------------------- -- 10.0/10.8 MB 6.2 MB/s eta 0:00:01\n",
      "   -------------------------------------- - 10.3/10.8 MB 6.3 MB/s eta 0:00:01\n",
      "   ---------------------------------------  10.6/10.8 MB 6.4 MB/s eta 0:00:01\n",
      "   ---------------------------------------  10.8/10.8 MB 6.4 MB/s eta 0:00:01\n",
      "   ---------------------------------------- 10.8/10.8 MB 6.1 MB/s eta 0:00:00\n",
      "Downloading numpy-1.26.3-cp39-cp39-win_amd64.whl (15.8 MB)\n",
      "   ---------------------------------------- 0.0/15.8 MB ? eta -:--:--\n",
      "    --------------------------------------- 0.3/15.8 MB 8.0 MB/s eta 0:00:02\n",
      "   - -------------------------------------- 0.6/15.8 MB 7.0 MB/s eta 0:00:03\n",
      "   -- ------------------------------------- 0.9/15.8 MB 6.9 MB/s eta 0:00:03\n",
      "   -- ------------------------------------- 1.1/15.8 MB 6.3 MB/s eta 0:00:03\n",
      "   --- ------------------------------------ 1.4/15.8 MB 6.4 MB/s eta 0:00:03\n",
      "   ---- ----------------------------------- 1.7/15.8 MB 6.5 MB/s eta 0:00:03\n",
      "   ----- ---------------------------------- 2.0/15.8 MB 6.7 MB/s eta 0:00:03\n",
      "   ----- ---------------------------------- 2.3/15.8 MB 6.4 MB/s eta 0:00:03\n",
      "   ------ --------------------------------- 2.6/15.8 MB 6.4 MB/s eta 0:00:03\n",
      "   ------- -------------------------------- 2.9/15.8 MB 6.7 MB/s eta 0:00:02\n",
      "   -------- ------------------------------- 3.2/15.8 MB 6.6 MB/s eta 0:00:02\n",
      "   -------- ------------------------------- 3.5/15.8 MB 6.6 MB/s eta 0:00:02\n",
      "   --------- ------------------------------ 3.8/15.8 MB 6.6 MB/s eta 0:00:02\n",
      "   ---------- ----------------------------- 4.1/15.8 MB 6.6 MB/s eta 0:00:02\n",
      "   ----------- ---------------------------- 4.4/15.8 MB 6.5 MB/s eta 0:00:02\n",
      "   ----------- ---------------------------- 4.7/15.8 MB 6.6 MB/s eta 0:00:02\n",
      "   ------------ --------------------------- 5.1/15.8 MB 6.6 MB/s eta 0:00:02\n",
      "   ------------- -------------------------- 5.3/15.8 MB 6.6 MB/s eta 0:00:02\n",
      "   -------------- ------------------------- 5.7/15.8 MB 6.6 MB/s eta 0:00:02\n",
      "   --------------- ------------------------ 6.0/15.8 MB 6.6 MB/s eta 0:00:02\n",
      "   --------------- ------------------------ 6.2/15.8 MB 6.5 MB/s eta 0:00:02\n",
      "   ---------------- ----------------------- 6.4/15.8 MB 6.5 MB/s eta 0:00:02\n",
      "   ---------------- ----------------------- 6.4/15.8 MB 6.5 MB/s eta 0:00:02\n",
      "   ------------------ --------------------- 7.2/15.8 MB 6.5 MB/s eta 0:00:02\n",
      "   ------------------ --------------------- 7.5/15.8 MB 6.5 MB/s eta 0:00:02\n",
      "   ------------------- -------------------- 7.8/15.8 MB 6.5 MB/s eta 0:00:02\n",
      "   -------------------- ------------------- 8.0/15.8 MB 6.5 MB/s eta 0:00:02\n",
      "   --------------------- ------------------ 8.3/15.8 MB 6.5 MB/s eta 0:00:02\n",
      "   --------------------- ------------------ 8.6/15.8 MB 6.5 MB/s eta 0:00:02\n",
      "   ---------------------- ----------------- 8.9/15.8 MB 6.5 MB/s eta 0:00:02\n",
      "   ----------------------- ---------------- 9.2/15.8 MB 6.5 MB/s eta 0:00:02\n",
      "   ------------------------ --------------- 9.5/15.8 MB 6.5 MB/s eta 0:00:01\n",
      "   ------------------------ --------------- 9.8/15.8 MB 6.5 MB/s eta 0:00:01\n",
      "   ------------------------- -------------- 10.1/15.8 MB 6.5 MB/s eta 0:00:01\n",
      "   -------------------------- ------------- 10.4/15.8 MB 6.4 MB/s eta 0:00:01\n",
      "   --------------------------- ------------ 10.7/15.8 MB 6.4 MB/s eta 0:00:01\n",
      "   --------------------------- ------------ 11.0/15.8 MB 6.4 MB/s eta 0:00:01\n",
      "   ---------------------------- ----------- 11.3/15.8 MB 6.4 MB/s eta 0:00:01\n",
      "   ----------------------------- ---------- 11.6/15.8 MB 6.4 MB/s eta 0:00:01\n",
      "   ------------------------------ --------- 11.9/15.8 MB 6.4 MB/s eta 0:00:01\n",
      "   ------------------------------ --------- 12.2/15.8 MB 6.4 MB/s eta 0:00:01\n",
      "   ------------------------------- -------- 12.5/15.8 MB 6.4 MB/s eta 0:00:01\n",
      "   -------------------------------- ------- 12.8/15.8 MB 6.4 MB/s eta 0:00:01\n",
      "   --------------------------------- ------ 13.1/15.8 MB 6.4 MB/s eta 0:00:01\n",
      "   --------------------------------- ------ 13.4/15.8 MB 6.5 MB/s eta 0:00:01\n",
      "   ---------------------------------- ----- 13.6/15.8 MB 6.4 MB/s eta 0:00:01\n",
      "   ----------------------------------- ---- 14.0/15.8 MB 6.4 MB/s eta 0:00:01\n",
      "   ----------------------------------- ---- 14.0/15.8 MB 6.5 MB/s eta 0:00:01\n",
      "   ----------------------------------- ---- 14.0/15.8 MB 6.5 MB/s eta 0:00:01\n",
      "   ----------------------------------- ---- 14.0/15.8 MB 6.5 MB/s eta 0:00:01\n",
      "   ----------------------------------- ---- 14.0/15.8 MB 6.5 MB/s eta 0:00:01\n",
      "   ----------------------------------- ---- 14.0/15.8 MB 6.5 MB/s eta 0:00:01\n",
      "   ----------------------------------- ---- 14.0/15.8 MB 6.5 MB/s eta 0:00:01\n",
      "   ---------------------------------------  15.8/15.8 MB 6.4 MB/s eta 0:00:01\n",
      "   ---------------------------------------  15.8/15.8 MB 6.4 MB/s eta 0:00:01\n",
      "   ---------------------------------------  15.8/15.8 MB 6.4 MB/s eta 0:00:01\n",
      "   ---------------------------------------  15.8/15.8 MB 6.4 MB/s eta 0:00:01\n",
      "   ---------------------------------------  15.8/15.8 MB 6.4 MB/s eta 0:00:01\n",
      "   ---------------------------------------  15.8/15.8 MB 6.4 MB/s eta 0:00:01\n",
      "   ---------------------------------------  15.8/15.8 MB 6.4 MB/s eta 0:00:01\n",
      "   ---------------------------------------  15.8/15.8 MB 6.4 MB/s eta 0:00:01\n",
      "   ---------------------------------------  15.8/15.8 MB 6.4 MB/s eta 0:00:01\n",
      "   ---------------------------------------  15.8/15.8 MB 6.4 MB/s eta 0:00:01\n",
      "   ---------------------------------------  15.8/15.8 MB 6.4 MB/s eta 0:00:01\n",
      "   ---------------------------------------  15.8/15.8 MB 6.4 MB/s eta 0:00:01\n",
      "   ---------------------------------------  15.8/15.8 MB 6.4 MB/s eta 0:00:01\n",
      "   ---------------------------------------  15.8/15.8 MB 6.4 MB/s eta 0:00:01\n",
      "   ---------------------------------------  15.8/15.8 MB 6.4 MB/s eta 0:00:01\n",
      "   ---------------------------------------  15.8/15.8 MB 6.4 MB/s eta 0:00:01\n",
      "   ---------------------------------------  15.8/15.8 MB 6.4 MB/s eta 0:00:01\n",
      "   ---------------------------------------  15.8/15.8 MB 6.4 MB/s eta 0:00:01\n",
      "   ---------------------------------------  15.8/15.8 MB 6.4 MB/s eta 0:00:01\n",
      "   ---------------------------------------  15.8/15.8 MB 6.4 MB/s eta 0:00:01\n",
      "   ---------------------------------------  15.8/15.8 MB 6.4 MB/s eta 0:00:01\n",
      "   ---------------------------------------  15.8/15.8 MB 6.4 MB/s eta 0:00:01\n",
      "   ---------------------------------------  15.8/15.8 MB 6.4 MB/s eta 0:00:01\n",
      "   ---------------------------------------  15.8/15.8 MB 6.4 MB/s eta 0:00:01\n",
      "   ---------------------------------------  15.8/15.8 MB 6.4 MB/s eta 0:00:01\n",
      "   ---------------------------------------  15.8/15.8 MB 6.4 MB/s eta 0:00:01\n",
      "   ---------------------------------------  15.8/15.8 MB 6.4 MB/s eta 0:00:01\n",
      "   ---------------------------------------  15.8/15.8 MB 6.4 MB/s eta 0:00:01\n",
      "   ---------------------------------------  15.8/15.8 MB 6.4 MB/s eta 0:00:01\n",
      "   ---------------------------------------  15.8/15.8 MB 6.4 MB/s eta 0:00:01\n",
      "   ---------------------------------------  15.8/15.8 MB 6.4 MB/s eta 0:00:01\n",
      "   ---------------------------------------  15.8/15.8 MB 6.4 MB/s eta 0:00:01\n",
      "   ---------------------------------------  15.8/15.8 MB 6.4 MB/s eta 0:00:01\n",
      "   ---------------------------------------  15.8/15.8 MB 6.4 MB/s eta 0:00:01\n",
      "   ---------------------------------------  15.8/15.8 MB 6.4 MB/s eta 0:00:01\n",
      "   ---------------------------------------  15.8/15.8 MB 6.4 MB/s eta 0:00:01\n",
      "   ---------------------------------------  15.8/15.8 MB 6.4 MB/s eta 0:00:01\n",
      "   ---------------------------------------  15.8/15.8 MB 6.4 MB/s eta 0:00:01\n",
      "   ---------------------------------------  15.8/15.8 MB 6.4 MB/s eta 0:00:01\n",
      "   ---------------------------------------  15.8/15.8 MB 6.4 MB/s eta 0:00:01\n",
      "   ---------------------------------------  15.8/15.8 MB 6.4 MB/s eta 0:00:01\n",
      "   ---------------------------------------  15.8/15.8 MB 6.4 MB/s eta 0:00:01\n",
      "   ---------------------------------------  15.8/15.8 MB 6.4 MB/s eta 0:00:01\n",
      "   ---------------------------------------  15.8/15.8 MB 6.4 MB/s eta 0:00:01\n",
      "   ---------------------------------------  15.8/15.8 MB 6.4 MB/s eta 0:00:01\n",
      "   ---------------------------------------  15.8/15.8 MB 6.4 MB/s eta 0:00:01\n",
      "   ---------------------------------------  15.8/15.8 MB 6.4 MB/s eta 0:00:01\n",
      "   ---------------------------------------  15.8/15.8 MB 6.4 MB/s eta 0:00:01\n",
      "   ---------------------------------------  15.8/15.8 MB 6.4 MB/s eta 0:00:01\n",
      "   ---------------------------------------  15.8/15.8 MB 6.4 MB/s eta 0:00:01\n",
      "   ---------------------------------------  15.8/15.8 MB 6.4 MB/s eta 0:00:01\n",
      "   ---------------------------------------  15.8/15.8 MB 6.4 MB/s eta 0:00:01\n",
      "   ---------------------------------------  15.8/15.8 MB 6.4 MB/s eta 0:00:01\n",
      "   ---------------------------------------  15.8/15.8 MB 6.4 MB/s eta 0:00:01\n",
      "   ---------------------------------------  15.8/15.8 MB 6.4 MB/s eta 0:00:01\n",
      "   ---------------------------------------  15.8/15.8 MB 6.4 MB/s eta 0:00:01\n",
      "   ---------------------------------------  15.8/15.8 MB 6.4 MB/s eta 0:00:01\n",
      "   ---------------------------------------  15.8/15.8 MB 6.4 MB/s eta 0:00:01\n",
      "   ---------------------------------------  15.8/15.8 MB 6.4 MB/s eta 0:00:01\n",
      "   ---------------------------------------  15.8/15.8 MB 6.4 MB/s eta 0:00:01\n",
      "   ---------------------------------------  15.8/15.8 MB 6.4 MB/s eta 0:00:01\n",
      "   ---------------------------------------  15.8/15.8 MB 6.4 MB/s eta 0:00:01\n",
      "   ---------------------------------------  15.8/15.8 MB 6.4 MB/s eta 0:00:01\n",
      "   ---------------------------------------  15.8/15.8 MB 6.4 MB/s eta 0:00:01\n",
      "   ---------------------------------------  15.8/15.8 MB 6.4 MB/s eta 0:00:01\n",
      "   ---------------------------------------  15.8/15.8 MB 6.4 MB/s eta 0:00:01\n",
      "   ---------------------------------------  15.8/15.8 MB 6.4 MB/s eta 0:00:01\n",
      "   ---------------------------------------  15.8/15.8 MB 6.4 MB/s eta 0:00:01\n",
      "   ---------------------------------------  15.8/15.8 MB 6.4 MB/s eta 0:00:01\n",
      "   ---------------------------------------  15.8/15.8 MB 6.4 MB/s eta 0:00:01\n",
      "   ---------------------------------------  15.8/15.8 MB 6.4 MB/s eta 0:00:01\n",
      "   ---------------------------------------  15.8/15.8 MB 6.4 MB/s eta 0:00:01\n",
      "   ---------------------------------------  15.8/15.8 MB 6.4 MB/s eta 0:00:01\n",
      "   ---------------------------------------  15.8/15.8 MB 6.4 MB/s eta 0:00:01\n",
      "   ---------------------------------------  15.8/15.8 MB 6.4 MB/s eta 0:00:01\n",
      "   ---------------------------------------  15.8/15.8 MB 6.4 MB/s eta 0:00:01\n",
      "   ---------------------------------------  15.8/15.8 MB 6.4 MB/s eta 0:00:01\n",
      "   ---------------------------------------  15.8/15.8 MB 6.4 MB/s eta 0:00:01\n",
      "   ---------------------------------------  15.8/15.8 MB 6.4 MB/s eta 0:00:01\n",
      "   ---------------------------------------  15.8/15.8 MB 6.4 MB/s eta 0:00:01\n",
      "   ---------------------------------------  15.8/15.8 MB 6.4 MB/s eta 0:00:01\n",
      "   ---------------------------------------  15.8/15.8 MB 6.4 MB/s eta 0:00:01\n",
      "   ---------------------------------------  15.8/15.8 MB 6.4 MB/s eta 0:00:01\n",
      "   ---------------------------------------  15.8/15.8 MB 6.4 MB/s eta 0:00:01\n",
      "   ---------------------------------------  15.8/15.8 MB 6.4 MB/s eta 0:00:01\n",
      "   ---------------------------------------  15.8/15.8 MB 6.4 MB/s eta 0:00:01\n",
      "   ---------------------------------------  15.8/15.8 MB 6.4 MB/s eta 0:00:01\n",
      "   ---------------------------------------  15.8/15.8 MB 6.4 MB/s eta 0:00:01\n",
      "   ---------------------------------------  15.8/15.8 MB 6.4 MB/s eta 0:00:01\n",
      "   ---------------------------------------  15.8/15.8 MB 6.4 MB/s eta 0:00:01\n",
      "   ---------------------------------------  15.8/15.8 MB 6.4 MB/s eta 0:00:01\n",
      "   ---------------------------------------  15.8/15.8 MB 6.4 MB/s eta 0:00:01\n",
      "   ---------------------------------------  15.8/15.8 MB 6.4 MB/s eta 0:00:01\n",
      "   ---------------------------------------  15.8/15.8 MB 6.4 MB/s eta 0:00:01\n",
      "   ---------------------------------------  15.8/15.8 MB 6.4 MB/s eta 0:00:01\n",
      "   ---------------------------------------  15.8/15.8 MB 6.4 MB/s eta 0:00:01\n",
      "   ---------------------------------------  15.8/15.8 MB 6.4 MB/s eta 0:00:01\n",
      "   ---------------------------------------  15.8/15.8 MB 6.4 MB/s eta 0:00:01\n",
      "   ---------------------------------------  15.8/15.8 MB 6.4 MB/s eta 0:00:01\n",
      "   ---------------------------------------  15.8/15.8 MB 6.4 MB/s eta 0:00:01\n",
      "   ---------------------------------------  15.8/15.8 MB 6.4 MB/s eta 0:00:01\n",
      "   ---------------------------------------  15.8/15.8 MB 6.4 MB/s eta 0:00:01\n",
      "   ---------------------------------------  15.8/15.8 MB 6.4 MB/s eta 0:00:01\n",
      "   ---------------------------------------  15.8/15.8 MB 6.4 MB/s eta 0:00:01\n",
      "   ---------------------------------------- 15.8/15.8 MB 1.6 MB/s eta 0:00:00\n",
      "Downloading pytz-2023.3.post1-py2.py3-none-any.whl (502 kB)\n",
      "   ---------------------------------------- 0.0/502.5 kB ? eta -:--:--\n",
      "   ----------------------- ---------------- 297.0/502.5 kB 6.1 MB/s eta 0:00:01\n",
      "   ---------------------------------------  501.8/502.5 kB 6.3 MB/s eta 0:00:01\n",
      "   ---------------------------------------  501.8/502.5 kB 6.3 MB/s eta 0:00:01\n",
      "   ---------------------------------------  501.8/502.5 kB 6.3 MB/s eta 0:00:01\n",
      "   ---------------------------------------  501.8/502.5 kB 6.3 MB/s eta 0:00:01\n",
      "   ---------------------------------------  501.8/502.5 kB 6.3 MB/s eta 0:00:01\n",
      "   ---------------------------------------- 502.5/502.5 kB 1.7 MB/s eta 0:00:00\n",
      "Using cached tzdata-2023.4-py2.py3-none-any.whl (346 kB)\n",
      "Installing collected packages: pytz, tzdata, numpy, pandas\n",
      "Successfully installed numpy-1.26.3 pandas-2.1.4 pytz-2023.3.post1 tzdata-2023.4\n"
     ]
    }
   ],
   "source": [
    "!pip install pandas"
   ]
  },
  {
   "cell_type": "code",
   "execution_count": 10,
   "id": "efcea3ff-cce0-45cf-8324-ae1fc6df6880",
   "metadata": {},
   "outputs": [],
   "source": [
    "import pandas as pd\n",
    "\n",
    "df = pd.read_csv(\"article_data.csv\")"
   ]
  },
  {
   "cell_type": "code",
   "execution_count": 16,
   "id": "c3556028-9ecd-455d-b3fb-99a9a20416d6",
   "metadata": {},
   "outputs": [
    {
     "name": "stdout",
     "output_type": "stream",
     "text": [
      "<class 'pandas.core.frame.DataFrame'>\n",
      "RangeIndex: 24 entries, 0 to 23\n",
      "Data columns (total 3 columns):\n",
      " #   Column          Non-Null Count  Dtype \n",
      "---  ------          --------------  ----- \n",
      " 0   Title           24 non-null     object\n",
      " 1   Linked Summary  24 non-null     object\n",
      " 2   Full Link       24 non-null     object\n",
      "dtypes: object(3)\n",
      "memory usage: 704.0+ bytes\n"
     ]
    }
   ],
   "source": [
    "df.info()"
   ]
  },
  {
   "cell_type": "code",
   "execution_count": 15,
   "id": "87756e2e-55cd-4e3d-9c50-280b974169ec",
   "metadata": {},
   "outputs": [
    {
     "data": {
      "text/plain": [
       "'https://annapurnapost.com/story/449800/'"
      ]
     },
     "execution_count": 15,
     "metadata": {},
     "output_type": "execute_result"
    }
   ],
   "source": [
    "df[\"Full Link\"][0]"
   ]
  },
  {
   "cell_type": "code",
   "execution_count": null,
   "id": "2b21a88e-17b3-424b-9c3c-a19cc3f62b59",
   "metadata": {},
   "outputs": [],
   "source": []
  }
 ],
 "metadata": {
  "kernelspec": {
   "display_name": "Python 3 (ipykernel)",
   "language": "python",
   "name": "python3"
  },
  "language_info": {
   "codemirror_mode": {
    "name": "ipython",
    "version": 3
   },
   "file_extension": ".py",
   "mimetype": "text/x-python",
   "name": "python",
   "nbconvert_exporter": "python",
   "pygments_lexer": "ipython3",
   "version": "3.9.13"
  }
 },
 "nbformat": 4,
 "nbformat_minor": 5
}
