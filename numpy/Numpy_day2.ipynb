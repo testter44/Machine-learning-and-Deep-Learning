{
 "cells": [
  {
   "cell_type": "markdown",
   "id": "3b7d1a8d-f398-4d17-ace4-ac65c49d674a",
   "metadata": {},
   "source": [
    "<h1>Numpy</h1>\n"
   ]
  },
  {
   "cell_type": "markdown",
   "id": "5bc30f24-9797-41c7-b039-ec779579116d",
   "metadata": {},
   "source": [
    "<h2 style=\"color:blue;\">Introduction</h2> \n",
    "\n",
    "* NumPy is a Python library used for working with arrays​ \n",
    "    \n",
    " * NumPy was created in 2005 by Travis Oliphant.​ \n",
    "    \n",
    "* It is open source​ \n",
    "    \n",
    "* The array object in NumPy is called ndarray\n",
    "\n",
    "* NumPy stands for Numerical Python"
   ]
  },
  {
   "cell_type": "markdown",
   "id": "3f8bb04b-01af-4f45-82ee-dbb561f1cc6d",
   "metadata": {},
   "source": [
    "<h3 style=\"color:red;\">Why use numpy?</h3>\n",
    "\n",
    "* has array object which is 50x faster than Python list\n",
    "  \n",
    "* functions for working in domain of linear algebra, fourier transform, and matrices​\n",
    "  \n",
    "* the array object in NumPy is called ndarray"
   ]
  },
  {
   "cell_type": "markdown",
   "id": "771ece73-38c9-4de4-bf38-c436a27b446c",
   "metadata": {},
   "source": [
    "<h3 style=\"color:red;\"> Why numpy is faster? </h3>\n",
    "\n",
    " * NumPy arrays are stored at one continuous place in memory unlike lists (locality of reference)\n",
    "   \n",
    " * written in C or C++ for fast computation (python is partially used)"
   ]
  },
  {
   "cell_type": "code",
   "execution_count": 1,
   "id": "c9fe3c35-bec9-41ee-88a5-7843c8bee0bf",
   "metadata": {},
   "outputs": [
    {
     "name": "stdout",
     "output_type": "stream",
     "text": [
      "Requirement already satisfied: numpy in /home/ai-sajjan/anaconda3/envs/nmt/lib/python3.8/site-packages (1.24.4)\n",
      "\u001b[33mDEPRECATION: omegaconf 2.0.6 has a non-standard dependency specifier PyYAML>=5.1.*. pip 23.3 will enforce this behaviour change. A possible replacement is to upgrade to a newer version of omegaconf or contact the author to suggest that they release a version with a conforming dependency specifiers. Discussion can be found at https://github.com/pypa/pip/issues/12063\u001b[0m\u001b[33m\n",
      "\u001b[0m"
     ]
    }
   ],
   "source": [
    "#install numpy\n",
    "! pip install numpy"
   ]
  },
  {
   "cell_type": "code",
   "execution_count": 11,
   "id": "1e912f26-c734-47d3-815f-6a799600cce5",
   "metadata": {},
   "outputs": [
    {
     "name": "stdout",
     "output_type": "stream",
     "text": [
      "1.24.4\n"
     ]
    }
   ],
   "source": [
    "#check numpy version \n",
    "\n",
    "import numpy as np\n",
    "\n",
    "print(np.__version__)"
   ]
  },
  {
   "cell_type": "code",
   "execution_count": 3,
   "id": "180ea848-40b1-45e8-a54f-c5c5f2bcb080",
   "metadata": {},
   "outputs": [
    {
     "name": "stdout",
     "output_type": "stream",
     "text": [
      "[1 2 3 4 5]\n"
     ]
    }
   ],
   "source": [
    "import numpy\n",
    "\n",
    "arr = numpy.array([1, 2, 3, 4, 5])\n",
    "\n",
    "print(arr)"
   ]
  },
  {
   "cell_type": "code",
   "execution_count": 10,
   "id": "e0e606ed-2210-4ec1-838e-767d9d5c879d",
   "metadata": {},
   "outputs": [
    {
     "name": "stdout",
     "output_type": "stream",
     "text": [
      "[1 2 3 4 5]\n"
     ]
    },
    {
     "data": {
      "text/plain": [
       "numpy.ndarray"
      ]
     },
     "execution_count": 10,
     "metadata": {},
     "output_type": "execute_result"
    }
   ],
   "source": [
    " # NumPy is usually imported under the np alias  \n",
    "# In Python alias are an alternate name for referring to the same thing\n",
    "\n",
    "import numpy as np \n",
    "\n",
    "arr = np.array([1, 2, 3, 4, 5])\n",
    "\n",
    "print(arr)\n",
    "type(arr)"
   ]
  },
  {
   "cell_type": "markdown",
   "id": "6bc2ce54-fcbb-4ec1-bb23-bd61e1dfbb6f",
   "metadata": {},
   "source": [
    "<h3 style=\"color:red;\"> Dimensions in Arrays </h3>\n",
    "\n",
    "<h3 style=\"color:red;\"> 0-D Arrays </h3>\n"
   ]
  },
  {
   "cell_type": "code",
   "execution_count": 26,
   "id": "0be51017-d07a-4a7b-8711-4b3a992645ea",
   "metadata": {},
   "outputs": [
    {
     "name": "stdout",
     "output_type": "stream",
     "text": [
      "42\n",
      "The dimension of the above array is : 0\n"
     ]
    }
   ],
   "source": [
    "import numpy as np\n",
    "\n",
    "arr = np.array(42)\n",
    "\n",
    "print(arr)\n",
    "\n",
    "\n",
    "print(\"The dimension of the above array is :\", arr.ndim)"
   ]
  },
  {
   "cell_type": "markdown",
   "id": "e34e13b5-e4da-41e3-8cd3-d48aab24f67a",
   "metadata": {},
   "source": [
    "<h3 style=\"color:red;\"> 1-D Arrays </h3>"
   ]
  },
  {
   "cell_type": "code",
   "execution_count": 25,
   "id": "570319f8-d904-441d-91e7-ee3b1b1089c6",
   "metadata": {},
   "outputs": [
    {
     "name": "stdout",
     "output_type": "stream",
     "text": [
      "[1 2 3 4 5]\n",
      "The dimension of the above array is : 1\n"
     ]
    }
   ],
   "source": [
    "import numpy as np\n",
    "\n",
    "arr = np.array([1, 2, 3, 4, 5])\n",
    "\n",
    "print(arr)\n",
    "\n",
    "\n",
    "print(\"The dimension of the above array is :\", arr.ndim)"
   ]
  },
  {
   "cell_type": "code",
   "execution_count": 59,
   "id": "58b51713-71d9-4694-bc97-53a66693ef79",
   "metadata": {},
   "outputs": [
    {
     "name": "stdout",
     "output_type": "stream",
     "text": [
      "2\n"
     ]
    }
   ],
   "source": [
    "#access 1-D array\n",
    "\n",
    "print(arr[1])"
   ]
  },
  {
   "cell_type": "code",
   "execution_count": 16,
   "id": "38d3e301-53df-4da3-a9fc-cebec1c2d481",
   "metadata": {},
   "outputs": [
    {
     "data": {
      "text/plain": [
       "array([3, 4])"
      ]
     },
     "execution_count": 16,
     "metadata": {},
     "output_type": "execute_result"
    }
   ],
   "source": [
    "#slicing 1-D array\n",
    "\n",
    "arr[-3:-1] # arr[1:3]   #arr[-3:-1]"
   ]
  },
  {
   "cell_type": "markdown",
   "id": "9bba52ce-2ad8-4f1d-ae40-582cb0549a87",
   "metadata": {},
   "source": [
    "<h3 style=\"color:red;\"> 2-D Arrays </h3>"
   ]
  },
  {
   "cell_type": "code",
   "execution_count": 17,
   "id": "ff3b3405-e7ed-4605-a5ae-9f9f424e935f",
   "metadata": {},
   "outputs": [
    {
     "name": "stdout",
     "output_type": "stream",
     "text": [
      "[[1 2 3 5 7 9]\n",
      " [4 5 6 1 7 8]]\n",
      "The dimension of the above array is : 2\n"
     ]
    }
   ],
   "source": [
    "import numpy as np\n",
    "\n",
    "arr = np.array([[1, 2, 3, 5, 7, 9], [4, 5, 6,1, 7, 8]])\n",
    "\n",
    "print(arr)\n",
    "\n",
    "print(\"The dimension of the above array is :\", arr.ndim)"
   ]
  },
  {
   "cell_type": "code",
   "execution_count": 30,
   "id": "88051571-686e-420a-bf6b-28616c82ce57",
   "metadata": {},
   "outputs": [
    {
     "name": "stdout",
     "output_type": "stream",
     "text": [
      "[5]\n"
     ]
    }
   ],
   "source": [
    "#access 2-D array\n",
    "print(arr[1, 1:2])\n"
   ]
  },
  {
   "cell_type": "code",
   "execution_count": 31,
   "id": "9d4f4e35-7073-430a-a02f-edc1da15ee39",
   "metadata": {},
   "outputs": [
    {
     "data": {
      "text/plain": [
       "array([5, 6])"
      ]
     },
     "execution_count": 31,
     "metadata": {},
     "output_type": "execute_result"
    }
   ],
   "source": [
    "#slicing of 2-D array\n",
    "arr[1, 1:3]"
   ]
  },
  {
   "cell_type": "code",
   "execution_count": null,
   "id": "cb8b9d00",
   "metadata": {},
   "outputs": [],
   "source": []
  },
  {
   "cell_type": "markdown",
   "id": "ed09482a-65ff-44c7-be37-ba646086b3ec",
   "metadata": {},
   "source": [
    "<h3 style=\"color:red;\"> 3-D arrays </h3>"
   ]
  },
  {
   "cell_type": "code",
   "execution_count": 34,
   "id": "d73f98c3-2a60-48f6-a606-764a5ce6b1e0",
   "metadata": {},
   "outputs": [
    {
     "name": "stdout",
     "output_type": "stream",
     "text": [
      "[[[ 1  2  3  6  8]\n",
      "  [ 4  5  6 77  8]]\n",
      "\n",
      " [[ 1  2  3  5  7]\n",
      "  [ 4  5  6  2  4]]]\n",
      "The dimension of the above array is : 3\n"
     ]
    }
   ],
   "source": [
    "import numpy as np\n",
    "\n",
    "arr = np.array([[[1, 2, 3, 6, 8], [4, 5, 6, 77, 8]], [[1, 2, 3, 5, 7], [4, 5, 6, 2, 4]]])\n",
    "\n",
    "print(arr)\n",
    "\n",
    "print(\"The dimension of the above array is :\", arr.ndim)\n"
   ]
  },
  {
   "cell_type": "code",
   "execution_count": 35,
   "id": "c20337a1-3996-49c0-9c8d-08ffebfe1377",
   "metadata": {},
   "outputs": [
    {
     "name": "stdout",
     "output_type": "stream",
     "text": [
      "5\n"
     ]
    }
   ],
   "source": [
    "#access 3-D array\n",
    "print(arr[1,1,1])\n",
    "\n",
    "#negative indexing\n",
    "# print(arr[1,1,-1])"
   ]
  },
  {
   "cell_type": "code",
   "execution_count": 43,
   "id": "75ea1b89-3a11-4c46-b92f-fd0024f748d4",
   "metadata": {},
   "outputs": [
    {
     "name": "stdout",
     "output_type": "stream",
     "text": [
      "[ 5  6 77]\n"
     ]
    }
   ],
   "source": [
    "#slicing 3-D array\n",
    "\n",
    "# print(arr[0, 1, 1:3])\n",
    "print(arr[0, 1, 1:4])"
   ]
  },
  {
   "cell_type": "code",
   "execution_count": null,
   "id": "4f2d3c3d-1dee-48f9-bd36-1aebca465b94",
   "metadata": {},
   "outputs": [],
   "source": []
  },
  {
   "cell_type": "code",
   "execution_count": 46,
   "id": "fd5f255f-c27d-44f5-ac0e-40c8ee1a1c42",
   "metadata": {},
   "outputs": [
    {
     "name": "stdout",
     "output_type": "stream",
     "text": [
      "[[ 3  6 99]]\n"
     ]
    }
   ],
   "source": [
    "#SPECIFY DIMENSION IN ARRAY\n",
    "import numpy as np\n",
    "\n",
    "arr = np.array([3, 6, 99], ndmin=2)\n",
    "print(arr)"
   ]
  },
  {
   "cell_type": "markdown",
   "id": "98e9b745-897d-4961-946e-df4979d268b4",
   "metadata": {},
   "source": [
    "<h3 style=\"color:red;\"> Data Types in Numpy </h3>\n",
    "\n",
    "Numpy as following datatypes:\n",
    "\n",
    "* i - integer\n",
    "* b - boolean\n",
    "* u - unsigned integer\n",
    "* f - float\n",
    "* c - complex float\n",
    "* m - timedelta\n",
    "* M - datetime\n",
    "* O - object\n",
    "* S - string\n",
    "* U - unicode string\n",
    "* V - fixed chunk of memory for other type ( void )    "
   ]
  },
  {
   "cell_type": "code",
   "execution_count": 48,
   "id": "7bce2351-682a-49bf-bd6d-5de6ed868f89",
   "metadata": {},
   "outputs": [
    {
     "name": "stdout",
     "output_type": "stream",
     "text": [
      "int32\n"
     ]
    }
   ],
   "source": [
    "import numpy as np\n",
    "\n",
    "arr = np.array([3, 6, 9, 21, 34, 66, 90])\n",
    "\n",
    "# arr = np.array(['car', 'bus', 'bike'])\n",
    "\n",
    "print(arr.dtype) # checking datatype of array"
   ]
  },
  {
   "cell_type": "code",
   "execution_count": 62,
   "id": "0f5c927e-a1ce-437b-b1e6-597952bbdad4",
   "metadata": {},
   "outputs": [
    {
     "name": "stdout",
     "output_type": "stream",
     "text": [
      "int32\n"
     ]
    }
   ],
   "source": [
    "#Creating Arrays With a Defined Data Type\n",
    "import numpy as np\n",
    "\n",
    "arr = np.array([3, 6, 8, 0, 34, 66, 90], dtype='i')  # dtype allows us to define the expected data type\n",
    "\n",
    "# arr = np.array(['car', 'bus', 'bike'], dtype='S') # dtype allows us to define the expected data type\n",
    "\n",
    "print(arr.dtype) # checking datatype of array"
   ]
  },
  {
   "cell_type": "code",
   "execution_count": null,
   "id": "6870f19d-aa28-4e27-85b2-1ccc2c67c587",
   "metadata": {},
   "outputs": [],
   "source": []
  },
  {
   "cell_type": "markdown",
   "id": "e7cc7dc0-5500-45e7-8cf0-c56b702b6aa1",
   "metadata": {},
   "source": [
    "<h3 style=\"color:red;\"> Converting Data Type on Existing Arrays </h3>\n",
    "The best way to change the data type of an existing array, is to make a copy of the array with the <b>astype()</b> method"
   ]
  },
  {
   "cell_type": "code",
   "execution_count": 65,
   "id": "a1c2839a-0cd1-4c26-8a7f-c712caedc77c",
   "metadata": {},
   "outputs": [
    {
     "name": "stdout",
     "output_type": "stream",
     "text": [
      "The first data type is:  float64\n",
      "The array is : [1 2 3]\n",
      "The changed data type is:  int32\n"
     ]
    }
   ],
   "source": [
    "import numpy as np\n",
    "\n",
    "arr = np.array([1.1, 2.1, 3.1])\n",
    "\n",
    "print(\"The first data type is: \", arr.dtype)\n",
    "\n",
    "newarr = arr.astype('i')\n",
    "\n",
    "print(\"The array is :\", newarr)\n",
    "print(\"The changed data type is: \", newarr.dtype)"
   ]
  },
  {
   "cell_type": "code",
   "execution_count": 68,
   "id": "ba43e344-dd5b-4811-85be-c97236198931",
   "metadata": {},
   "outputs": [
    {
     "name": "stdout",
     "output_type": "stream",
     "text": [
      "[ True False  True]\n",
      "bool\n"
     ]
    }
   ],
   "source": [
    "import numpy as np\n",
    "\n",
    "arr = np.array([1, 0, -3])\n",
    "\n",
    "newarr = arr.astype('bool')\n",
    "\n",
    "print(newarr)\n",
    "print(newarr.dtype)"
   ]
  },
  {
   "cell_type": "markdown",
   "id": "3e08099c-95f7-4057-8252-d7f561ac7abb",
   "metadata": {},
   "source": [
    "<h3 style=\"color:red;\"> NumPy Array Reshaping </h3>\n",
    "\n",
    "* changing the shape of an array\n",
    "* By reshaping we can add or remove dimensions or change number of elements in each dimension"
   ]
  },
  {
   "cell_type": "markdown",
   "id": "6d02e421-f2bc-402e-98a8-b0bd6576d84d",
   "metadata": {},
   "source": [
    "<H4>Reshape From 1-D to 2-D</H4>"
   ]
  },
  {
   "cell_type": "code",
   "execution_count": 79,
   "id": "938331e0-30a6-4f94-bc7e-749b70a4f44d",
   "metadata": {},
   "outputs": [
    {
     "name": "stdout",
     "output_type": "stream",
     "text": [
      "[[ 1  2  3]\n",
      " [ 4  5  6]\n",
      " [ 7  8  9]\n",
      " [10 11 12]]\n"
     ]
    }
   ],
   "source": [
    "import numpy as np\n",
    "\n",
    "arr = np.array([1, 2, 3, 4, 5, 6, 7, 8, 9, 10, 11, 12])\n",
    "\n",
    "newarr = arr.reshape(4, -1)\n",
    "\n",
    "print(newarr)"
   ]
  },
  {
   "cell_type": "markdown",
   "id": "f8c11967-d821-4a53-9752-4efb95108729",
   "metadata": {},
   "source": [
    "<h4>Reshape From 1-D to 3-D </h4>"
   ]
  },
  {
   "cell_type": "code",
   "execution_count": 76,
   "id": "4f6367f5-edc2-49e9-9c02-1c02c1d84e8e",
   "metadata": {},
   "outputs": [
    {
     "name": "stdout",
     "output_type": "stream",
     "text": [
      "[[[ 1  2  3]\n",
      "  [ 4  5  6]]\n",
      "\n",
      " [[ 7  8  9]\n",
      "  [10 11 12]]]\n"
     ]
    }
   ],
   "source": [
    "import numpy as np\n",
    "\n",
    "arr = np.array([1, 2, 3, 4, 5, 6, 7, 8, 9, 10, 11, 12])\n",
    "\n",
    "newarr = arr.reshape(2, 2, -1)  #you can pass -1 to one unknown dimension\n",
    "\n",
    "print(newarr)"
   ]
  },
  {
   "cell_type": "markdown",
   "id": "1893a797-ab12-4dcf-8688-4956bab3f54d",
   "metadata": {},
   "source": [
    "<h4>Reshape From 2-D to 3-D </h4>"
   ]
  },
  {
   "cell_type": "code",
   "execution_count": 83,
   "id": "98ffb195-4535-440f-8208-5848adba4c07",
   "metadata": {},
   "outputs": [
    {
     "name": "stdout",
     "output_type": "stream",
     "text": [
      "(8, 3)\n",
      "[[[1 2 3]\n",
      "  [4 5 6]\n",
      "  [1 2 3]\n",
      "  [4 5 6]]\n",
      "\n",
      " [[1 2 3]\n",
      "  [4 5 6]\n",
      "  [1 2 3]\n",
      "  [4 5 6]]]\n"
     ]
    }
   ],
   "source": [
    "import numpy as np\n",
    "\n",
    "# create a 2D array\n",
    "a = np.array([[1,2,3], [4,5,6], [1,2,3], [4,5,6],[1,2,3], [4,5,6],[1,2,3], [4,5,6]])\n",
    "\n",
    "print(a.shape) \n",
    "# shape of a = (8,3)\n",
    "\n",
    "b = a.reshape(2, 4, -1)\n",
    "# changing the shape, -1 means any number which is suitable\n",
    "\n",
    "print(b) \n",
    "# size of b = (8,3,1)"
   ]
  },
  {
   "cell_type": "markdown",
   "id": "7ffdebc7-c3df-475a-a026-5839c33ec02c",
   "metadata": {},
   "source": [
    "<h3 style=\"color:red;\"> Flattening the arrays </h3>\n",
    "\n",
    "* converting a multidimensional array into a 1D array\n",
    "* we can use reshape(-1)"
   ]
  },
  {
   "cell_type": "code",
   "execution_count": 85,
   "id": "85128136-3935-4c3a-aac9-fcfd143dc573",
   "metadata": {},
   "outputs": [
    {
     "name": "stdout",
     "output_type": "stream",
     "text": [
      "[1 2 3 4 5 6]\n"
     ]
    }
   ],
   "source": [
    "import numpy as np\n",
    "\n",
    "arr = np.array([[[1, 2, 3], [4, 5, 6]]])\n",
    "\n",
    "newarr = arr.reshape(-1)\n",
    "\n",
    "print(newarr)"
   ]
  },
  {
   "cell_type": "code",
   "execution_count": null,
   "id": "4a6a1f29-ddc6-4d32-9aa9-9c1bc5d80f3f",
   "metadata": {},
   "outputs": [],
   "source": []
  },
  {
   "cell_type": "code",
   "execution_count": null,
   "id": "0669ec31-8c8a-4d2b-9da5-6638449a71e4",
   "metadata": {},
   "outputs": [],
   "source": []
  },
  {
   "cell_type": "markdown",
   "id": "51616245-2d75-4712-a747-b4a4b7bbf9ae",
   "metadata": {},
   "source": [
    "<h3 style=\"color:red;\"> NumPy Array Iterating </h3>\n"
   ]
  },
  {
   "cell_type": "code",
   "execution_count": 87,
   "id": "aba4bcba-0906-466d-955d-8e7b5dd61301",
   "metadata": {},
   "outputs": [
    {
     "name": "stdout",
     "output_type": "stream",
     "text": [
      "1\n",
      "2\n",
      "3\n"
     ]
    }
   ],
   "source": [
    "#Iterating 1-D Arrays\n",
    "import numpy as np\n",
    "\n",
    "arr = np.array([1, 2, 3])\n",
    "\n",
    "for x in arr:\n",
    "    print(x)"
   ]
  },
  {
   "cell_type": "code",
   "execution_count": 88,
   "id": "21d2b17c-c1e2-4a05-bac7-f080889c8d75",
   "metadata": {},
   "outputs": [
    {
     "name": "stdout",
     "output_type": "stream",
     "text": [
      "[1 2 3]\n",
      "[4 5 6]\n"
     ]
    }
   ],
   "source": [
    "#Iterating 2-D Arrays\n",
    "import numpy as np\n",
    "\n",
    "arr = np.array([[1, 2, 3], [4, 5, 6]])\n",
    "\n",
    "for x in arr:\n",
    "    print(x)"
   ]
  },
  {
   "cell_type": "code",
   "execution_count": 89,
   "id": "c564fa06-65e0-429c-9a49-aa7555aba191",
   "metadata": {},
   "outputs": [
    {
     "name": "stdout",
     "output_type": "stream",
     "text": [
      "1\n",
      "2\n",
      "3\n",
      "4\n",
      "5\n",
      "6\n"
     ]
    }
   ],
   "source": [
    "import numpy as np\n",
    "\n",
    "arr = np.array([[1, 2, 3], [4, 5, 6]])\n",
    "\n",
    "for x in arr:\n",
    "    for y in x:\n",
    "        print(y)"
   ]
  },
  {
   "cell_type": "code",
   "execution_count": null,
   "id": "28da672a",
   "metadata": {},
   "outputs": [],
   "source": []
  },
  {
   "cell_type": "code",
   "execution_count": null,
   "id": "f8b5286d",
   "metadata": {},
   "outputs": [],
   "source": [
    "arr()"
   ]
  },
  {
   "cell_type": "code",
   "execution_count": 90,
   "id": "d8f15add-e72b-4232-94bd-92fd1c367f90",
   "metadata": {},
   "outputs": [
    {
     "name": "stdout",
     "output_type": "stream",
     "text": [
      "[[1 2 3]\n",
      " [4 5 6]]\n",
      "[[ 7  8  9]\n",
      " [10 11 12]]\n"
     ]
    }
   ],
   "source": [
    "# Iterating 3-D Arrays\n",
    "import numpy as np\n",
    "\n",
    "arr = np.array([[[1, 2, 3], [4, 5, 6]], [[7, 8, 9], [10, 11, 12]]])\n",
    "\n",
    "for x in arr:\n",
    "      print(x)"
   ]
  },
  {
   "cell_type": "code",
   "execution_count": 95,
   "id": "aabf8e38-c37c-4101-a3c1-41e023caca12",
   "metadata": {},
   "outputs": [
    {
     "name": "stdout",
     "output_type": "stream",
     "text": [
      "1\n",
      "2\n",
      "3\n",
      "4\n",
      "5\n",
      "6\n",
      "7\n",
      "8\n",
      "9\n",
      "10\n",
      "11\n",
      "12\n"
     ]
    }
   ],
   "source": [
    "import numpy as np\n",
    "\n",
    "arr = np.array([[[1, 2, 3], [4, 5, 6]], [[7, 8, 9], [10, 11, 12]]])\n",
    "\n",
    "for x in arr:\n",
    "  for y in x:\n",
    "#     print(y)\n",
    "    for z in y:\n",
    "      print(z)"
   ]
  },
  {
   "cell_type": "markdown",
   "id": "5ed8eb1a-fa7f-42ae-8c1b-c3fbf7f1b31d",
   "metadata": {},
   "source": [
    "<h3 style=\"color:red;\"> Joining NumPy Arrays </h3>\n",
    "\n",
    "we join numpy array using <b>concatenate()</b> function"
   ]
  },
  {
   "cell_type": "code",
   "execution_count": 99,
   "id": "9e0c2971-75b5-4dfe-88f9-8b4468fd2e54",
   "metadata": {},
   "outputs": [
    {
     "name": "stdout",
     "output_type": "stream",
     "text": [
      "[1 2 3 4 5 6 4 5 6 7]\n"
     ]
    }
   ],
   "source": [
    "#join 1-D array\n",
    "# Join two 2-D arrays \n",
    "\n",
    "import numpy as np\n",
    "\n",
    "arr1 = np.array([1, 2, 3])\n",
    "\n",
    "arr2 = np.array([4, 5, 6])\n",
    "arr3 = np.array([4, 5, 6, 7])\n",
    "\n",
    "arr = np.concatenate((arr1, arr2, arr3))\n",
    "\n",
    "print(arr)"
   ]
  },
  {
   "cell_type": "code",
   "execution_count": 104,
   "id": "bc1b161a-1fff-45c7-b85d-437a827cfd0b",
   "metadata": {},
   "outputs": [
    {
     "name": "stdout",
     "output_type": "stream",
     "text": [
      "[[1 2 5 6]\n",
      " [3 4 7 8]]\n"
     ]
    }
   ],
   "source": [
    "import numpy as np\n",
    "\n",
    "arr1 = np.array([[1, 2], [3, 4]])\n",
    "\n",
    "arr2 = np.array([[5, 6], [7, 8]])\n",
    "\n",
    "arr = np.concatenate((arr1, arr2), axis=1)\n",
    "\n",
    "print(arr)"
   ]
  },
  {
   "cell_type": "code",
   "execution_count": null,
   "id": "9b1bb069-3445-4b47-a5f5-70e005aa5ca3",
   "metadata": {},
   "outputs": [],
   "source": []
  }
 ],
 "metadata": {
  "kernelspec": {
   "display_name": "Python 3 (ipykernel)",
   "language": "python",
   "name": "python3"
  },
  "language_info": {
   "codemirror_mode": {
    "name": "ipython",
    "version": 3
   },
   "file_extension": ".py",
   "mimetype": "text/x-python",
   "name": "python",
   "nbconvert_exporter": "python",
   "pygments_lexer": "ipython3",
   "version": "3.9.13"
  }
 },
 "nbformat": 4,
 "nbformat_minor": 5
}
