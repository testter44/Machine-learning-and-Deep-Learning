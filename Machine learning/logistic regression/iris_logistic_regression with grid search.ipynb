{
 "cells": [
  {
   "cell_type": "markdown",
   "id": "e38aae73-384f-45e6-be74-fd9ffafd695e",
   "metadata": {},
   "source": [
    "<h1>IRIS DATASET  </h1>"
   ]
  },
  {
   "cell_type": "markdown",
   "id": "dfd835b1-12f1-4b3e-882f-dcb37f33d212",
   "metadata": {},
   "source": [
    "<img src=\"https://editor.analyticsvidhya.com/uploads/51518iris%20img1.png\" alt=\"Flowers in Iris Dataset\" />"
   ]
  },
  {
   "cell_type": "markdown",
   "id": "00519c45-0bdb-4df7-a8e9-ca36afb2e23b",
   "metadata": {},
   "source": [
    "<h3> Import necessary modules </h3>"
   ]
  },
  {
   "cell_type": "code",
   "execution_count": 1,
   "id": "4dece266-74bc-4471-84d5-c08da81b19b3",
   "metadata": {},
   "outputs": [],
   "source": [
    "import pandas as pd\n",
    "import numpy as np\n",
    "import matplotlib.pyplot as plt\n",
    "import seaborn as sns\n",
    "\n",
    "import warnings                       # ignores the warning\n",
    "warnings.simplefilter(\"ignore\")"
   ]
  },
  {
   "cell_type": "markdown",
   "id": "a9a5e985-68f8-48ff-8be6-7ccda140bcc6",
   "metadata": {},
   "source": [
    "<h4> Load dataset </h4>"
   ]
  },
  {
   "cell_type": "code",
   "execution_count": 2,
   "id": "aaef9911-0017-41a3-af33-cfa91b0b6c96",
   "metadata": {},
   "outputs": [],
   "source": [
    "df=pd.read_csv('Iris.csv')"
   ]
  },
  {
   "cell_type": "code",
   "execution_count": 3,
   "id": "72b3730f-6171-4040-a815-3cecd4f27711",
   "metadata": {},
   "outputs": [
    {
     "data": {
      "text/html": [
       "<div>\n",
       "<style scoped>\n",
       "    .dataframe tbody tr th:only-of-type {\n",
       "        vertical-align: middle;\n",
       "    }\n",
       "\n",
       "    .dataframe tbody tr th {\n",
       "        vertical-align: top;\n",
       "    }\n",
       "\n",
       "    .dataframe thead th {\n",
       "        text-align: right;\n",
       "    }\n",
       "</style>\n",
       "<table border=\"1\" class=\"dataframe\">\n",
       "  <thead>\n",
       "    <tr style=\"text-align: right;\">\n",
       "      <th></th>\n",
       "      <th>Id</th>\n",
       "      <th>SepalLengthCm</th>\n",
       "      <th>SepalWidthCm</th>\n",
       "      <th>PetalLengthCm</th>\n",
       "      <th>PetalWidthCm</th>\n",
       "      <th>Species</th>\n",
       "    </tr>\n",
       "  </thead>\n",
       "  <tbody>\n",
       "    <tr>\n",
       "      <th>0</th>\n",
       "      <td>1</td>\n",
       "      <td>5.1</td>\n",
       "      <td>3.5</td>\n",
       "      <td>1.4</td>\n",
       "      <td>0.2</td>\n",
       "      <td>Iris-setosa</td>\n",
       "    </tr>\n",
       "    <tr>\n",
       "      <th>1</th>\n",
       "      <td>2</td>\n",
       "      <td>4.9</td>\n",
       "      <td>3.0</td>\n",
       "      <td>1.4</td>\n",
       "      <td>0.2</td>\n",
       "      <td>Iris-setosa</td>\n",
       "    </tr>\n",
       "    <tr>\n",
       "      <th>2</th>\n",
       "      <td>3</td>\n",
       "      <td>4.7</td>\n",
       "      <td>3.2</td>\n",
       "      <td>1.3</td>\n",
       "      <td>0.2</td>\n",
       "      <td>Iris-setosa</td>\n",
       "    </tr>\n",
       "    <tr>\n",
       "      <th>3</th>\n",
       "      <td>4</td>\n",
       "      <td>4.6</td>\n",
       "      <td>3.1</td>\n",
       "      <td>1.5</td>\n",
       "      <td>0.2</td>\n",
       "      <td>Iris-setosa</td>\n",
       "    </tr>\n",
       "    <tr>\n",
       "      <th>4</th>\n",
       "      <td>5</td>\n",
       "      <td>5.0</td>\n",
       "      <td>3.6</td>\n",
       "      <td>1.4</td>\n",
       "      <td>0.2</td>\n",
       "      <td>Iris-setosa</td>\n",
       "    </tr>\n",
       "  </tbody>\n",
       "</table>\n",
       "</div>"
      ],
      "text/plain": [
       "   Id  SepalLengthCm  SepalWidthCm  PetalLengthCm  PetalWidthCm      Species\n",
       "0   1            5.1           3.5            1.4           0.2  Iris-setosa\n",
       "1   2            4.9           3.0            1.4           0.2  Iris-setosa\n",
       "2   3            4.7           3.2            1.3           0.2  Iris-setosa\n",
       "3   4            4.6           3.1            1.5           0.2  Iris-setosa\n",
       "4   5            5.0           3.6            1.4           0.2  Iris-setosa"
      ]
     },
     "execution_count": 3,
     "metadata": {},
     "output_type": "execute_result"
    }
   ],
   "source": [
    "df.head()"
   ]
  },
  {
   "cell_type": "code",
   "execution_count": 4,
   "id": "6a7d31ec-5b5a-483e-8168-7e22f4241d37",
   "metadata": {},
   "outputs": [
    {
     "name": "stdout",
     "output_type": "stream",
     "text": [
      "<class 'pandas.core.frame.DataFrame'>\n",
      "RangeIndex: 150 entries, 0 to 149\n",
      "Data columns (total 6 columns):\n",
      " #   Column         Non-Null Count  Dtype  \n",
      "---  ------         --------------  -----  \n",
      " 0   Id             150 non-null    int64  \n",
      " 1   SepalLengthCm  150 non-null    float64\n",
      " 2   SepalWidthCm   150 non-null    float64\n",
      " 3   PetalLengthCm  150 non-null    float64\n",
      " 4   PetalWidthCm   150 non-null    float64\n",
      " 5   Species        150 non-null    object \n",
      "dtypes: float64(4), int64(1), object(1)\n",
      "memory usage: 7.2+ KB\n"
     ]
    }
   ],
   "source": [
    "df.info()"
   ]
  },
  {
   "cell_type": "code",
   "execution_count": 5,
   "id": "fb737d68-8996-448c-b880-05da280105d1",
   "metadata": {},
   "outputs": [
    {
     "data": {
      "text/html": [
       "<div>\n",
       "<style scoped>\n",
       "    .dataframe tbody tr th:only-of-type {\n",
       "        vertical-align: middle;\n",
       "    }\n",
       "\n",
       "    .dataframe tbody tr th {\n",
       "        vertical-align: top;\n",
       "    }\n",
       "\n",
       "    .dataframe thead th {\n",
       "        text-align: right;\n",
       "    }\n",
       "</style>\n",
       "<table border=\"1\" class=\"dataframe\">\n",
       "  <thead>\n",
       "    <tr style=\"text-align: right;\">\n",
       "      <th></th>\n",
       "      <th>Id</th>\n",
       "      <th>SepalLengthCm</th>\n",
       "      <th>SepalWidthCm</th>\n",
       "      <th>PetalLengthCm</th>\n",
       "      <th>PetalWidthCm</th>\n",
       "    </tr>\n",
       "  </thead>\n",
       "  <tbody>\n",
       "    <tr>\n",
       "      <th>count</th>\n",
       "      <td>150.000000</td>\n",
       "      <td>150.000000</td>\n",
       "      <td>150.000000</td>\n",
       "      <td>150.000000</td>\n",
       "      <td>150.000000</td>\n",
       "    </tr>\n",
       "    <tr>\n",
       "      <th>mean</th>\n",
       "      <td>75.500000</td>\n",
       "      <td>5.843333</td>\n",
       "      <td>3.054000</td>\n",
       "      <td>3.758667</td>\n",
       "      <td>1.198667</td>\n",
       "    </tr>\n",
       "    <tr>\n",
       "      <th>std</th>\n",
       "      <td>43.445368</td>\n",
       "      <td>0.828066</td>\n",
       "      <td>0.433594</td>\n",
       "      <td>1.764420</td>\n",
       "      <td>0.763161</td>\n",
       "    </tr>\n",
       "    <tr>\n",
       "      <th>min</th>\n",
       "      <td>1.000000</td>\n",
       "      <td>4.300000</td>\n",
       "      <td>2.000000</td>\n",
       "      <td>1.000000</td>\n",
       "      <td>0.100000</td>\n",
       "    </tr>\n",
       "    <tr>\n",
       "      <th>25%</th>\n",
       "      <td>38.250000</td>\n",
       "      <td>5.100000</td>\n",
       "      <td>2.800000</td>\n",
       "      <td>1.600000</td>\n",
       "      <td>0.300000</td>\n",
       "    </tr>\n",
       "    <tr>\n",
       "      <th>50%</th>\n",
       "      <td>75.500000</td>\n",
       "      <td>5.800000</td>\n",
       "      <td>3.000000</td>\n",
       "      <td>4.350000</td>\n",
       "      <td>1.300000</td>\n",
       "    </tr>\n",
       "    <tr>\n",
       "      <th>75%</th>\n",
       "      <td>112.750000</td>\n",
       "      <td>6.400000</td>\n",
       "      <td>3.300000</td>\n",
       "      <td>5.100000</td>\n",
       "      <td>1.800000</td>\n",
       "    </tr>\n",
       "    <tr>\n",
       "      <th>max</th>\n",
       "      <td>150.000000</td>\n",
       "      <td>7.900000</td>\n",
       "      <td>4.400000</td>\n",
       "      <td>6.900000</td>\n",
       "      <td>2.500000</td>\n",
       "    </tr>\n",
       "  </tbody>\n",
       "</table>\n",
       "</div>"
      ],
      "text/plain": [
       "               Id  SepalLengthCm  SepalWidthCm  PetalLengthCm  PetalWidthCm\n",
       "count  150.000000     150.000000    150.000000     150.000000    150.000000\n",
       "mean    75.500000       5.843333      3.054000       3.758667      1.198667\n",
       "std     43.445368       0.828066      0.433594       1.764420      0.763161\n",
       "min      1.000000       4.300000      2.000000       1.000000      0.100000\n",
       "25%     38.250000       5.100000      2.800000       1.600000      0.300000\n",
       "50%     75.500000       5.800000      3.000000       4.350000      1.300000\n",
       "75%    112.750000       6.400000      3.300000       5.100000      1.800000\n",
       "max    150.000000       7.900000      4.400000       6.900000      2.500000"
      ]
     },
     "execution_count": 5,
     "metadata": {},
     "output_type": "execute_result"
    }
   ],
   "source": [
    "df.describe()"
   ]
  },
  {
   "cell_type": "code",
   "execution_count": 6,
   "id": "4136e181-55ba-42a3-9e39-06988f186798",
   "metadata": {},
   "outputs": [
    {
     "data": {
      "text/plain": [
       "Id               0\n",
       "SepalLengthCm    0\n",
       "SepalWidthCm     0\n",
       "PetalLengthCm    0\n",
       "PetalWidthCm     0\n",
       "Species          0\n",
       "dtype: int64"
      ]
     },
     "execution_count": 6,
     "metadata": {},
     "output_type": "execute_result"
    }
   ],
   "source": [
    "#checking for null values\n",
    "df.isnull().sum()"
   ]
  },
  {
   "cell_type": "code",
   "execution_count": 7,
   "id": "15a40047-3237-4738-a115-570dbf3b16e1",
   "metadata": {},
   "outputs": [
    {
     "data": {
      "text/plain": [
       "Index(['Id', 'SepalLengthCm', 'SepalWidthCm', 'PetalLengthCm', 'PetalWidthCm',\n",
       "       'Species'],\n",
       "      dtype='object')"
      ]
     },
     "execution_count": 7,
     "metadata": {},
     "output_type": "execute_result"
    }
   ],
   "source": [
    "df.columns"
   ]
  },
  {
   "cell_type": "code",
   "execution_count": 8,
   "id": "c366ca69-640f-49fe-ac02-2f89302fd187",
   "metadata": {},
   "outputs": [],
   "source": [
    "#Drop unwanted columns\n",
    "df=df.drop(columns=\"Id\")"
   ]
  },
  {
   "cell_type": "code",
   "execution_count": 9,
   "id": "bb7affd9-ef99-49b3-aeee-57ccd6027adc",
   "metadata": {},
   "outputs": [
    {
     "data": {
      "text/html": [
       "<div>\n",
       "<style scoped>\n",
       "    .dataframe tbody tr th:only-of-type {\n",
       "        vertical-align: middle;\n",
       "    }\n",
       "\n",
       "    .dataframe tbody tr th {\n",
       "        vertical-align: top;\n",
       "    }\n",
       "\n",
       "    .dataframe thead th {\n",
       "        text-align: right;\n",
       "    }\n",
       "</style>\n",
       "<table border=\"1\" class=\"dataframe\">\n",
       "  <thead>\n",
       "    <tr style=\"text-align: right;\">\n",
       "      <th></th>\n",
       "      <th>SepalLengthCm</th>\n",
       "      <th>SepalWidthCm</th>\n",
       "      <th>PetalLengthCm</th>\n",
       "      <th>PetalWidthCm</th>\n",
       "      <th>Species</th>\n",
       "    </tr>\n",
       "  </thead>\n",
       "  <tbody>\n",
       "    <tr>\n",
       "      <th>0</th>\n",
       "      <td>5.1</td>\n",
       "      <td>3.5</td>\n",
       "      <td>1.4</td>\n",
       "      <td>0.2</td>\n",
       "      <td>Iris-setosa</td>\n",
       "    </tr>\n",
       "    <tr>\n",
       "      <th>1</th>\n",
       "      <td>4.9</td>\n",
       "      <td>3.0</td>\n",
       "      <td>1.4</td>\n",
       "      <td>0.2</td>\n",
       "      <td>Iris-setosa</td>\n",
       "    </tr>\n",
       "    <tr>\n",
       "      <th>2</th>\n",
       "      <td>4.7</td>\n",
       "      <td>3.2</td>\n",
       "      <td>1.3</td>\n",
       "      <td>0.2</td>\n",
       "      <td>Iris-setosa</td>\n",
       "    </tr>\n",
       "    <tr>\n",
       "      <th>3</th>\n",
       "      <td>4.6</td>\n",
       "      <td>3.1</td>\n",
       "      <td>1.5</td>\n",
       "      <td>0.2</td>\n",
       "      <td>Iris-setosa</td>\n",
       "    </tr>\n",
       "    <tr>\n",
       "      <th>4</th>\n",
       "      <td>5.0</td>\n",
       "      <td>3.6</td>\n",
       "      <td>1.4</td>\n",
       "      <td>0.2</td>\n",
       "      <td>Iris-setosa</td>\n",
       "    </tr>\n",
       "    <tr>\n",
       "      <th>...</th>\n",
       "      <td>...</td>\n",
       "      <td>...</td>\n",
       "      <td>...</td>\n",
       "      <td>...</td>\n",
       "      <td>...</td>\n",
       "    </tr>\n",
       "    <tr>\n",
       "      <th>145</th>\n",
       "      <td>6.7</td>\n",
       "      <td>3.0</td>\n",
       "      <td>5.2</td>\n",
       "      <td>2.3</td>\n",
       "      <td>Iris-virginica</td>\n",
       "    </tr>\n",
       "    <tr>\n",
       "      <th>146</th>\n",
       "      <td>6.3</td>\n",
       "      <td>2.5</td>\n",
       "      <td>5.0</td>\n",
       "      <td>1.9</td>\n",
       "      <td>Iris-virginica</td>\n",
       "    </tr>\n",
       "    <tr>\n",
       "      <th>147</th>\n",
       "      <td>6.5</td>\n",
       "      <td>3.0</td>\n",
       "      <td>5.2</td>\n",
       "      <td>2.0</td>\n",
       "      <td>Iris-virginica</td>\n",
       "    </tr>\n",
       "    <tr>\n",
       "      <th>148</th>\n",
       "      <td>6.2</td>\n",
       "      <td>3.4</td>\n",
       "      <td>5.4</td>\n",
       "      <td>2.3</td>\n",
       "      <td>Iris-virginica</td>\n",
       "    </tr>\n",
       "    <tr>\n",
       "      <th>149</th>\n",
       "      <td>5.9</td>\n",
       "      <td>3.0</td>\n",
       "      <td>5.1</td>\n",
       "      <td>1.8</td>\n",
       "      <td>Iris-virginica</td>\n",
       "    </tr>\n",
       "  </tbody>\n",
       "</table>\n",
       "<p>150 rows × 5 columns</p>\n",
       "</div>"
      ],
      "text/plain": [
       "     SepalLengthCm  SepalWidthCm  PetalLengthCm  PetalWidthCm         Species\n",
       "0              5.1           3.5            1.4           0.2     Iris-setosa\n",
       "1              4.9           3.0            1.4           0.2     Iris-setosa\n",
       "2              4.7           3.2            1.3           0.2     Iris-setosa\n",
       "3              4.6           3.1            1.5           0.2     Iris-setosa\n",
       "4              5.0           3.6            1.4           0.2     Iris-setosa\n",
       "..             ...           ...            ...           ...             ...\n",
       "145            6.7           3.0            5.2           2.3  Iris-virginica\n",
       "146            6.3           2.5            5.0           1.9  Iris-virginica\n",
       "147            6.5           3.0            5.2           2.0  Iris-virginica\n",
       "148            6.2           3.4            5.4           2.3  Iris-virginica\n",
       "149            5.9           3.0            5.1           1.8  Iris-virginica\n",
       "\n",
       "[150 rows x 5 columns]"
      ]
     },
     "execution_count": 9,
     "metadata": {},
     "output_type": "execute_result"
    }
   ],
   "source": [
    "df"
   ]
  },
  {
   "cell_type": "markdown",
   "id": "996e896e-9eb9-4005-805b-9e050ce98897",
   "metadata": {},
   "source": [
    "<h3>Visualizations </h3>"
   ]
  },
  {
   "cell_type": "code",
   "execution_count": 10,
   "id": "d3846039-9dad-4464-ac9d-1d5063ee3917",
   "metadata": {},
   "outputs": [
    {
     "data": {
      "text/plain": [
       "Species\n",
       "Iris-setosa        50\n",
       "Iris-versicolor    50\n",
       "Iris-virginica     50\n",
       "dtype: int64"
      ]
     },
     "execution_count": 10,
     "metadata": {},
     "output_type": "execute_result"
    }
   ],
   "source": [
    "df.value_counts(\"Species\")"
   ]
  },
  {
   "cell_type": "code",
   "execution_count": 11,
   "id": "f8fb0db9-cecc-4022-a9b6-836d5b41f98b",
   "metadata": {},
   "outputs": [
    {
     "data": {
      "text/plain": [
       "Iris-setosa        50\n",
       "Iris-versicolor    50\n",
       "Iris-virginica     50\n",
       "Name: Species, dtype: int64"
      ]
     },
     "execution_count": 11,
     "metadata": {},
     "output_type": "execute_result"
    }
   ],
   "source": [
    "df['Species'].value_counts()"
   ]
  },
  {
   "cell_type": "code",
   "execution_count": 12,
   "id": "bcc0ade2-e7da-44f8-ac71-a76ee614c89c",
   "metadata": {},
   "outputs": [
    {
     "data": {
      "image/png": "[encoded data removed]",
      "text/plain": [
       "<Figure size 640x480 with 1 Axes>"
      ]
     },
     "metadata": {},
     "output_type": "display_data"
    }
   ],
   "source": [
    "sns.countplot(x='Species', data=df)\n",
    "plt.show()"
   ]
  },
  {
   "cell_type": "code",
   "execution_count": 13,
   "id": "c7e3661e-d8e7-4fc6-8e5e-4da2bbcbb20d",
   "metadata": {},
   "outputs": [
    {
     "data": {
      "image/png": "[encoded data removed]",
      "text/plain": [
       "<Figure size 640x480 with 1 Axes>"
      ]
     },
     "metadata": {},
     "output_type": "display_data"
    }
   ],
   "source": [
    "# importing packages\n",
    "import seaborn as sns\n",
    "import matplotlib.pyplot as plt\n",
    " \n",
    " \n",
    "sns.scatterplot(x='SepalLengthCm', y='SepalWidthCm',\n",
    "                hue='Species', data=df, )\n",
    " \n",
    "# Placing Legend outside the Figure\n",
    "plt.legend(bbox_to_anchor=(1, 1), loc=2)\n",
    " \n",
    "plt.show()"
   ]
  },
  {
   "cell_type": "code",
   "execution_count": 14,
   "id": "9ff95d3c-037a-4bbd-bb24-731dc2d2193b",
   "metadata": {},
   "outputs": [
    {
     "data": {
      "image/png": "[encoded data removed]",
      "text/plain": [
       "<Figure size 640x480 with 1 Axes>"
      ]
     },
     "metadata": {},
     "output_type": "display_data"
    }
   ],
   "source": [
    "# importing packages\n",
    "import seaborn as sns\n",
    "import matplotlib.pyplot as plt\n",
    " \n",
    " \n",
    "sns.scatterplot(x='PetalLengthCm', y='PetalWidthCm',\n",
    "                hue='Species', data=df)\n",
    " \n",
    "# Placing Legend outside the Figure\n",
    "plt.legend(bbox_to_anchor=(1, 1), loc=2)\n",
    " \n",
    "plt.show()"
   ]
  },
  {
   "cell_type": "code",
   "execution_count": 15,
   "id": "ab7e2ad3-fff3-4b6f-b547-077b2e3c83a2",
   "metadata": {},
   "outputs": [],
   "source": [
    "x = df.iloc[:,:4]\n",
    "y = df.iloc[:,4]\n"
   ]
  },
  {
   "cell_type": "code",
   "execution_count": 16,
   "id": "111c05b1-7b50-4de7-93a1-256f1c83b25b",
   "metadata": {},
   "outputs": [
    {
     "data": {
      "text/html": [
       "<div>\n",
       "<style scoped>\n",
       "    .dataframe tbody tr th:only-of-type {\n",
       "        vertical-align: middle;\n",
       "    }\n",
       "\n",
       "    .dataframe tbody tr th {\n",
       "        vertical-align: top;\n",
       "    }\n",
       "\n",
       "    .dataframe thead th {\n",
       "        text-align: right;\n",
       "    }\n",
       "</style>\n",
       "<table border=\"1\" class=\"dataframe\">\n",
       "  <thead>\n",
       "    <tr style=\"text-align: right;\">\n",
       "      <th></th>\n",
       "      <th>SepalLengthCm</th>\n",
       "      <th>SepalWidthCm</th>\n",
       "      <th>PetalLengthCm</th>\n",
       "      <th>PetalWidthCm</th>\n",
       "    </tr>\n",
       "  </thead>\n",
       "  <tbody>\n",
       "    <tr>\n",
       "      <th>0</th>\n",
       "      <td>5.1</td>\n",
       "      <td>3.5</td>\n",
       "      <td>1.4</td>\n",
       "      <td>0.2</td>\n",
       "    </tr>\n",
       "    <tr>\n",
       "      <th>1</th>\n",
       "      <td>4.9</td>\n",
       "      <td>3.0</td>\n",
       "      <td>1.4</td>\n",
       "      <td>0.2</td>\n",
       "    </tr>\n",
       "    <tr>\n",
       "      <th>2</th>\n",
       "      <td>4.7</td>\n",
       "      <td>3.2</td>\n",
       "      <td>1.3</td>\n",
       "      <td>0.2</td>\n",
       "    </tr>\n",
       "    <tr>\n",
       "      <th>3</th>\n",
       "      <td>4.6</td>\n",
       "      <td>3.1</td>\n",
       "      <td>1.5</td>\n",
       "      <td>0.2</td>\n",
       "    </tr>\n",
       "    <tr>\n",
       "      <th>4</th>\n",
       "      <td>5.0</td>\n",
       "      <td>3.6</td>\n",
       "      <td>1.4</td>\n",
       "      <td>0.2</td>\n",
       "    </tr>\n",
       "    <tr>\n",
       "      <th>...</th>\n",
       "      <td>...</td>\n",
       "      <td>...</td>\n",
       "      <td>...</td>\n",
       "      <td>...</td>\n",
       "    </tr>\n",
       "    <tr>\n",
       "      <th>145</th>\n",
       "      <td>6.7</td>\n",
       "      <td>3.0</td>\n",
       "      <td>5.2</td>\n",
       "      <td>2.3</td>\n",
       "    </tr>\n",
       "    <tr>\n",
       "      <th>146</th>\n",
       "      <td>6.3</td>\n",
       "      <td>2.5</td>\n",
       "      <td>5.0</td>\n",
       "      <td>1.9</td>\n",
       "    </tr>\n",
       "    <tr>\n",
       "      <th>147</th>\n",
       "      <td>6.5</td>\n",
       "      <td>3.0</td>\n",
       "      <td>5.2</td>\n",
       "      <td>2.0</td>\n",
       "    </tr>\n",
       "    <tr>\n",
       "      <th>148</th>\n",
       "      <td>6.2</td>\n",
       "      <td>3.4</td>\n",
       "      <td>5.4</td>\n",
       "      <td>2.3</td>\n",
       "    </tr>\n",
       "    <tr>\n",
       "      <th>149</th>\n",
       "      <td>5.9</td>\n",
       "      <td>3.0</td>\n",
       "      <td>5.1</td>\n",
       "      <td>1.8</td>\n",
       "    </tr>\n",
       "  </tbody>\n",
       "</table>\n",
       "<p>150 rows × 4 columns</p>\n",
       "</div>"
      ],
      "text/plain": [
       "     SepalLengthCm  SepalWidthCm  PetalLengthCm  PetalWidthCm\n",
       "0              5.1           3.5            1.4           0.2\n",
       "1              4.9           3.0            1.4           0.2\n",
       "2              4.7           3.2            1.3           0.2\n",
       "3              4.6           3.1            1.5           0.2\n",
       "4              5.0           3.6            1.4           0.2\n",
       "..             ...           ...            ...           ...\n",
       "145            6.7           3.0            5.2           2.3\n",
       "146            6.3           2.5            5.0           1.9\n",
       "147            6.5           3.0            5.2           2.0\n",
       "148            6.2           3.4            5.4           2.3\n",
       "149            5.9           3.0            5.1           1.8\n",
       "\n",
       "[150 rows x 4 columns]"
      ]
     },
     "execution_count": 16,
     "metadata": {},
     "output_type": "execute_result"
    }
   ],
   "source": [
    "x"
   ]
  },
  {
   "cell_type": "code",
   "execution_count": 17,
   "id": "f40cbcf0-c836-478e-9d03-35a86018c7ae",
   "metadata": {},
   "outputs": [],
   "source": [
    "from sklearn.preprocessing import LabelEncoder\n",
    "\n",
    "# Encode the target values\n",
    "label_encoder = LabelEncoder()\n",
    "y_encoded = label_encoder.fit_transform(y)"
   ]
  },
  {
   "cell_type": "code",
   "execution_count": 18,
   "id": "eb256f4a-9391-436c-a09f-d3092d615b1d",
   "metadata": {},
   "outputs": [
    {
     "data": {
      "text/plain": [
       "array([0, 0, 0, 0, 0, 0, 0, 0, 0, 0, 0, 0, 0, 0, 0, 0, 0, 0, 0, 0, 0, 0,\n",
       "       0, 0, 0, 0, 0, 0, 0, 0, 0, 0, 0, 0, 0, 0, 0, 0, 0, 0, 0, 0, 0, 0,\n",
       "       0, 0, 0, 0, 0, 0, 1, 1, 1, 1, 1, 1, 1, 1, 1, 1, 1, 1, 1, 1, 1, 1,\n",
       "       1, 1, 1, 1, 1, 1, 1, 1, 1, 1, 1, 1, 1, 1, 1, 1, 1, 1, 1, 1, 1, 1,\n",
       "       1, 1, 1, 1, 1, 1, 1, 1, 1, 1, 1, 1, 2, 2, 2, 2, 2, 2, 2, 2, 2, 2,\n",
       "       2, 2, 2, 2, 2, 2, 2, 2, 2, 2, 2, 2, 2, 2, 2, 2, 2, 2, 2, 2, 2, 2,\n",
       "       2, 2, 2, 2, 2, 2, 2, 2, 2, 2, 2, 2, 2, 2, 2, 2, 2, 2])"
      ]
     },
     "execution_count": 18,
     "metadata": {},
     "output_type": "execute_result"
    }
   ],
   "source": [
    "y_encoded"
   ]
  },
  {
   "cell_type": "code",
   "execution_count": 19,
   "id": "3c5de98f-3369-4ec7-8df3-f556974ebd9d",
   "metadata": {},
   "outputs": [
    {
     "data": {
      "text/plain": [
       "0         Iris-setosa\n",
       "1         Iris-setosa\n",
       "2         Iris-setosa\n",
       "3         Iris-setosa\n",
       "4         Iris-setosa\n",
       "            ...      \n",
       "145    Iris-virginica\n",
       "146    Iris-virginica\n",
       "147    Iris-virginica\n",
       "148    Iris-virginica\n",
       "149    Iris-virginica\n",
       "Name: Species, Length: 150, dtype: object"
      ]
     },
     "execution_count": 19,
     "metadata": {},
     "output_type": "execute_result"
    }
   ],
   "source": [
    "y"
   ]
  },
  {
   "cell_type": "code",
   "execution_count": null,
   "id": "3174e4ab-05bd-413b-b852-fc22f164a613",
   "metadata": {},
   "outputs": [],
   "source": []
  },
  {
   "cell_type": "markdown",
   "id": "fc2a4c9f-02e7-49e0-ae1f-d5e39513902d",
   "metadata": {},
   "source": [
    "<h4> Split the Data Into Train and Test Datasets </h4>"
   ]
  },
  {
   "cell_type": "code",
   "execution_count": 20,
   "id": "ab7d9ecd-d41a-405c-a38c-6f05004b8020",
   "metadata": {},
   "outputs": [],
   "source": [
    "from sklearn.model_selection import train_test_split\n",
    "x_train,x_test,y_train,y_test = train_test_split(x, y_encoded, test_size=0.3, random_state=0)"
   ]
  },
  {
   "cell_type": "code",
   "execution_count": 21,
   "id": "15cb84e6-3be8-47d7-8eaf-4ed26e03c370",
   "metadata": {},
   "outputs": [
    {
     "data": {
      "text/plain": [
       "(105, 4)"
      ]
     },
     "execution_count": 21,
     "metadata": {},
     "output_type": "execute_result"
    }
   ],
   "source": [
    "x_train.shape"
   ]
  },
  {
   "cell_type": "code",
   "execution_count": 22,
   "id": "3c8e45b8-8404-42c0-b9cb-ed052d44cbb0",
   "metadata": {},
   "outputs": [
    {
     "data": {
      "text/plain": [
       "(45, 4)"
      ]
     },
     "execution_count": 22,
     "metadata": {},
     "output_type": "execute_result"
    }
   ],
   "source": [
    "x_test.shape"
   ]
  },
  {
   "cell_type": "code",
   "execution_count": 23,
   "id": "f39bf0c2-962b-473f-a53a-ab812b89db37",
   "metadata": {},
   "outputs": [
    {
     "data": {
      "text/plain": [
       "(105,)"
      ]
     },
     "execution_count": 23,
     "metadata": {},
     "output_type": "execute_result"
    }
   ],
   "source": [
    "y_train.shape"
   ]
  },
  {
   "cell_type": "code",
   "execution_count": 24,
   "id": "a93b1f2c-02f0-4599-a48c-1262f3934e24",
   "metadata": {},
   "outputs": [
    {
     "data": {
      "text/plain": [
       "(45,)"
      ]
     },
     "execution_count": 24,
     "metadata": {},
     "output_type": "execute_result"
    }
   ],
   "source": [
    "y_test.shape"
   ]
  },
  {
   "cell_type": "markdown",
   "id": "043248bc-4b40-4ef7-9d5e-cdb27603fafb",
   "metadata": {},
   "source": [
    "<h4> Create the Logistic Regression Model</h4>"
   ]
  },
  {
   "cell_type": "code",
   "execution_count": 25,
   "id": "8e8621e6-379a-45be-aeb1-e16b307e1432",
   "metadata": {},
   "outputs": [],
   "source": [
    "from sklearn.linear_model import LogisticRegression\n",
    "\n",
    "model = LogisticRegression()"
   ]
  },
  {
   "cell_type": "code",
   "execution_count": 26,
   "id": "cc88b72e-f751-4177-9cee-6e4b67c6cc04",
   "metadata": {},
   "outputs": [
    {
     "data": {
      "text/plain": [
       "LogisticRegression()"
      ]
     },
     "execution_count": 26,
     "metadata": {},
     "output_type": "execute_result"
    }
   ],
   "source": [
    "model.fit(x_train, y_train)"
   ]
  },
  {
   "cell_type": "code",
   "execution_count": 27,
   "id": "e338ed8a-d203-45c9-b116-d11fa563c44b",
   "metadata": {},
   "outputs": [],
   "source": [
    "# Make predictions on the test data\n",
    "y_pred = model.predict(x_test)"
   ]
  },
  {
   "cell_type": "markdown",
   "id": "8177bcf1-2f77-4728-b788-430b70f81b2f",
   "metadata": {},
   "source": [
    "<!-- <h2>Cross Validation</h2> -->"
   ]
  },
  {
   "cell_type": "markdown",
   "id": "7c2019b3-d7a6-4db6-a013-30bf19b22a69",
   "metadata": {},
   "source": [
    "<!-- <h2>Hyperparameter Tuning with Grid Search</h2> -->"
   ]
  },
  {
   "cell_type": "markdown",
   "id": "4e1c0bce-ea04-4d65-9eb2-6b596d707c01",
   "metadata": {},
   "source": [
    "<h2>Model Evaluation</h2>"
   ]
  },
  {
   "cell_type": "code",
   "execution_count": 28,
   "id": "3f7d2973-0873-4f9c-a7ed-2d2dfa0e6b8a",
   "metadata": {},
   "outputs": [],
   "source": [
    "from sklearn.metrics import accuracy_score, classification_report, confusion_matrix\n",
    "\n",
    "accuracy = accuracy_score(y_test, y_pred)\n",
    "confusion = confusion_matrix(y_test, y_pred)\n",
    "classification_rep = classification_report(y_test, y_pred)\n"
   ]
  },
  {
   "cell_type": "code",
   "execution_count": 29,
   "id": "f83b3873-51a9-4050-9623-6101076b61f5",
   "metadata": {},
   "outputs": [
    {
     "name": "stdout",
     "output_type": "stream",
     "text": [
      "Accuracy: 0.9777777777777777\n",
      "Confusion Matrix:\n",
      "[[16  0  0]\n",
      " [ 0 17  1]\n",
      " [ 0  0 11]]\n",
      "Classification Report:\n",
      "              precision    recall  f1-score   support\n",
      "\n",
      "           0       1.00      1.00      1.00        16\n",
      "           1       1.00      0.94      0.97        18\n",
      "           2       0.92      1.00      0.96        11\n",
      "\n",
      "    accuracy                           0.98        45\n",
      "   macro avg       0.97      0.98      0.98        45\n",
      "weighted avg       0.98      0.98      0.98        45\n",
      "\n"
     ]
    }
   ],
   "source": [
    "# Print the evaluation results\n",
    "print(f\"Accuracy: {accuracy}\")\n",
    "print(\"Confusion Matrix:\")\n",
    "print(confusion)\n",
    "print(\"Classification Report:\")\n",
    "print(classification_rep)"
   ]
  },
  {
   "cell_type": "markdown",
   "id": "f0dad9ba-a843-4e90-8f29-10d4aa94339d",
   "metadata": {},
   "source": [
    "<h4>testing on new data</h4>"
   ]
  },
  {
   "cell_type": "code",
   "execution_count": 31,
   "id": "8ce93c3d-531b-4a79-bb82-da1f2b51a113",
   "metadata": {},
   "outputs": [],
   "source": [
    "# new_data = [[5.1, 3.5, 1.4, 0.2]]  \n",
    "new_data = [[6.7, 3.0, 5.2, 2.3]]"
   ]
  },
  {
   "cell_type": "code",
   "execution_count": 33,
   "id": "1e90fb8f-2732-4f6a-bb0c-35624c3e9aa2",
   "metadata": {},
   "outputs": [
    {
     "name": "stdout",
     "output_type": "stream",
     "text": [
      "The predicted species is: Iris-virginica\n"
     ]
    }
   ],
   "source": [
    "# Map the predicted class label to the species name\n",
    "\n",
    "predicted_class = model.predict(new_data)  # Assuming you've made predictions\n",
    "\n",
    "species_mapping = {0: 'Iris-setosa', 1: 'Iris-versicolor', 2: 'Iris-virginica'}\n",
    "\n",
    "predicted_species = species_mapping[predicted_class[0]]\n",
    "print(\"The predicted species is:\", predicted_species)"
   ]
  },
  {
   "cell_type": "code",
   "execution_count": 34,
   "id": "b94dff94-08cb-4420-8c67-5118b3763dad",
   "metadata": {},
   "outputs": [
    {
     "name": "stdout",
     "output_type": "stream",
     "text": [
      "Data point 1: Predicted Species - Iris-setosa\n",
      "Data point 2: Predicted Species - Iris-versicolor\n",
      "Data point 3: Predicted Species - Iris-virginica\n"
     ]
    }
   ],
   "source": [
    "X_new = np.array([[3, 2, 1, 0.2], [  4.9, 2.2, 3.8, 1.1 ], [  5.3, 2.5, 4.6, 1.9 ]])\n",
    "\n",
    "# Make predictions on the new data\n",
    "predicted_classes = model.predict(X_new)\n",
    "\n",
    "# Map the predicted class labels to species names\n",
    "predicted_species = [species_mapping[label] for label in predicted_classes]\n",
    "\n",
    "# Print the results\n",
    "for i in range(len(X_new)):\n",
    "    print(f\"Data point {i + 1}: Predicted Species - {predicted_species[i]}\")"
   ]
  },
  {
   "cell_type": "code",
   "execution_count": 35,
   "id": "f05be0ef-f285-4c4f-a950-171430061b0d",
   "metadata": {},
   "outputs": [
    {
     "name": "stdout",
     "output_type": "stream",
     "text": [
      "Directory 'model' already exists.\n"
     ]
    }
   ],
   "source": [
    "import os\n",
    "\n",
    "# Specify the directory name\n",
    "directory_name = \"model\"\n",
    "\n",
    "# Check if the directory exists\n",
    "if not os.path.exists(directory_name):\n",
    "    # If it doesn't exist, create the directory\n",
    "    os.makedirs(directory_name)\n",
    "    print(f\"Directory '{directory_name}' created.\")\n",
    "else:\n",
    "    print(f\"Directory '{directory_name}' already exists.\")\n"
   ]
  },
  {
   "cell_type": "markdown",
   "id": "9cf1028c-ef2b-4a67-bb3b-3e2eeffe018f",
   "metadata": {},
   "source": [
    "<h3>Save and load model</h3>"
   ]
  },
  {
   "cell_type": "code",
   "execution_count": 31,
   "id": "11844fe0-fdda-4344-ae48-da4cac434b53",
   "metadata": {},
   "outputs": [],
   "source": [
    "# Save the model\n",
    "import pickle\n",
    "with open('model/logis.pickle', 'wb') as f:\n",
    "    pickle.dump(model, f)\n",
    "\n",
    "# Load the model\n",
    "with open('model/logis.pickle', 'rb') as f:\n",
    "    model = pickle.load(f)\n"
   ]
  },
  {
   "cell_type": "markdown",
   "id": "eb047834-d8ef-48a4-baf2-5237092e2be4",
   "metadata": {},
   "source": [
    "<h1>Cross-Validation for Classification Models</h1>"
   ]
  },
  {
   "cell_type": "markdown",
   "id": "eea8b2d1-bbfb-4fc4-9c1a-98093151c2a8",
   "metadata": {},
   "source": [
    "* It is commonly used in applied machine learning to compare and select a model for a given predictive modeling problem\n",
    "\n",
    "* It involves dividing the available data into multiple folds or subsets, using one of these folds as a validation set, and training the model on the remaining folds\n",
    "\n",
    "* This process is repeated multiple times, each time using a different fold as the validation set.\n",
    "\n",
    "* Finally, the results from each validation step are averaged to produce a more robust estimate of the model’s performance.\n",
    "\n",
    "* helps to ensure that the model selected for deployment is robust and generalizes well to new data."
   ]
  },
  {
   "cell_type": "markdown",
   "id": "b1c317e1-13ab-467d-bee4-05d03194c34c",
   "metadata": {},
   "source": [
    "<h2>Purpose of cross-validation</h2>\n",
    "\n",
    "* The main purpose of cross validation is to prevent overfitting <br>\n",
    " \n",
    "<b>Note:</b> overfitting occurs when a model is trained too well on the training data and performs poorly on new, unseen data"
   ]
  },
  {
   "cell_type": "markdown",
   "id": "78f153f9-c7c0-4b24-a48c-57e27d141204",
   "metadata": {},
   "source": [
    "<h2> Types of Cross-Validation</h2>\n",
    "\n",
    "1. k-fold cross validation\n",
    "2. leave-one-out cross validation\n",
    "3. Holdout validation\n",
    "4. Stratified Cross-Validation"
   ]
  },
  {
   "cell_type": "markdown",
   "id": "d3243a69-3ee7-4489-bead-11aa2e7d9994",
   "metadata": {},
   "source": [
    "<h4>K-Fold Cross Validation </h4>\n",
    "\n",
    "* The dataset is divided into K equally sized \"folds\" or subsets.\n",
    "* The model is trained and evaluated K times\n",
    "* In each iteration, one of the K folds is used as the test set, while the remaining K-1 folds are used as the training set.\n",
    "* Performance metrics (e.g., accuracy, error) are calculated for each iteration.\n",
    "* The K performance metrics are typically averaged to obtain a more reliable estimate of the model's performance."
   ]
  },
  {
   "cell_type": "markdown",
   "id": "23334c98-587d-4540-a1ab-dea7f4f41f61",
   "metadata": {},
   "source": [
    "<img src=\"https://miro.medium.com/v2/resize:fit:1400/format:webp/1*L90fdYb2oT0BOP2CCMSIbg.png\" alt=\"Flowers in Iris Dataset\" />\n"
   ]
  },
  {
   "cell_type": "code",
   "execution_count": null,
   "id": "4285ea26-b5f4-4719-b429-991ac78ead31",
   "metadata": {},
   "outputs": [],
   "source": []
  },
  {
   "cell_type": "markdown",
   "id": "23f58ec1-b633-40be-bcb6-c3d374f15500",
   "metadata": {},
   "source": [
    "<h4>Holdout Validation </h4>\n",
    "\n",
    "* we perform training on the 50% of the given dataset and rest 50% is used for the testing purpose\n",
    "  \n",
    "* The drawback of the method is that when we split the dataset into 50% for training, we may miss out on valuable information present in the remaining 50%, leading to a higher bias in our model.\n",
    "  \n"
   ]
  },
  {
   "cell_type": "markdown",
   "id": "5937b00c-a573-4642-bb3f-d3bd58d1a41e",
   "metadata": {},
   "source": [
    "<h4> Leave One Out Cross Validation (LOOCV) </h4>\n",
    "\n",
    "* we perform training on the whole dataset but leaves only one data-point of the available dataset and then iterates for each data-point\n",
    "\n",
    "* An advantage of using this method is that we make use of all data points and hence it is low bias.\n",
    "\n",
    "* The major drawback of this method is that it leads to higher variation in the testing model as we are testing against one data point.\n",
    "\n",
    "* If the data point is an outlier it can lead to higher variation.\n",
    "\n",
    "* Another drawback is it takes a lot of execution time as it iterates over ‘the number of data points’ times."
   ]
  },
  {
   "cell_type": "markdown",
   "id": "5d700ac0-f866-4776-8e16-52fc3b0c522c",
   "metadata": {},
   "source": [
    "<h4> Stratified Cross-Validation </h4>\n",
    "\n",
    "* In many classification tasks, the number of samples in each class may be imbalanced. For example, one class may have significantly fewer samples than others\n",
    "  \n",
    "* it preserves the relative proportions of different classes in both the training and testing subsets of each fold\n",
    "\n",
    "* is particularly useful when dealing with imbalanced datasets because it prevents a situation where a fold contains very few or no samples of a minority class.\n",
    "  "
   ]
  },
  {
   "cell_type": "markdown",
   "id": "b12f04b0-fe93-4c9d-856f-1f82fcc9b301",
   "metadata": {},
   "source": [
    "<h2>Cross Validation in our model</h2>"
   ]
  },
  {
   "cell_type": "code",
   "execution_count": 36,
   "id": "aad6679e-fe6e-4d61-be06-9a197ea26430",
   "metadata": {},
   "outputs": [
    {
     "name": "stdout",
     "output_type": "stream",
     "text": [
      "Mean Accuracy: 0.9733333333333334\n",
      "standard deviation in accuracy is: 0.03265986323710904\n"
     ]
    }
   ],
   "source": [
    "from sklearn.model_selection import cross_val_score\n",
    "\n",
    "# Perform 5-fold cross-validation and calculate accuracy\n",
    "cv_scores = cross_val_score(model, x, y, cv=10)\n",
    "\n",
    "# Print cross-validation scores\n",
    "# print(\"Cross-Validation Scores:\", cv_scores)\n",
    "print(\"Mean Accuracy:\", np.mean(cv_scores))\n",
    "print(\"standard deviation in accuracy is:\", np.std(cv_scores))"
   ]
  },
  {
   "cell_type": "markdown",
   "id": "2fb269de-dd7b-48ab-b559-8656545fe105",
   "metadata": {},
   "source": [
    "<h2>Hyperparameter Tuning with Grid Search</h2>\n",
    "\n",
    "* A model <b>hyperparameter</b> is a characteristic of a model that is external to the model and whose value cannot be estimated from data\n",
    "\n",
    "* The value of the hyperparameter has to be set before the learning process begins\n",
    "\n",
    "* For example, c in Support Vector Machines, k in k-Nearest Neighbors, the number of hidden layers in Neural Networks.\n",
    "\n",
    "* a <b>parameter</b> is an internal characteristic of the model and its value can be estimated from data.\n",
    "\n",
    "* Example, beta coefficients of linear/logistic regression or support vectors in Support Vector Machines.\n",
    "\n",
    "<b>NOTE :</b>  <b>Grid-search is used to find the optimal hyperparameters of a model which results in the most ‘accurate’ predictions. </b>"
   ]
  },
  {
   "cell_type": "markdown",
   "id": "404f1913-b284-400e-ab13-3657732d706c",
   "metadata": {},
   "source": [
    "<h2>Working Mechanisms </h2>\n",
    "\n",
    "* It tries out different values (all possible combination) and then picks the value that gives the best score\n"
   ]
  },
  {
   "cell_type": "code",
   "execution_count": null,
   "id": "791a41d7-2c3a-45ad-9da6-69d6aff57e4a",
   "metadata": {},
   "outputs": [],
   "source": [
    "# y = mx+c \n",
    "\n",
    "# (m, c) values \n",
    "\n",
    "# gradient descent "
   ]
  },
  {
   "cell_type": "code",
   "execution_count": 37,
   "id": "1f082ab3-e10e-4e02-9107-a7edba3c1ce9",
   "metadata": {},
   "outputs": [
    {
     "name": "stdout",
     "output_type": "stream",
     "text": [
      "Fitting 5 folds for each of 10 candidates, totalling 50 fits\n",
      "[CV] END ................................C=0.001, penalty=l1; total time=   0.0s\n",
      "[CV] END ................................C=0.001, penalty=l1; total time=   0.0s\n",
      "[CV] END ................................C=0.001, penalty=l1; total time=   0.0s\n",
      "[CV] END ................................C=0.001, penalty=l1; total time=   0.0s\n",
      "[CV] END ................................C=0.001, penalty=l1; total time=   0.0s\n",
      "[CV] END ................................C=0.001, penalty=l2; total time=   0.0s\n",
      "[CV] END ................................C=0.001, penalty=l2; total time=   0.0s\n",
      "[CV] END ................................C=0.001, penalty=l2; total time=   0.0s\n",
      "[CV] END ................................C=0.001, penalty=l2; total time=   0.0s\n",
      "[CV] END ................................C=0.001, penalty=l2; total time=   0.0s\n",
      "[CV] END .................................C=0.01, penalty=l1; total time=   0.0s\n",
      "[CV] END .................................C=0.01, penalty=l1; total time=   0.0s\n",
      "[CV] END .................................C=0.01, penalty=l1; total time=   0.0s\n",
      "[CV] END .................................C=0.01, penalty=l1; total time=   0.0s\n",
      "[CV] END .................................C=0.01, penalty=l1; total time=   0.0s\n",
      "[CV] END .................................C=0.01, penalty=l2; total time=   0.0s\n",
      "[CV] END .................................C=0.01, penalty=l2; total time=   0.0s\n",
      "[CV] END .................................C=0.01, penalty=l2; total time=   0.0s\n",
      "[CV] END .................................C=0.01, penalty=l2; total time=   0.0s\n",
      "[CV] END .................................C=0.01, penalty=l2; total time=   0.0s\n",
      "[CV] END ..................................C=0.1, penalty=l1; total time=   0.0s\n",
      "[CV] END ..................................C=0.1, penalty=l1; total time=   0.0s\n",
      "[CV] END ..................................C=0.1, penalty=l1; total time=   0.0s\n",
      "[CV] END ..................................C=0.1, penalty=l1; total time=   0.0s\n",
      "[CV] END ..................................C=0.1, penalty=l1; total time=   0.0s\n",
      "[CV] END ..................................C=0.1, penalty=l2; total time=   0.0s\n",
      "[CV] END ..................................C=0.1, penalty=l2; total time=   0.0s\n",
      "[CV] END ..................................C=0.1, penalty=l2; total time=   0.0s\n",
      "[CV] END ..................................C=0.1, penalty=l2; total time=   0.0s\n",
      "[CV] END ..................................C=0.1, penalty=l2; total time=   0.0s\n",
      "[CV] END ....................................C=1, penalty=l1; total time=   0.0s\n",
      "[CV] END ....................................C=1, penalty=l1; total time=   0.0s\n",
      "[CV] END ....................................C=1, penalty=l1; total time=   0.0s\n",
      "[CV] END ....................................C=1, penalty=l1; total time=   0.0s\n",
      "[CV] END ....................................C=1, penalty=l1; total time=   0.0s\n",
      "[CV] END ....................................C=1, penalty=l2; total time=   0.0s\n",
      "[CV] END ....................................C=1, penalty=l2; total time=   0.0s\n",
      "[CV] END ....................................C=1, penalty=l2; total time=   0.0s\n",
      "[CV] END ....................................C=1, penalty=l2; total time=   0.0s\n",
      "[CV] END ....................................C=1, penalty=l2; total time=   0.0s\n",
      "[CV] END ...................................C=10, penalty=l1; total time=   0.0s\n",
      "[CV] END ...................................C=10, penalty=l1; total time=   0.0s\n",
      "[CV] END ...................................C=10, penalty=l1; total time=   0.0s\n",
      "[CV] END ...................................C=10, penalty=l1; total time=   0.0s\n",
      "[CV] END ...................................C=10, penalty=l1; total time=   0.0s\n",
      "[CV] END ...................................C=10, penalty=l2; total time=   0.0s\n",
      "[CV] END ...................................C=10, penalty=l2; total time=   0.0s\n",
      "[CV] END ...................................C=10, penalty=l2; total time=   0.0s\n",
      "[CV] END ...................................C=10, penalty=l2; total time=   0.0s\n",
      "[CV] END ...................................C=10, penalty=l2; total time=   0.0s\n",
      "Best Hyperparameters: {'C': 1, 'penalty': 'l2'}\n",
      "Best Accuracy: 0.9733333333333334\n"
     ]
    }
   ],
   "source": [
    "from sklearn.linear_model import LogisticRegression\n",
    "from sklearn.model_selection import GridSearchCV\n",
    "\n",
    "lr=LogisticRegression()\n",
    "\n",
    "\n",
    "param_grid = {\n",
    "    'C': [0.001, 0.01, 0.1, 1, 10],  # Regularization parameter\n",
    "    'penalty': ['l1', 'l2'],         # Regularization penalty ('l1' or 'l2')\n",
    "}\n",
    "\n",
    "# Create a GridSearchCV object with the logistic regression model and parameter grid\n",
    "grid_search = GridSearchCV(estimator=lr, param_grid=param_grid, cv=5, scoring='accuracy', verbose=2)\n",
    "\n",
    "# Fit the GridSearchCV object to the data (performs cross-validation and grid search)\n",
    "grid_search.fit(x, y)\n",
    "\n",
    "# Get the best hyperparameters and corresponding accuracy score\n",
    "best_params = grid_search.best_params_\n",
    "best_accuracy = grid_search.best_score_\n",
    "\n",
    "# Print the best hyperparameters and accuracy score\n",
    "print(\"Best Hyperparameters:\", best_params)\n",
    "print(\"Best Accuracy:\", best_accuracy)\n"
   ]
  },
  {
   "cell_type": "code",
   "execution_count": null,
   "id": "143fd02c-4031-4334-916c-28c1f70f776c",
   "metadata": {},
   "outputs": [],
   "source": []
  }
 ],
 "metadata": {
  "kernelspec": {
   "display_name": "Python 3 (ipykernel)",
   "language": "python",
   "name": "python3"
  },
  "language_info": {
   "codemirror_mode": {
    "name": "ipython",
    "version": 3
   },
   "file_extension": ".py",
   "mimetype": "text/x-python",
   "name": "python",
   "nbconvert_exporter": "python",
   "pygments_lexer": "ipython3",
   "version": "3.9.13"
  }
 },
 "nbformat": 4,
 "nbformat_minor": 5
}
