{
 "cells": [
  {
   "cell_type": "code",
   "execution_count": null,
   "id": "03e3acf2-49a2-4d77-a2fd-8844c655493d",
   "metadata": {},
   "outputs": [],
   "source": []
  },
  {
   "cell_type": "code",
   "execution_count": null,
   "id": "6b9e9c7b",
   "metadata": {},
   "outputs": [],
   "source": [
    "import pmdarima"
   ]
  },
  {
   "cell_type": "code",
   "execution_count": null,
   "id": "8f972f68-c698-4682-be46-792d2ffb5cce",
   "metadata": {},
   "outputs": [],
   "source": [
    "import pandas as pd \n",
    "df = pd.read_csv(\"AirPassengers.csv\")"
   ]
  },
  {
   "cell_type": "code",
   "execution_count": null,
   "id": "4dfdbe19-4d9d-41cc-b731-49a0696a7c7a",
   "metadata": {},
   "outputs": [],
   "source": [
    "df.head()"
   ]
  },
  {
   "cell_type": "code",
   "execution_count": null,
   "id": "a19e693b-4d1f-47b1-b251-8c9ae8213d76",
   "metadata": {},
   "outputs": [],
   "source": [
    "df.tail()"
   ]
  },
  {
   "cell_type": "code",
   "execution_count": null,
   "id": "9e010462-31f5-4be2-b038-ec32b7ccb974",
   "metadata": {},
   "outputs": [],
   "source": [
    "df['Month'] = pd.to_datetime(df['Month'], format='%Y-%m')\n",
    "print(df.head())"
   ]
  },
  {
   "cell_type": "markdown",
   "id": "222beb73-77ea-44d8-b8d8-5fd0e9b999ea",
   "metadata": {},
   "source": [
    "Note that this process automatically inserts the first day of each month, which is basically a dummy value since we have no daily passenger data."
   ]
  },
  {
   "cell_type": "code",
   "execution_count": null,
   "id": "c45cffff-f7ef-4549-a2e5-7a176c4835bb",
   "metadata": {},
   "outputs": [],
   "source": [
    "#convert the month column to an index\n",
    "df.index = df['Month']\n",
    "del df['Month']  #deletes the month column\n",
    "print(df.head())"
   ]
  },
  {
   "cell_type": "markdown",
   "id": "bd32f260-9966-4800-b76b-cb9cfa5409ac",
   "metadata": {},
   "source": [
    "<h2>Visualization</h2>"
   ]
  },
  {
   "cell_type": "code",
   "execution_count": null,
   "id": "075ce8b7-aebd-4127-b847-eb6aea89c24b",
   "metadata": {},
   "outputs": [],
   "source": [
    "import matplotlib.pyplot as plt\n",
    "import seaborn as sns \n",
    "\n",
    "sns.lineplot(df)\n",
    "plt.ylabel(\"Number of Passengers\")"
   ]
  },
  {
   "cell_type": "markdown",
   "id": "83224d10-1a55-4833-8b7d-e824aa6c9e81",
   "metadata": {},
   "source": [
    "<h2>Stationarity</h2>\n",
    "\n",
    "* Stationarity is a key part of time series analysis.\n",
    "*  A stationary time series is one whose statistical properties, such as mean, variance, and autocorrelation, remain constant over time.\n",
    "* You should check for stationarity because it not only makes modeling time series easier\n"
   ]
  },
  {
   "cell_type": "markdown",
   "id": "946a022c-489d-40e1-beb4-1b272f4584db",
   "metadata": {},
   "source": [
    "We will use the Dickey Fuller test to check for stationarity in our data. This test will generate critical values and a p-value, which will allow us to accept or reject the null hypothesis that there is no stationarity. If we reject the null hypothesis, that means we accept the alternative, which states that there is stationarity.\n",
    "\n",
    "These values allow us to test the degree to which present values change with past values. If there is no stationarity in the data set, a change in present values will not cause a significant change in past values."
   ]
  },
  {
   "cell_type": "code",
   "execution_count": null,
   "id": "fdfc077c-af2b-428f-945b-b31c1842c663",
   "metadata": {},
   "outputs": [],
   "source": [
    "#Let’s test for stationarity in our airline passenger data. \n",
    "#To start, let’s calculate a seven-month rolling mean.\n",
    "\n",
    "rolling_mean = df.rolling(7).mean()\n",
    "rolling_std = df.rolling(7).std()"
   ]
  },
  {
   "cell_type": "code",
   "execution_count": null,
   "id": "b9e247e1-f55e-454e-8005-65e26f17761b",
   "metadata": {},
   "outputs": [],
   "source": [
    "plt.plot(df, color=\"blue\",label=\"Original Passenger Data\")\n",
    "plt.plot(rolling_mean, color=\"red\", label=\"Rolling Mean Passenger Number\")\n",
    "plt.plot(rolling_std, color=\"black\", label = \"Rolling Standard Deviation in Passenger Number\")\n",
    "plt.title(\"Passenger Time Series, Rolling Mean, Standard Deviation\")\n",
    "plt.legend(loc=\"best\")\n",
    "\n"
   ]
  },
  {
   "cell_type": "code",
   "execution_count": null,
   "id": "c8466da8-cebf-4ee9-b413-1776fb367dac",
   "metadata": {},
   "outputs": [],
   "source": [
    "! pip install statsmodels"
   ]
  },
  {
   "cell_type": "code",
   "execution_count": null,
   "id": "26d05dd5-a88a-4422-a623-7617eb55db46",
   "metadata": {},
   "outputs": [],
   "source": [
    "from statsmodels.tsa.stattools import adfuller\n",
    "\n",
    "adft = adfuller(df,autolag=\"AIC\")\n",
    "output_df = pd.DataFrame({\"Values\":[adft[0],adft[1],adft[2],adft[3], adft[4]['1%'], adft[4]['5%'], adft[4]['10%']]  , \"Metric\":[\"Test Statistics\",\"p-value\",\"No. of lags used\",\"Number of observations used\", \"critical value (1%)\", \"critical value (5%)\", \"critical value (10%)\"]})\n",
    "print(output_df)"
   ]
  },
  {
   "cell_type": "markdown",
   "id": "3c502843-4b53-42df-8494-3f2e3e4ccb8d",
   "metadata": {},
   "source": [
    "We can see that our data is not stationary from the fact that our p-value is greater than 5 percent and the test statistic is greater than the critical value. We can also draw these conclusions from inspecting the data, as we see a clear, increasing trend in the number of passengers."
   ]
  },
  {
   "cell_type": "markdown",
   "id": "900a3182-7f02-4f03-a639-c6ef3bd1372b",
   "metadata": {},
   "source": [
    "<h2>Autocorrelation</h2>\n",
    "\n",
    "* This is a measure of how correlated time series data is at a given point in time with past values\n",
    "* if our passenger data has strong autocorrelation, we can assume that high passenger numbers today suggest a strong likelihood that they will be high tomorrow as well.\n"
   ]
  },
  {
   "cell_type": "code",
   "execution_count": null,
   "id": "460507a7-34ab-42da-9fc1-4320a7de738d",
   "metadata": {},
   "outputs": [],
   "source": [
    "autocorrelation_lag1 = df['#Passengers'].autocorr(lag=1)\n",
    "print(\"One Month Lag: \", autocorrelation_lag1)"
   ]
  },
  {
   "cell_type": "code",
   "execution_count": null,
   "id": "df61a631-818a-491a-811b-b9d00b1f05c4",
   "metadata": {},
   "outputs": [],
   "source": [
    "#Now, let’s try three, six and nine months:\n",
    "autocorrelation_lag3 = df['#Passengers'].autocorr(lag=3)\n",
    "print(\"Three Month Lag: \", autocorrelation_lag3)\n",
    "\n",
    "autocorrelation_lag6 = df['#Passengers'].autocorr(lag=6)\n",
    "print(\"Six Month Lag: \", autocorrelation_lag6)\n",
    "\n",
    "autocorrelation_lag9 = df['#Passengers'].autocorr(lag=9)\n",
    "print(\"Nine Month Lag: \", autocorrelation_lag9)"
   ]
  },
  {
   "cell_type": "markdown",
   "id": "8b43e283-2772-45ce-b1d6-f41f3048ce24",
   "metadata": {},
   "source": [
    "* \"Three Month Lag: 0.837394765081794\": This indicates that there is a strong positive autocorrelation at a lag of three months. In other words, the value at a specific time point is highly correlated with the value that occurred three months earlier.\n",
    "\n",
    "* Same for other lag"
   ]
  },
  {
   "cell_type": "markdown",
   "id": "3f4caa5e-9415-4e83-89cb-b687188e62fa",
   "metadata": {},
   "source": [
    "<h2>Decomposition</h2>\n",
    "\n",
    "* Trend decomposition is another useful way to visualize the trends in time series data.\n",
    "* It is a technique used to break down a time series into its individual components.\n",
    "* Trend Component (T), Seasonal Component (S) & Residual Component (R) or Error Component\n"
   ]
  },
  {
   "cell_type": "markdown",
   "id": "a6964b08-77ba-47f6-9b91-6844e77abad0",
   "metadata": {},
   "source": [
    "<b>Trend Component (T)</b>\n",
    "* It captures the underlying direction or tendency of the data over time, such as increasing, decreasing, or staying relatively constant.\n",
    "\n",
    "<b>Seasonal Component (S)</b>\n",
    "* The seasonal component represents the periodic, repetitive patterns or fluctuations in the time series that occur at fixed intervals.\n",
    "  \n",
    "<b>Residual Component (R) or Error Component</b>\n",
    "* The residual component (also known as the error or remainder component) represents the random noise or irregular variations in the time series data."
   ]
  },
  {
   "cell_type": "markdown",
   "id": "23f94cd7-e641-4164-bc33-b7ed1aecbfc1",
   "metadata": {},
   "source": [
    "To proceed, let’s import seasonal_decompose from the statsmodels package:"
   ]
  },
  {
   "cell_type": "code",
   "execution_count": null,
   "id": "b5f7cb2a-94f1-4af6-836a-51a8c23b1fa7",
   "metadata": {},
   "outputs": [],
   "source": [
    "from statsmodels.tsa.seasonal import seasonal_decompose\n",
    "\n",
    "decompose = seasonal_decompose(df['#Passengers'],model='additive', period=7)\n",
    "decompose.plot()\n",
    "plt.show()"
   ]
  },
  {
   "cell_type": "markdown",
   "id": "7da58600-c045-44e8-abff-bc70207c5676",
   "metadata": {},
   "source": [
    "From this plot, we can clearly see the increasing trend in number of passengers and the seasonality patterns in the rise and fall in values each year."
   ]
  },
  {
   "cell_type": "markdown",
   "id": "73c500ca-bf51-4544-a861-44f664cc7ac8",
   "metadata": {},
   "source": [
    "<h2>Forecasting</h2>\n",
    "\n",
    "* Time series forecasting allows us to predict future values in a time series given current and past data.\n",
    "* We will use the ARIMA method to forecast the number of passengers, which allows us to forecast future values in terms of a linear combination of past values. "
   ]
  },
  {
   "cell_type": "code",
   "execution_count": null,
   "id": "a36d7d77-21bc-4535-bbfd-8a2d92a49378",
   "metadata": {},
   "outputs": [],
   "source": [
    "df['Date'] = df.index\n",
    "train = df[df['Date'] < pd.to_datetime(\"1960-08\", format='%Y-%m')]\n",
    "\n",
    "train['train'] = train['#Passengers']  #  assigns the values from the '#Passengers' column to a new column called 'train' in the 'train' DataFrame.\n",
    "del train['Date']\n",
    "del train['#Passengers']\n",
    "\n",
    "test = df[df['Date'] >= pd.to_datetime(\"1960-08\", format='%Y-%m')]\n",
    "del test['Date']\n",
    "\n",
    "test['test'] = test['#Passengers']\n",
    "del test['#Passengers']"
   ]
  },
  {
   "cell_type": "code",
   "execution_count": null,
   "id": "e4fa2e81",
   "metadata": {},
   "outputs": [],
   "source": [
    "test"
   ]
  },
  {
   "cell_type": "code",
   "execution_count": null,
   "id": "5933f0f5-8531-4390-a966-a08bf9c92ba5",
   "metadata": {},
   "outputs": [],
   "source": [
    "# from sklearn.model_selection import train_test_split\n",
    "\n",
    "\n",
    "# X = df.drop(columns=['#Passengers'])  # Features excluding '#Passengers'\n",
    "# y = df['#Passengers']  # Target variable '#Passengers'\n",
    "\n",
    "# # Split the data into training and testing sets\n",
    "# X_train, X_test, y_train, y_test = train_test_split(X, y, test_size=0.2, random_state=42)\n"
   ]
  },
  {
   "cell_type": "code",
   "execution_count": null,
   "id": "9e9d5e27-e0d3-463b-a9d0-3b0b8e9a565b",
   "metadata": {},
   "outputs": [],
   "source": [
    "plt.plot(train, color = \"black\")\n",
    "plt.plot(test, color = \"red\")\n",
    "plt.title(\"Train/Test split for Passenger Data\")\n",
    "plt.ylabel(\"Passenger Number\")\n",
    "plt.xlabel('Year-Month')\n",
    "sns.set()\n",
    "plt.show()"
   ]
  },
  {
   "cell_type": "code",
   "execution_count": null,
   "id": "3426cac6-5bf4-4f58-8dc3-017f237c395c",
   "metadata": {},
   "outputs": [],
   "source": [
    "!pip install pmdarima"
   ]
  },
  {
   "cell_type": "code",
   "execution_count": null,
   "id": "bb7e9183-725a-46d3-8881-cf1f7541dd67",
   "metadata": {},
   "outputs": [],
   "source": [
    "# import pmdarima"
   ]
  },
  {
   "cell_type": "code",
   "execution_count": null,
   "id": "4aad91e6-a913-4a97-9fe9-896610e241d4",
   "metadata": {},
   "outputs": [],
   "source": [
    "from pmdarima.arima import auto_arima\n",
    "model = auto_arima(train)\n",
    "model.fit(train)\n",
    "forecast = model.predict(n_periods=len(test))\n",
    "forecast = pd.DataFrame(forecast,index = test.index,columns=['Prediction'])"
   ]
  },
  {
   "cell_type": "code",
   "execution_count": null,
   "id": "467ac1e7-e5ec-4004-8efd-2b1c86c19838",
   "metadata": {},
   "outputs": [],
   "source": [
    "from math import sqrt\n",
    "from sklearn.metrics import mean_squared_error\n",
    "rms = sqrt(mean_squared_error(test,forecast))\n",
    "print(\"RMSE: \", rms)"
   ]
  },
  {
   "cell_type": "code",
   "execution_count": null,
   "id": "80d27d8b-195b-47b1-a200-51957a9cbd47",
   "metadata": {},
   "outputs": [],
   "source": [
    "plt.plot(train, color = \"black\")\n",
    "plt.plot(forecast, color = \"red\")\n",
    "plt.title(\"Train/Prediction of Passenger\")\n",
    "plt.ylabel(\"Passenger Number\")\n",
    "plt.xlabel('Year-Month')\n",
    "sns.set()\n",
    "plt.show()"
   ]
  },
  {
   "cell_type": "code",
   "execution_count": null,
   "id": "e6009827-b70c-4376-b867-6173e17fb362",
   "metadata": {},
   "outputs": [],
   "source": []
  }
 ],
 "metadata": {
  "kernelspec": {
   "display_name": "Python 3 (ipykernel)",
   "language": "python",
   "name": "python3"
  },
  "language_info": {
   "codemirror_mode": {
    "name": "ipython",
    "version": 3
   },
   "file_extension": ".py",
   "mimetype": "text/x-python",
   "name": "python",
   "nbconvert_exporter": "python",
   "pygments_lexer": "ipython3",
   "version": "3.9.13"
  }
 },
 "nbformat": 4,
 "nbformat_minor": 5
}
