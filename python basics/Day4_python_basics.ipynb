{
 "cells": [
  {
   "cell_type": "markdown",
   "id": "e2afc757-0bfb-4d64-bc76-9e4199344cf4",
   "metadata": {},
   "source": [
    "<h3>Python Functions</h3> <br>\n",
    "\n",
    "* A function is a block of code which only runs when it is called.\n",
    "\n",
    "* You can pass data, known as parameters, into a function.\n",
    "\n",
    "* A function can return data as a result."
   ]
  },
  {
   "cell_type": "code",
   "execution_count": 197,
   "id": "1d4c3e57-41bc-4036-b47a-cc804a89aa35",
   "metadata": {},
   "outputs": [
    {
     "name": "stdout",
     "output_type": "stream",
     "text": [
      "Hello from a function\n"
     ]
    }
   ],
   "source": [
    "def my_function():\n",
    "  print(\"Hello from a function\")\n",
    "\n",
    "my_function()"
   ]
  },
  {
   "cell_type": "code",
   "execution_count": 198,
   "id": "c13b714a-56ff-4560-8ea2-3c9b31e85b7e",
   "metadata": {},
   "outputs": [
    {
     "data": {
      "text/plain": [
       "6"
      ]
     },
     "execution_count": 198,
     "metadata": {},
     "output_type": "execute_result"
    }
   ],
   "source": [
    "def add(a,b):   # a and b are called parameter #A parameter is the variable listed inside the parentheses in the function definition. \n",
    "    z = a+b\n",
    "    # print(z)\n",
    "    return z\n",
    "    \n",
    "add(2, 4) # 2 & 4 are called argument # An argument is the value that is sent to the function when it is called."
   ]
  },
  {
   "cell_type": "markdown",
   "id": "4f796cf4-c8a6-4941-94c5-2d3e685636d9",
   "metadata": {},
   "source": [
    "<b>If you do not know how many arguments that will be passed into your function, add a * before the parameter name in the function definition."
   ]
  },
  {
   "cell_type": "code",
   "execution_count": 202,
   "id": "a4e2e2bd-3588-4809-8f1a-f3d3643b2a74",
   "metadata": {},
   "outputs": [
    {
     "name": "stdout",
     "output_type": "stream",
     "text": [
      "The youngest child is Emil\n"
     ]
    }
   ],
   "source": [
    "def my_function(*kids):\n",
    "  print(\"The youngest child is \" + kids[0])\n",
    "\n",
    "my_function(\"Emil\", \"Tobias\", \"Linus\")"
   ]
  },
  {
   "cell_type": "markdown",
   "id": "ec1e6210-ad10-4573-ac9e-c24b0cc75fc7",
   "metadata": {},
   "source": [
    "<b>Default Parameter Value</b><br>\n",
    "If we call the function without argument, it uses the default value"
   ]
  },
  {
   "cell_type": "code",
   "execution_count": 209,
   "id": "d1af5549-6eea-4ee1-a05f-257f46c711c7",
   "metadata": {},
   "outputs": [
    {
     "data": {
      "text/plain": [
       "10"
      ]
     },
     "execution_count": 209,
     "metadata": {},
     "output_type": "execute_result"
    }
   ],
   "source": [
    "\n",
    "def my_function(a=4, b=6):\n",
    "  sum = a+b\n",
    "  return sum\n",
    "\n",
    "my_function()\n",
    "# my_function(6, 6)"
   ]
  },
  {
   "cell_type": "code",
   "execution_count": 213,
   "id": "6f982eac-3e6c-48c9-9240-f9776412812f",
   "metadata": {},
   "outputs": [
    {
     "name": "stdout",
     "output_type": "stream",
     "text": [
      "c\n",
      "d\n",
      "e\n"
     ]
    }
   ],
   "source": [
    "def my_function(food):\n",
    "  for x in food:\n",
    "    print(x)\n",
    "\n",
    "fruits = {'c':\"apple\", 'd':\"banana\", 'e':\"cherry\"}\n",
    "\n",
    "my_function(fruits)\n"
   ]
  },
  {
   "cell_type": "markdown",
   "id": "bc6d2b13-1f43-4180-acf9-a212091171a2",
   "metadata": {},
   "source": [
    "<b>The pass Statement</b> <br>\n",
    "function definitions cannot be empty, but if you for some reason have a function definition with no content, put in the <b><u>pass</u></b> statement to avoid getting an error."
   ]
  },
  {
   "cell_type": "code",
   "execution_count": 216,
   "id": "c86bbc7c-9ec6-455e-88f5-dbe482a6fb91",
   "metadata": {},
   "outputs": [],
   "source": [
    "def myfunction():\n",
    "  pass"
   ]
  },
  {
   "cell_type": "code",
   "execution_count": null,
   "id": "19712552-d979-44dd-82f8-3b0f3dc722e0",
   "metadata": {},
   "outputs": [],
   "source": []
  },
  {
   "cell_type": "markdown",
   "id": "05b68aa0-4b0c-4a90-8318-0d9ebedcb504",
   "metadata": {},
   "source": [
    "<h3>Exercise </h3>"
   ]
  },
  {
   "cell_type": "markdown",
   "id": "21507664-a11a-4632-a927-6ae91659aae9",
   "metadata": {},
   "source": [
    "Generate a Python list of all the even numbers between 4 to 30\n"
   ]
  },
  {
   "cell_type": "code",
   "execution_count": 8,
   "id": "deff6536-3bab-4cb8-8542-ec261583115b",
   "metadata": {},
   "outputs": [],
   "source": [
    "# list(range(4, 30, 2))"
   ]
  },
  {
   "cell_type": "markdown",
   "id": "bde867c9-d3a1-46c6-a238-1bff805d8886",
   "metadata": {},
   "source": [
    "Find the largest item from a given list <br>\n",
    "x = [4, 6, 8, 24, 12, 2]"
   ]
  },
  {
   "cell_type": "code",
   "execution_count": 20,
   "id": "d5ba9a76-9f3c-42ff-a31b-bba371b3f3af",
   "metadata": {},
   "outputs": [
    {
     "data": {
      "text/plain": [
       "24"
      ]
     },
     "execution_count": 20,
     "metadata": {},
     "output_type": "execute_result"
    }
   ],
   "source": [
    "x = [4, 6, 8, 24, 12, 2]\n",
    "max(x)\n",
    "# x.sort(reverse=True)\n",
    "# z = x[0]\n",
    "# print(z)"
   ]
  },
  {
   "cell_type": "markdown",
   "id": "998436a7-8dcc-4ea3-9c27-986f5675ead0",
   "metadata": {},
   "source": [
    "Define a function that accepts radius and returns the area of a circle. <br>\n",
    "radius = 4 <br>\n",
    "formula for area of circle = 2*π^2 "
   ]
  },
  {
   "cell_type": "code",
   "execution_count": 31,
   "id": "74c065aa-bfd3-467a-a38f-5d385693d2c4",
   "metadata": {},
   "outputs": [
    {
     "name": "stdout",
     "output_type": "stream",
     "text": [
      "50.24\n"
     ]
    }
   ],
   "source": [
    "def area(radius):\n",
    "    area = 3.14*radius*radius\n",
    "#     print(area)\n",
    "    return area\n",
    "\n",
    "a = area(4)\n",
    "\n",
    "print(a)\n",
    "# radius = float(input(\"Enter Radius: \"))  # 4\n",
    "# print(area(radius))"
   ]
  },
  {
   "cell_type": "code",
   "execution_count": null,
   "id": "314881e6-443d-48ee-90c4-cbdfeda0015a",
   "metadata": {},
   "outputs": [],
   "source": []
  },
  {
   "cell_type": "markdown",
   "id": "c2129440-319f-40f4-b542-24e4949ae7e4",
   "metadata": {},
   "source": [
    "Write a Python function to sum all the numbers in a list. <br>\n",
    "a = [2, 6, 9, 10] <br>\n",
    "output: 27"
   ]
  },
  {
   "cell_type": "code",
   "execution_count": 2,
   "id": "0f770515-59f2-492a-9636-47a8c95924e9",
   "metadata": {},
   "outputs": [
    {
     "name": "stdout",
     "output_type": "stream",
     "text": [
      "27\n"
     ]
    }
   ],
   "source": [
    "# Define a function named 'sum' that takes a list of numbers as input\n",
    "a = [2, 6, 9, 10]\n",
    "# expeted output is : 27\n",
    "\n",
    "def sum(numbers):\n",
    "    # Initialize a variable 'total' to store the sum of numbers, starting at 0\n",
    "    total = 0\n",
    "    \n",
    "    # Iterate through each element 'x' in the 'numbers' list\n",
    "    for x in numbers:\n",
    "        # Add the current element 'x' to the 'total'\n",
    "        total += x\n",
    "    \n",
    "    # Return the final sum stored in the 'total' variable\n",
    "    return total\n",
    "\n",
    "# Print the result of calling the 'sum' function with a tuple of numbers (8, 2, 3, 0, 7)\n",
    "print(sum(a))"
   ]
  },
  {
   "cell_type": "markdown",
   "id": "c432b839-9a81-4f0d-b178-a16c68b58e44",
   "metadata": {},
   "source": [
    "Write a Python function to multiply all the numbers in a list. <br>\n",
    "a = [2, 6, 9, 10] <br>\n",
    "output: 1080"
   ]
  },
  {
   "cell_type": "code",
   "execution_count": 4,
   "id": "0fd7ad32-e684-4f7b-8e49-afbb29760ffd",
   "metadata": {},
   "outputs": [
    {
     "name": "stdout",
     "output_type": "stream",
     "text": [
      "1080\n"
     ]
    }
   ],
   "source": [
    "# Define a function named 'multiply' that takes a list of numbers as input\n",
    "a = [2, 6, 9, 10] \n",
    "\n",
    "def multiply(numbers):\n",
    "    # Initialize a variable 'total' to store the multiplication result, starting at 1\n",
    "    total = 1\n",
    "    \n",
    "    # Iterate through each element 'x' in the 'numbers' list\n",
    "    for x in numbers:\n",
    "        # Multiply the current element 'x' with the 'total'\n",
    "        total *= x\n",
    "    \n",
    "    # Return the final multiplication result stored in the 'total' variable\n",
    "    return total\n",
    "\n",
    "# Print the result of calling the 'multiply' function with a tuple of numbers (8, 2, 3, -1, 7)\n",
    "print(multiply(a))"
   ]
  },
  {
   "cell_type": "code",
   "execution_count": null,
   "id": "f24c4057-fcb6-4b49-961d-1e0e5852e1ff",
   "metadata": {},
   "outputs": [],
   "source": []
  },
  {
   "cell_type": "markdown",
   "id": "9d7e3eaa-189c-4b2c-bf96-e2d51d75b247",
   "metadata": {},
   "source": [
    "<h4>Escape characters"
   ]
  },
  {
   "cell_type": "markdown",
   "id": "31bc0786-dfb9-4bd9-ae5f-b8624279eabc",
   "metadata": {},
   "source": [
    "<!DOCTYPE html>\n",
    "<html>\n",
    "<head>\n",
    "    <title>Escape Characters Table</title>\n",
    "</head>\n",
    "<body>\n",
    "    <table border=\"1\">\n",
    "        <tr>\n",
    "            <th>Code</th>\n",
    "            <th>Result</th>\n",
    "        </tr>\n",
    "        <tr>\n",
    "            <td>\\'</td>\n",
    "            <td>Single Quote</td>\n",
    "        </tr>\n",
    "        <tr>\n",
    "            <td>\\\\</td>\n",
    "            <td>Backslash</td>\n",
    "        </tr>\n",
    "        <tr>\n",
    "            <td>\\n</td>\n",
    "            <td>New line</td>\n",
    "        </tr>\n",
    "        <tr>\n",
    "        <tr>\n",
    "            <td>\\t</td>\n",
    "            <td>Tab</td>\n",
    "        </tr>\n",
    "        <tr>\n",
    "            <td>\\b</td>\n",
    "            <td>Backspace</td>\n",
    "        </tr>\n",
    "    </table>\n",
    "</body>\n",
    "</html>\n"
   ]
  },
  {
   "cell_type": "code",
   "execution_count": 6,
   "id": "28d1e18e-e598-449a-9d32-bf65a6d6ab51",
   "metadata": {},
   "outputs": [
    {
     "data": {
      "text/plain": [
       "\"They're playing.\""
      ]
     },
     "execution_count": 6,
     "metadata": {},
     "output_type": "execute_result"
    }
   ],
   "source": [
    "txt = 'They\\'re playing.'\n",
    "txt"
   ]
  },
  {
   "cell_type": "code",
   "execution_count": 26,
   "id": "1b6d08a5-3b25-48e2-8ede-47691220d04d",
   "metadata": {},
   "outputs": [
    {
     "name": "stdout",
     "output_type": "stream",
     "text": [
      "This will insert one\\ (backslash).\n"
     ]
    }
   ],
   "source": [
    "txt = \"This will insert one\\\\ (backslash).\"\n",
    "print(txt) \n"
   ]
  },
  {
   "cell_type": "code",
   "execution_count": 1,
   "id": "f047480b-ae00-4eb2-b6b5-8b753f04c0ea",
   "metadata": {},
   "outputs": [
    {
     "name": "stdout",
     "output_type": "stream",
     "text": [
      "Hello this is my\n",
      " World!\n"
     ]
    }
   ],
   "source": [
    "txt = \"Hello this is my\\n World!\"\n",
    "print(txt) \n"
   ]
  },
  {
   "cell_type": "code",
   "execution_count": null,
   "id": "5ccf8a07",
   "metadata": {},
   "outputs": [],
   "source": []
  },
  {
   "cell_type": "code",
   "execution_count": null,
   "id": "62aacf54",
   "metadata": {},
   "outputs": [],
   "source": []
  },
  {
   "cell_type": "markdown",
   "id": "3d12b91f-fa0a-4645-a402-29831bee462c",
   "metadata": {},
   "source": [
    "<h4>Recursion</h4> <br>\n",
    "* It means that a function calls itself.\n"
   ]
  },
  {
   "cell_type": "code",
   "execution_count": 12,
   "id": "1072c06d-7fe0-4512-8cee-0d80bbe867fe",
   "metadata": {},
   "outputs": [],
   "source": [
    "# Syntax:\n",
    "def func():\n",
    "    func()"
   ]
  },
  {
   "cell_type": "code",
   "execution_count": 6,
   "id": "a5d19f99-710d-441a-b002-f441c20d1795",
   "metadata": {},
   "outputs": [
    {
     "name": "stdout",
     "output_type": "stream",
     "text": [
      "55\n"
     ]
    }
   ],
   "source": [
    "def addition(num):\n",
    "    if num:\n",
    "        # call same function by reducing number by 1\n",
    "        return num + addition(num - 1)\n",
    "    else:\n",
    "        return 0\n",
    "\n",
    "res = addition(10)\n",
    "print(res)"
   ]
  },
  {
   "cell_type": "code",
   "execution_count": 34,
   "id": "9b77fdb9-ccb7-4b43-adff-bb968d0bb38d",
   "metadata": {},
   "outputs": [
    {
     "name": "stdout",
     "output_type": "stream",
     "text": [
      "Factorial of number 0 is 1\n"
     ]
    }
   ],
   "source": [
    "#find factorial of a number using function\n",
    "num = 0\n",
    "def recursive_factorial(n):\n",
    "  if n == 1:\n",
    "      return n\n",
    "  else:\n",
    "      return n * recursive_factorial(n-1)\n",
    " \n",
    " \n",
    "# check if the input is valid or not\n",
    "if num < 0:\n",
    "  print(\"Invalid input ! Please enter a positive number.\")\n",
    "elif num == 0:\n",
    "  print(\"Factorial of number 0 is 1\")\n",
    "else:\n",
    "  print(\"Factorial of number\", num, \"=\", recursive_factorial(num))"
   ]
  },
  {
   "cell_type": "code",
   "execution_count": 37,
   "id": "63cb4f4e-1df3-4669-80b9-8560c5b195a3",
   "metadata": {},
   "outputs": [
    {
     "data": {
      "text/plain": [
       "8"
      ]
     },
     "execution_count": 37,
     "metadata": {},
     "output_type": "execute_result"
    }
   ],
   "source": [
    "# Recursive function to find fibonacci series upto n_terms\n",
    "def recursive_fibonacci(n):\n",
    "  if n <= 1:\n",
    "      return n\n",
    "  else:\n",
    "      return(recursive_fibonacci(n-1) + recursive_fibonacci(n-2))\n",
    "\n",
    "recursive_fibonacci(6)"
   ]
  },
  {
   "cell_type": "code",
   "execution_count": null,
   "id": "0a12f6dd",
   "metadata": {},
   "outputs": [],
   "source": [
    "0 1 1 2 3 5 "
   ]
  },
  {
   "cell_type": "code",
   "execution_count": 234,
   "id": "67af5ecc-8642-4add-9d0d-9cc632c743f2",
   "metadata": {},
   "outputs": [
    {
     "name": "stdout",
     "output_type": "stream",
     "text": [
      "Fibonacci series:\n",
      "0\n",
      "1\n",
      "1\n",
      "2\n",
      "3\n",
      "5\n",
      "8\n",
      "13\n",
      "21\n",
      "34\n"
     ]
    }
   ],
   "source": [
    "# Program to print the fibonacci series upto n_terms\n",
    " \n",
    "# Recursive function\n",
    "def recursive_fibonacci(n):\n",
    "  if n <= 1:\n",
    "      return n\n",
    "  else:\n",
    "      return(recursive_fibonacci(n-1) + recursive_fibonacci(n-2))\n",
    " \n",
    "n_terms = 10\n",
    " \n",
    "# check if the number of terms is valid\n",
    "if n_terms <= 0:\n",
    "  print(\"Invalid input ! Please input a positive value\")\n",
    "else:\n",
    "  print(\"Fibonacci series:\")\n",
    "for i in range(n_terms):\n",
    "    print(recursive_fibonacci(i))"
   ]
  },
  {
   "cell_type": "markdown",
   "id": "26dccae9-7669-4c83-8407-80189e364df7",
   "metadata": {},
   "source": [
    "<h2>Exception Handling</h2> <br>\n",
    "When an error occurs, Python will normally stop and generate an error message. <br>\n",
    "\n",
    "* Errors are the problems in a program due to which the program will stop the execution.<br>\n",
    "* There are two types of Error occurs in python. <br>\n",
    "      1. Syntax errors\n",
    "      2. Logical errors (Exceptions)"
   ]
  },
  {
   "cell_type": "code",
   "execution_count": 38,
   "id": "45fccfc0-5e9a-4b44-a9c0-90d9add19648",
   "metadata": {},
   "outputs": [
    {
     "ename": "ZeroDivisionError",
     "evalue": "division by zero",
     "output_type": "error",
     "traceback": [
      "\u001b[1;31m---------------------------------------------------------------------------\u001b[0m",
      "\u001b[1;31mZeroDivisionError\u001b[0m                         Traceback (most recent call last)",
      "\u001b[1;32m~\\AppData\\Local\\Temp\\ipykernel_10056\\777668474.py\u001b[0m in \u001b[0;36m<module>\u001b[1;34m\u001b[0m\n\u001b[0;32m      2\u001b[0m \u001b[0mb\u001b[0m \u001b[1;33m=\u001b[0m \u001b[1;36m0\u001b[0m\u001b[1;33m\u001b[0m\u001b[1;33m\u001b[0m\u001b[0m\n\u001b[0;32m      3\u001b[0m \u001b[1;33m\u001b[0m\u001b[0m\n\u001b[1;32m----> 4\u001b[1;33m \u001b[0mc\u001b[0m \u001b[1;33m=\u001b[0m \u001b[1;36m1\u001b[0m\u001b[1;33m/\u001b[0m\u001b[1;36m0\u001b[0m \u001b[1;31m# as 1/0 is undefined\u001b[0m\u001b[1;33m\u001b[0m\u001b[1;33m\u001b[0m\u001b[0m\n\u001b[0m\u001b[0;32m      5\u001b[0m \u001b[1;33m\u001b[0m\u001b[0m\n\u001b[0;32m      6\u001b[0m \u001b[0mprint\u001b[0m\u001b[1;33m(\u001b[0m\u001b[0mc\u001b[0m\u001b[1;33m)\u001b[0m\u001b[1;33m\u001b[0m\u001b[1;33m\u001b[0m\u001b[0m\n",
      "\u001b[1;31mZeroDivisionError\u001b[0m: division by zero"
     ]
    }
   ],
   "source": [
    "a = 1\n",
    "b = 0\n",
    "\n",
    "c = 1/0 # as 1/0 is undefined \n",
    "\n",
    "print(c)"
   ]
  },
  {
   "cell_type": "markdown",
   "id": "144b15d1-6096-4056-8209-d7bd9b8e01ad",
   "metadata": {},
   "source": [
    "<h3><b>Syntax errors </b></h3><br>\n",
    "When the proper syntax of the language is not followed then a syntax error is thrown."
   ]
  },
  {
   "cell_type": "code",
   "execution_count": 41,
   "id": "d4d2abf1-588e-4dad-aa28-de1bb8cbc1b8",
   "metadata": {},
   "outputs": [
    {
     "ename": "TypeError",
     "evalue": "'>' not supported between instances of 'str' and 'int'",
     "output_type": "error",
     "traceback": [
      "\u001b[1;31m---------------------------------------------------------------------------\u001b[0m",
      "\u001b[1;31mTypeError\u001b[0m                                 Traceback (most recent call last)",
      "\u001b[1;32m~\\AppData\\Local\\Temp\\ipykernel_10056\\3564951206.py\u001b[0m in \u001b[0;36m<module>\u001b[1;34m\u001b[0m\n\u001b[0;32m      6\u001b[0m \u001b[1;31m# check that You are eligible to\u001b[0m\u001b[1;33m\u001b[0m\u001b[1;33m\u001b[0m\u001b[0m\n\u001b[0;32m      7\u001b[0m \u001b[1;31m#  purchase Dsa Self Paced or not\u001b[0m\u001b[1;33m\u001b[0m\u001b[1;33m\u001b[0m\u001b[0m\n\u001b[1;32m----> 8\u001b[1;33m \u001b[1;32mif\u001b[0m\u001b[1;33m(\u001b[0m\u001b[0mnumber\u001b[0m\u001b[1;33m>\u001b[0m\u001b[1;36m2999\u001b[0m\u001b[1;33m)\u001b[0m\u001b[1;33m:\u001b[0m\u001b[1;33m\u001b[0m\u001b[1;33m\u001b[0m\u001b[0m\n\u001b[0m\u001b[0;32m      9\u001b[0m     \u001b[0mprint\u001b[0m\u001b[1;33m(\u001b[0m\u001b[1;34m\"You are eligible to purchase Dsa Self Paced\"\u001b[0m\u001b[1;33m)\u001b[0m\u001b[1;33m\u001b[0m\u001b[1;33m\u001b[0m\u001b[0m\n",
      "\u001b[1;31mTypeError\u001b[0m: '>' not supported between instances of 'str' and 'int'"
     ]
    }
   ],
   "source": [
    "#program to show syntax error\n",
    "\n",
    "# initialize the amount variable \n",
    "number = 't'\n",
    "  \n",
    "# check that You are eligible to \n",
    "#  purchase Dsa Self Paced or not \n",
    "if(number>2999):\n",
    "    print(\"You are eligible to purchase Dsa Self Paced\") "
   ]
  },
  {
   "cell_type": "markdown",
   "id": "dc8c5adf-8f7e-4571-b011-456c7ec222c4",
   "metadata": {},
   "source": [
    "<h3><b>logical errors(Exception) </b></h3><br>\n",
    "When in the runtime an error that occurs after passing the syntax test is called exception or logical type."
   ]
  },
  {
   "cell_type": "code",
   "execution_count": 9,
   "id": "a41f9ed7-952e-430c-8a08-4128263568fd",
   "metadata": {},
   "outputs": [
    {
     "ename": "ZeroDivisionError",
     "evalue": "division by zero",
     "output_type": "error",
     "traceback": [
      "\u001b[0;31m---------------------------------------------------------------------------\u001b[0m",
      "\u001b[0;31mZeroDivisionError\u001b[0m                         Traceback (most recent call last)",
      "Cell \u001b[0;32mIn[9], line 5\u001b[0m\n\u001b[1;32m      2\u001b[0m marks \u001b[38;5;241m=\u001b[39m \u001b[38;5;241m90\u001b[39m\n\u001b[1;32m      4\u001b[0m \u001b[38;5;66;03m# perform division with 0 \u001b[39;00m\n\u001b[0;32m----> 5\u001b[0m a \u001b[38;5;241m=\u001b[39m \u001b[43mmarks\u001b[49m\u001b[43m \u001b[49m\u001b[38;5;241;43m/\u001b[39;49m\u001b[43m \u001b[49m\u001b[38;5;241;43m0\u001b[39;49m\n\u001b[1;32m      6\u001b[0m \u001b[38;5;28mprint\u001b[39m(a) \n",
      "\u001b[0;31mZeroDivisionError\u001b[0m: division by zero"
     ]
    }
   ],
   "source": [
    "# initialize the amount variable \n",
    "marks = 90\n",
    "  \n",
    "# perform division with 0 \n",
    "a = marks / 0\n",
    "print(a) "
   ]
  },
  {
   "cell_type": "code",
   "execution_count": null,
   "id": "23ef61f0",
   "metadata": {},
   "outputs": [],
   "source": []
  },
  {
   "cell_type": "code",
   "execution_count": 42,
   "id": "849852cf",
   "metadata": {},
   "outputs": [
    {
     "ename": "IndexError",
     "evalue": "list index out of range",
     "output_type": "error",
     "traceback": [
      "\u001b[1;31m---------------------------------------------------------------------------\u001b[0m",
      "\u001b[1;31mIndexError\u001b[0m                                Traceback (most recent call last)",
      "\u001b[1;32m~\\AppData\\Local\\Temp\\ipykernel_10056\\158835494.py\u001b[0m in \u001b[0;36m<module>\u001b[1;34m\u001b[0m\n\u001b[0;32m      1\u001b[0m \u001b[0ma\u001b[0m \u001b[1;33m=\u001b[0m \u001b[1;33m[\u001b[0m\u001b[1;36m1\u001b[0m\u001b[1;33m,\u001b[0m \u001b[1;36m5\u001b[0m\u001b[1;33m,\u001b[0m \u001b[1;36m8\u001b[0m\u001b[1;33m,\u001b[0m \u001b[1;36m9\u001b[0m\u001b[1;33m]\u001b[0m\u001b[1;33m\u001b[0m\u001b[1;33m\u001b[0m\u001b[0m\n\u001b[1;32m----> 2\u001b[1;33m \u001b[0ma\u001b[0m\u001b[1;33m[\u001b[0m\u001b[1;36m5\u001b[0m\u001b[1;33m]\u001b[0m\u001b[1;33m\u001b[0m\u001b[1;33m\u001b[0m\u001b[0m\n\u001b[0m",
      "\u001b[1;31mIndexError\u001b[0m: list index out of range"
     ]
    }
   ],
   "source": [
    "a = [1, 5, 8, 9]\n",
    "a[5]"
   ]
  },
  {
   "cell_type": "markdown",
   "id": "949bb76b-1905-4de2-88ad-72109808220f",
   "metadata": {},
   "source": [
    "<!DOCTYPE html>\n",
    "<html>\n",
    "<head>\n",
    "    <title>Two-Column Table</title>\n",
    "</head>\n",
    "<body>\n",
    "    <table border=\"1\">\n",
    "        <tr>\n",
    "            <th>Exception</th>\n",
    "            <th>Description</th>\n",
    "        </tr>\n",
    "        <tr>\n",
    "            <td>IndexError</td>\n",
    "            <td>When the wrong index of a list is retrieved.</td>\n",
    "        </tr>\n",
    "        <tr>\n",
    "            <td>AssertionError</td>\n",
    "            <td>It occurs when the assert statement fails</td>\n",
    "        </tr>\n",
    "        <tr>\n",
    "            <td>AttributeError</td>\n",
    "            <td>It occurs when an attribute assignment is failed.</td>\n",
    "        </tr>\n",
    "        <tr>\n",
    "            <td>ImportError\t</td>\n",
    "            <td>It occurs when an imported module is not found.</td>\n",
    "        </tr>\n",
    "        <tr>\n",
    "            <td>KeyError</td>\n",
    "            <td>It occurs when the key of the dictionary is not found.</td>\n",
    "        </tr>\n",
    "        <tr>\n",
    "            <td>NameError</td>\n",
    "            <td>It occurs when the variable is not defined.</td>\n",
    "        </tr>\n",
    "        <tr>\n",
    "            <td>MemoryError\t</td>\n",
    "            <td>It occurs when a program runs out of memory.</td>\n",
    "        </tr>\n",
    "        <tr>\n",
    "            <td>TypeError</td>\n",
    "            <td>It occurs when a function and operation are applied in an incorrect type.</td>\n",
    "        </tr>\n",
    "    </table>\n",
    "</body>\n",
    "</html>\n"
   ]
  },
  {
   "cell_type": "code",
   "execution_count": null,
   "id": "c663cda5-0403-4f16-85e2-831226773ca8",
   "metadata": {},
   "outputs": [],
   "source": []
  },
  {
   "cell_type": "markdown",
   "id": "1525dbbb-f2ef-4c4e-bbdb-e1155dcc425d",
   "metadata": {},
   "source": [
    "<h2>Error Handling with Try Catch</h2> <br>\n",
    "\n",
    "* Handling Exceptions with <b>Try/Except/Finally</b>\n",
    "* The <b>try</b> block lets you test a block of code for errors.\n",
    "\n",
    "* The <b>except</b> block lets you handle the error.\n",
    "\n",
    "* The <b>else</b> block lets you execute code when there is no error.\n",
    "\n",
    "* The <b>finally</b> block lets you execute code, regardless of the result of the try- and except blocks."
   ]
  },
  {
   "cell_type": "markdown",
   "id": "46b00d1d-5147-4857-8458-88128f718c70",
   "metadata": {},
   "source": [
    "<b>Try and Except Statement</b>"
   ]
  },
  {
   "cell_type": "code",
   "execution_count": 43,
   "id": "3709616e-0c0d-40a6-9aec-5cef00609cad",
   "metadata": {},
   "outputs": [
    {
     "name": "stdout",
     "output_type": "stream",
     "text": [
      "It is not divisible\n"
     ]
    }
   ],
   "source": [
    "marks = 90\n",
    "\n",
    "a = marks/0\n",
    "print(a)\n",
    "\n",
    "\n",
    "# initialize the amount variable \n",
    "marks = 90\n",
    "  \n",
    "# perform division with 0 \n",
    "try:\n",
    "    a = marks / 0\n",
    "    print(a) \n",
    "except:\n",
    "    print(\"It is not divisible\")"
   ]
  },
  {
   "cell_type": "markdown",
   "id": "b606ca46-6ed0-45f1-a7f4-fed19df1674c",
   "metadata": {},
   "source": [
    "<b>Try with Else Clause</b>"
   ]
  },
  {
   "cell_type": "code",
   "execution_count": 46,
   "id": "f1042987-af5a-46a8-a4f1-f322ea820391",
   "metadata": {},
   "outputs": [
    {
     "name": "stdout",
     "output_type": "stream",
     "text": [
      "Yeah ! Your answer is : 1\n"
     ]
    }
   ],
   "source": [
    "# Python code to illustrate working of try()  \n",
    "def divide(x, y): \n",
    "    try: \n",
    "        # Floor Division : Gives only Fractional\n",
    "        # Part as Answer \n",
    "        result = x // y \n",
    "    except ZeroDivisionError: \n",
    "        print(\"Sorry ! You are dividing by zero \") \n",
    "    else:\n",
    "        print(\"Yeah ! Your answer is :\", result) \n",
    "   \n",
    "# Look at parameters and note the working of Program \n",
    "divide(3, 2) \n",
    "# divide(3, 0)"
   ]
  },
  {
   "cell_type": "markdown",
   "id": "1038bf6e-b748-44bc-afe2-9b9ca9e53777",
   "metadata": {},
   "source": [
    "<b>Python finally Keyword</b>"
   ]
  },
  {
   "cell_type": "code",
   "execution_count": 54,
   "id": "2a59beae-93e0-45a3-ba09-3a83ba681f50",
   "metadata": {},
   "outputs": [
    {
     "name": "stdout",
     "output_type": "stream",
     "text": [
      "Sorry ! You are dividing by zero \n",
      "This is always executed\n"
     ]
    }
   ],
   "source": [
    "# Python code to illustrate \n",
    "# working of try()  \n",
    "def divide(x, y): \n",
    "    try: \n",
    "        # Floor Division : Gives only Fractional \n",
    "        # Part as Answer \n",
    "        result = x // y \n",
    "    except ZeroDivisionError: \n",
    "        print(\"Sorry ! You are dividing by zero \") \n",
    "    else:\n",
    "        print(\"Yeah ! Your answer is :\", result) \n",
    "    finally:  \n",
    "        # this block is always executed   \n",
    "        # regardless of exception generation.  \n",
    "        print('This is always executed')   \n",
    " \n",
    "# Look at parameters and note the working of Program \n",
    "# divide(3, 2) \n",
    "divide(3, 0)"
   ]
  },
  {
   "cell_type": "code",
   "execution_count": null,
   "id": "7a71791b",
   "metadata": {},
   "outputs": [],
   "source": []
  }
 ],
 "metadata": {
  "kernelspec": {
   "display_name": "Python 3 (ipykernel)",
   "language": "python",
   "name": "python3"
  },
  "language_info": {
   "codemirror_mode": {
    "name": "ipython",
    "version": 3
   },
   "file_extension": ".py",
   "mimetype": "text/x-python",
   "name": "python",
   "nbconvert_exporter": "python",
   "pygments_lexer": "ipython3",
   "version": "3.9.13"
  }
 },
 "nbformat": 4,
 "nbformat_minor": 5
}
