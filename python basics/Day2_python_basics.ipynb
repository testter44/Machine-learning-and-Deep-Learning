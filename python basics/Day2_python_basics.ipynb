{
 "cells": [
  {
   "cell_type": "markdown",
   "id": "e596dadf-f605-444a-9aed-1a2209a73677",
   "metadata": {},
   "source": [
    "<h2 >Strings</h2>\n",
    "<b>Strings in python are surrounded by either single quotation marks, or double quotation marks."
   ]
  },
  {
   "cell_type": "code",
   "execution_count": 102,
   "id": "8e284b53-4f1a-4528-9f9b-ec23c68f92ed",
   "metadata": {},
   "outputs": [
    {
     "name": "stdout",
     "output_type": "stream",
     "text": [
      "Data science\n",
      "Data science\n"
     ]
    }
   ],
   "source": [
    "print(\"Data science\")\n",
    "print('Data science')"
   ]
  },
  {
   "cell_type": "markdown",
   "id": "921255e4-1825-4c45-9230-a56c2d1a0df3",
   "metadata": {},
   "source": [
    "<b>Assigning a string to a variable is done with the variable name followed by an equal sign and the string"
   ]
  },
  {
   "cell_type": "code",
   "execution_count": 104,
   "id": "54cf4fd0-20eb-42e0-ba5a-779f952992e6",
   "metadata": {},
   "outputs": [
    {
     "name": "stdout",
     "output_type": "stream",
     "text": [
      "Data science\n"
     ]
    }
   ],
   "source": [
    "a = \"Data science\"\n",
    "print(a)"
   ]
  },
  {
   "cell_type": "markdown",
   "id": "d554835d-08aa-495e-9dd0-80270eb8450a",
   "metadata": {},
   "source": [
    "<b>You can assign a multiline string to a variable by using three quotes"
   ]
  },
  {
   "cell_type": "code",
   "execution_count": 105,
   "id": "3a8a69d3-acc4-4664-b2d4-4274b8d3d022",
   "metadata": {},
   "outputs": [
    {
     "name": "stdout",
     "output_type": "stream",
     "text": [
      "This is a bsic python class.\n",
      "We start with data types, function and classes.\n",
      "After basic skills in python we learn machine learning\n"
     ]
    }
   ],
   "source": [
    "a = \"\"\"This is a bsic python class.\n",
    "We start with data types, function and classes.\n",
    "After basic skills in python we learn machine learning\"\"\"\n",
    "print(a)"
   ]
  },
  {
   "cell_type": "code",
   "execution_count": 106,
   "id": "aa8baec8-e593-46ef-9fac-82b4b65ba26b",
   "metadata": {},
   "outputs": [
    {
     "name": "stdout",
     "output_type": "stream",
     "text": [
      "This is a bsic python class.\n",
      "We start with data types, function and classes.\n",
      "After basic skills in python we learn machine learning\n"
     ]
    }
   ],
   "source": [
    "a = '''This is a bsic python class.\n",
    "We start with data types, function and classes.\n",
    "After basic skills in python we learn machine learning'''\n",
    "print(a)"
   ]
  },
  {
   "cell_type": "markdown",
   "id": "cd9b223f-200b-469e-bcb6-bae00d89f953",
   "metadata": {},
   "source": [
    "<b>Like many other popular programming languages, strings in Python are <u>arrays</u> of bytes representing unicode characters.<br>\n",
    "\n",
    "<b>However, Python does not have a character data type, a single character is simply a string with a length of 1. <br>\n",
    "\n",
    "<b><u>Square brackets</u> can be used to access elements of the string."
   ]
  },
  {
   "cell_type": "code",
   "execution_count": 6,
   "id": "061fcc39-4036-44c5-94da-9cb3d8f2513b",
   "metadata": {},
   "outputs": [
    {
     "name": "stdout",
     "output_type": "stream",
     "text": [
      "n\n"
     ]
    }
   ],
   "source": [
    "data_s = \"Data science\"\n",
    "print(data_s[9])"
   ]
  },
  {
   "cell_type": "markdown",
   "id": "2c0ac722-8138-4c3b-b038-26df52b3ddc0",
   "metadata": {},
   "source": [
    "<b>Since strings are arrays, we can loop through the characters in a string, with a <u>for</u> loop."
   ]
  },
  {
   "cell_type": "code",
   "execution_count": 8,
   "id": "04e629f8-3a60-46f7-aa3b-aa67ce10d238",
   "metadata": {},
   "outputs": [
    {
     "name": "stdout",
     "output_type": "stream",
     "text": [
      "D\n"
     ]
    }
   ],
   "source": [
    "for x in \"Data\":\n",
    "  print(x)\n",
    "  break"
   ]
  },
  {
   "cell_type": "markdown",
   "id": "7cc75c11-aa4b-4337-acfa-d38ab217ba7b",
   "metadata": {},
   "source": [
    "<b>To get the length of a string, use the <u>len()</u> function."
   ]
  },
  {
   "cell_type": "code",
   "execution_count": 115,
   "id": "c33f490a-30ca-4328-b9e2-055a001af657",
   "metadata": {},
   "outputs": [
    {
     "name": "stdout",
     "output_type": "stream",
     "text": [
      "12\n"
     ]
    }
   ],
   "source": [
    "a = \"Data science\"\n",
    "print(len(a))"
   ]
  },
  {
   "cell_type": "code",
   "execution_count": null,
   "id": "28508e00",
   "metadata": {},
   "outputs": [],
   "source": [
    "# len()"
   ]
  },
  {
   "cell_type": "markdown",
   "id": "6b2f955c-2cfc-4aad-a254-2920a6619d48",
   "metadata": {},
   "source": [
    "<b>To check if a certain phrase or character is present in a string, we can use the keyword <u>in</u>."
   ]
  },
  {
   "cell_type": "code",
   "execution_count": 11,
   "id": "ee546284-a387-4b9c-b613-171e93c07f7b",
   "metadata": {},
   "outputs": [
    {
     "name": "stdout",
     "output_type": "stream",
     "text": [
      "False\n"
     ]
    }
   ],
   "source": [
    "txt = \"I ate a banana\"\n",
    "print(\"eat\" in txt)"
   ]
  },
  {
   "cell_type": "markdown",
   "id": "d7b2e8d0-b1e4-499f-92d5-f50553c3d6e4",
   "metadata": {},
   "source": [
    "<b>Use it in an <u>if</u> statement"
   ]
  },
  {
   "cell_type": "code",
   "execution_count": 15,
   "id": "bcf39fa7-6785-4244-b4a4-728e9c1594cf",
   "metadata": {},
   "outputs": [
    {
     "name": "stdout",
     "output_type": "stream",
     "text": [
      "Yes, 'banana' is present.\n"
     ]
    }
   ],
   "source": [
    "txt = \"I ate a banana\"\n",
    "if \"banana\" in txt:\n",
    "  print(\"Yes, 'banana' is present.\")\n",
    "else:\n",
    "    print(\"it is other fruit\")"
   ]
  },
  {
   "cell_type": "markdown",
   "id": "e8db4f93-7634-44b6-8513-0409f8cfca36",
   "metadata": {},
   "source": [
    "<b>To check if a certain phrase or character is NOT present in a string, we can use the keyword <u>not in</u>."
   ]
  },
  {
   "cell_type": "code",
   "execution_count": 121,
   "id": "0d83ec98-b517-4c53-bacb-589eb9930989",
   "metadata": {},
   "outputs": [
    {
     "name": "stdout",
     "output_type": "stream",
     "text": [
      "True\n"
     ]
    }
   ],
   "source": [
    "txt = \"I ate a banana\"\n",
    "print(\"expensive\" not in txt)"
   ]
  },
  {
   "cell_type": "code",
   "execution_count": 122,
   "id": "3ce765b1-d9e3-4247-918f-0c2f06b7666a",
   "metadata": {},
   "outputs": [
    {
     "name": "stdout",
     "output_type": "stream",
     "text": [
      "No, 'expensive' is NOT present.\n"
     ]
    }
   ],
   "source": [
    "txt = \"I ate a banana\"\n",
    "if \"expensive\" not in txt:\n",
    "  print(\"No, 'expensive' is NOT present.\")"
   ]
  },
  {
   "cell_type": "markdown",
   "id": "ee2475d4-3776-4d41-b203-d3596aacbf4b",
   "metadata": {},
   "source": [
    "<h3 style=\"color:Red\">Slicing Strings</h3>\n",
    "<b>You can return a range of characters by using the slice syntax."
   ]
  },
  {
   "cell_type": "code",
   "execution_count": 25,
   "id": "632bafe4-2632-4e10-ba58-966673dae8d5",
   "metadata": {},
   "outputs": [
    {
     "name": "stdout",
     "output_type": "stream",
     "text": [
      "ta science\n"
     ]
    }
   ],
   "source": [
    "b = \"Data science\"\n",
    "print(b[2:])"
   ]
  },
  {
   "cell_type": "code",
   "execution_count": 26,
   "id": "73510e35-9521-4c80-9892-eeece881db92",
   "metadata": {},
   "outputs": [
    {
     "name": "stdout",
     "output_type": "stream",
     "text": [
      "Data scien\n"
     ]
    }
   ],
   "source": [
    "b = \"Data science\"\n",
    "print(b[:-2])"
   ]
  },
  {
   "cell_type": "markdown",
   "id": "1351f09b-2589-4d40-9faf-b8f031c36420",
   "metadata": {},
   "source": [
    "Upper Case <br>\n",
    "<b>The <u>upper()</u> method returns the string in upper case:"
   ]
  },
  {
   "cell_type": "code",
   "execution_count": 27,
   "id": "7a8c03cf-d7f4-49b8-a341-7f9e308a3309",
   "metadata": {},
   "outputs": [
    {
     "name": "stdout",
     "output_type": "stream",
     "text": [
      "SCIENCE\n"
     ]
    }
   ],
   "source": [
    "a = \"science\"\n",
    "print(a.upper())"
   ]
  },
  {
   "cell_type": "code",
   "execution_count": 29,
   "id": "a0d045c7",
   "metadata": {},
   "outputs": [
    {
     "data": {
      "text/plain": [
       "'DATA'"
      ]
     },
     "execution_count": 29,
     "metadata": {},
     "output_type": "execute_result"
    }
   ],
   "source": [
    "\"data\".upper()"
   ]
  },
  {
   "cell_type": "markdown",
   "id": "02f659af-7702-43ae-81ed-dcc13365fd23",
   "metadata": {},
   "source": [
    "<b>Lower Case <br>\n",
    "The <u>lower()</u> method returns the string in lower case:"
   ]
  },
  {
   "cell_type": "code",
   "execution_count": 133,
   "id": "f76f3ec2-04b7-4dcb-87f0-9f800b0dbb1e",
   "metadata": {},
   "outputs": [
    {
     "name": "stdout",
     "output_type": "stream",
     "text": [
      "data science\n"
     ]
    }
   ],
   "source": [
    "a = \"Data science\"\n",
    "print(a.lower())"
   ]
  },
  {
   "cell_type": "markdown",
   "id": "55afb49b-5574-4c5b-b78a-75eeaa30d64f",
   "metadata": {},
   "source": [
    "<b>Remove Whitespace <br>\n",
    "Whitespace is the space before and/or after the actual text, and very often you want to remove this space."
   ]
  },
  {
   "cell_type": "markdown",
   "id": "43fd75fc-cff4-427b-9def-cc6d6cad5c85",
   "metadata": {},
   "source": [
    "<b> The <u>strip()</u> method removes any whitespace from the beginning or the end"
   ]
  },
  {
   "cell_type": "code",
   "execution_count": 32,
   "id": "536602fc-0458-49f9-93a9-2748ff8d2ec0",
   "metadata": {},
   "outputs": [
    {
     "name": "stdout",
     "output_type": "stream",
     "text": [
      "  Data science \n",
      "Data science\n"
     ]
    }
   ],
   "source": [
    "a = \"  Data science \"\n",
    "print(a)\n",
    "print(a.strip()) # returns \"Hello, World!\""
   ]
  },
  {
   "cell_type": "markdown",
   "id": "39cdb398-0382-479e-8be3-9b2c70cb165f",
   "metadata": {},
   "source": [
    "<b>Replace String <br>\n",
    "The <u>replace()</u> method replaces a string with another string:"
   ]
  },
  {
   "cell_type": "code",
   "execution_count": 33,
   "id": "4666e22b-0df2-424a-84e7-7f8e22c9e19d",
   "metadata": {},
   "outputs": [
    {
     "name": "stdout",
     "output_type": "stream",
     "text": [
      "Qata Science\n"
     ]
    }
   ],
   "source": [
    "a = \"Data Science\"\n",
    "print(a.replace(\"D\", \"Q\"))"
   ]
  },
  {
   "cell_type": "markdown",
   "id": "c4a0b4d6-133f-4a8d-aa6d-22241d43edd6",
   "metadata": {},
   "source": [
    "<b>Split String <br>\n",
    "The <u>split()</u> method returns a list where the text between the specified separator becomes the list items."
   ]
  },
  {
   "cell_type": "code",
   "execution_count": 35,
   "id": "0b6a939d-c500-4987-a73e-0764737a686c",
   "metadata": {},
   "outputs": [
    {
     "name": "stdout",
     "output_type": "stream",
     "text": [
      "['', 'ata, science']\n"
     ]
    }
   ],
   "source": [
    "a = \"Data, science\"\n",
    "print(a.split(\"D\")) # returns ['Data', ' science!']"
   ]
  },
  {
   "cell_type": "markdown",
   "id": "3ef1b451-7045-4eee-a5ef-6cffd110be48",
   "metadata": {},
   "source": [
    "<b>String Concatenation <br>\n",
    "To concatenate, <u>or</u> combine, two strings you can use the <u>+</u> operator."
   ]
  },
  {
   "cell_type": "code",
   "execution_count": 39,
   "id": "79036c7a-b635-4359-8490-3e703182864d",
   "metadata": {},
   "outputs": [
    {
     "name": "stdout",
     "output_type": "stream",
     "text": [
      "DataScience\n"
     ]
    }
   ],
   "source": [
    "a = \"Data\"\n",
    "b = \"Science\"\n",
    "c = a + b\n",
    "print(c)"
   ]
  },
  {
   "cell_type": "code",
   "execution_count": 37,
   "id": "dff1b3b7-83e4-414d-8041-05e66de4c595",
   "metadata": {},
   "outputs": [
    {
     "name": "stdout",
     "output_type": "stream",
     "text": [
      "Data Science\n"
     ]
    }
   ],
   "source": [
    "a = \"Data\"\n",
    "b = \"Science\"\n",
    "c = a + \" \" + b\n",
    "print(c)"
   ]
  },
  {
   "cell_type": "markdown",
   "id": "da471adc-a76d-4dca-8f2a-31f551a7dcdf",
   "metadata": {},
   "source": [
    "<b>String Format <br>\n",
    "we can combine strings and numbers by using the <u>format()</u> method!"
   ]
  },
  {
   "cell_type": "code",
   "execution_count": 40,
   "id": "d1aa7b4c-cbd6-4fb4-931a-1f3102b79359",
   "metadata": {},
   "outputs": [
    {
     "data": {
      "text/plain": [
       "'My name is Ram, and I am 30 years old. I live in Lalitpur'"
      ]
     },
     "execution_count": 40,
     "metadata": {},
     "output_type": "execute_result"
    }
   ],
   "source": [
    "\n",
    "name = 'Ram'\n",
    "age = 30\n",
    "place = 'Lalitpur'\n",
    "\n",
    "txt = \"My name is {name}, and I am {age} years old. I live in {place}\"\n",
    "z= txt.format(name=name, age=age, place=place)\n",
    "z\n"
   ]
  },
  {
   "cell_type": "code",
   "execution_count": null,
   "id": "48f9908f",
   "metadata": {},
   "outputs": [],
   "source": []
  },
  {
   "cell_type": "code",
   "execution_count": null,
   "id": "f4e093c2",
   "metadata": {},
   "outputs": [],
   "source": []
  },
  {
   "cell_type": "markdown",
   "id": "68bd949d-4883-4d58-9a40-727124ee6e17",
   "metadata": {},
   "source": [
    "<h3 style=\"color:red;\">Python Booleans</h3>\n",
    "<b>Booleans represent one of two values: <u>True</u> or <u>False</u>."
   ]
  },
  {
   "cell_type": "code",
   "execution_count": 41,
   "id": "0e52852f-292e-41a3-8aba-d886e42bfa37",
   "metadata": {},
   "outputs": [
    {
     "name": "stdout",
     "output_type": "stream",
     "text": [
      "True\n",
      "True\n",
      "False\n"
     ]
    }
   ],
   "source": [
    "print(10 > 9)\n",
    "print(10 == 10)\n",
    "print(10 < 9)"
   ]
  },
  {
   "cell_type": "code",
   "execution_count": 46,
   "id": "332261f5",
   "metadata": {},
   "outputs": [
    {
     "data": {
      "text/plain": [
       "2"
      ]
     },
     "execution_count": 46,
     "metadata": {},
     "output_type": "execute_result"
    }
   ],
   "source": [
    "x=8\n",
    "y=3\n",
    "x//y"
   ]
  },
  {
   "cell_type": "code",
   "execution_count": 63,
   "id": "cc6324cc",
   "metadata": {},
   "outputs": [
    {
     "data": {
      "text/plain": [
       "True"
      ]
     },
     "execution_count": 63,
     "metadata": {},
     "output_type": "execute_result"
    }
   ],
   "source": [
    "3==3"
   ]
  },
  {
   "cell_type": "markdown",
   "id": "34605a4a-133b-4a2e-af4b-9de715c43c91",
   "metadata": {},
   "source": [
    "<h3 style=\"color:red;\">Python Arithmetic Operators</h3>"
   ]
  },
  {
   "cell_type": "markdown",
   "id": "9f5c8071-7ecc-4bec-9742-fe56821970f5",
   "metadata": {},
   "source": [
    " <table>\n",
    "  <tr>\n",
    "    <th>Operator</th>\n",
    "    <th>Name</th>\n",
    "    <th>Example</th>\n",
    "  </tr>\n",
    "  <tr>\n",
    "    <td>+</td>\n",
    "    <td>Addition</td>\n",
    "    <td>x + y</td>\n",
    "  </tr>\n",
    "  <tr>\n",
    "    <td>-</td>\n",
    "    <td>Subtraction</td>\n",
    "    <td>x - y</td>\n",
    "  </tr>\n",
    "      <tr>\n",
    "    <td>*</td>\n",
    "    <td>Multiplication</td>\n",
    "    <td>x * y</td>\n",
    "  </tr>\n",
    "       <tr>\n",
    "    <td>/</td>\n",
    "    <td>Division</td>\n",
    "    <td>x / y</td>\n",
    "  </tr>\n",
    "       <tr>\n",
    "    <td>%</td>\n",
    "    <td>Modulus</td>\n",
    "    <td>x % y</td>\n",
    "  </tr>\n",
    "       <tr>\n",
    "    <td>**</td>\n",
    "    <td>Exponentiation</td>\n",
    "    <td>x ** y</td>\n",
    "  </tr>\n",
    "       <tr>\n",
    "    <td>//</td>\n",
    "    <td>Floor division\t</td>\n",
    "    <td>x // y\t</td>\n",
    "  </tr>\n",
    "     \n",
    "</table> "
   ]
  },
  {
   "cell_type": "markdown",
   "id": "cea48d74-d46a-4853-b5a1-157bf2507c36",
   "metadata": {},
   "source": [
    "<h3 style=\"color:red;\"'>Python Assignment Operators </h3>\n",
    "Assignment operators are used to assign values to variables"
   ]
  },
  {
   "cell_type": "markdown",
   "id": "138f9613-98f4-42f0-ad1f-947412ea3613",
   "metadata": {},
   "source": [
    " <table>\n",
    "  <tr>\n",
    "    <th>Operator</th>\n",
    "    <th>Example</th>\n",
    "    <th>Same As</th>\n",
    "  </tr>\n",
    "  <tr>\n",
    "    <td>=</td>\n",
    "    <td>x = 5</td>\n",
    "    <td>x = 5</td>\n",
    "  </tr>\n",
    "  <tr>\n",
    "    <td>+=</td>\n",
    "    <td>x += 3</td>\n",
    "    <td>x=x+3</td>\n",
    "  </tr>\n",
    "      <tr>\n",
    "    <td>-=\t</td>\n",
    "    <td>x -= 3\t</td>\n",
    "    <td>x=x-3</td>\n",
    "  </tr>\n",
    "       <tr>\n",
    "    <td>*=</td>\n",
    "    <td>x *= 3</td>\n",
    "    <td> x=x*3</td>\n",
    "  </tr>\n",
    "       <tr>\n",
    "    <td>/=\t</td>\n",
    "    <td>x /= 3\t</td>\n",
    "    <td>x =x/3</td>\n",
    "  </tr>\n",
    "       <tr>\n",
    "    <td>%=\t</td>\n",
    "    <td>x %= 3\t</td>\n",
    "    <td>x = x % 3\t</td>\n",
    "  </tr>\n",
    "     \n",
    "</table> "
   ]
  },
  {
   "cell_type": "markdown",
   "id": "fcc8f475-8121-407e-9275-8c4bfe2e08a6",
   "metadata": {},
   "source": [
    "<h3 style=\"color:red;\">Python Comparison Operators</h3>\n",
    "Comparison operators are used to compare two values:"
   ]
  },
  {
   "cell_type": "markdown",
   "id": "a7b71659-2c1f-45ef-bd59-b26af077da7e",
   "metadata": {},
   "source": [
    " <table>\n",
    "  <tr>\n",
    "    <th>Operator</th>\n",
    "    <th>Name</th>\n",
    "    <th>Example</th>\n",
    "  </tr>\n",
    "  <tr>\n",
    "    <td>==</td>\n",
    "    <td>Equal</td>\n",
    "    <td>x == y</td>\n",
    "  </tr>\n",
    "  <tr>\n",
    "    <td>!=</td>\n",
    "    <td>Not equal</td>\n",
    "    <td>x != y</td>\n",
    "  </tr>\n",
    "      <tr>\n",
    "    <td>></td>\n",
    "    <td>Greater than</td>\n",
    "    <td>x > y</td>\n",
    "  </tr>\n",
    "       <tr>\n",
    "    <td><</td>\n",
    "    <td>Less than</td>\n",
    "    <td>x < y</td>\n",
    "  </tr>\n",
    "       <tr>\n",
    "    <td>>=</td>\n",
    "    <td>Greater than or equal to</td>\n",
    "    <td>x >= y</td>\n",
    "  </tr>\n",
    "       <tr>\n",
    "    <td><=</td>\n",
    "    <td>Less than or equal to</td>\n",
    "    <td>x <= y</td>\n",
    "  </tr>\n",
    "     \n",
    "</table> "
   ]
  },
  {
   "cell_type": "markdown",
   "id": "6155b98d-307d-44c0-8a27-63b79a8841f3",
   "metadata": {},
   "source": [
    "<h3 style=\"color:red;\"> Python Logical Operators</h3>\n",
    "Logical operators are used to combine conditional statements"
   ]
  },
  {
   "cell_type": "markdown",
   "id": "5425adab-c160-433b-842c-980b538f6046",
   "metadata": {},
   "source": [
    " <table>\n",
    "  <tr>\n",
    "    <th>Operator</th>\n",
    "    <th>Description</th>\n",
    "    <th>Example</th>\n",
    "  </tr>\n",
    "  <tr>\n",
    "    <td>and</td>\n",
    "    <td>Returns True if both statements are true</td>\n",
    "    <td>x < 5 and  x < 10</td>\n",
    "  </tr>\n",
    "  <tr>\n",
    "    <td>or</td>\n",
    "    <td>Returns True if one of the statements is true</td>\n",
    "    <td>x < 5 or x < 4</td>\n",
    "  </tr>\n",
    "      <tr>\n",
    "    <td>not</td>\n",
    "    <td>Reverse the result, returns False if the result is true</td>\n",
    "    <td>not(x < 5 and x < 10)</td>\n",
    "  </tr>  \n",
    "</table> "
   ]
  },
  {
   "cell_type": "markdown",
   "id": "8ad8432b-14a1-4c01-bc82-0f346adbc060",
   "metadata": {},
   "source": [
    "<h3 style=\"color:red;\">Python Identity Operators</h3>\n",
    "Identity operators are used to compare the objects, not if they are equal, but if they are actually the same object, with the same memory location"
   ]
  },
  {
   "cell_type": "markdown",
   "id": "fd45eb41-8be6-4341-9f0d-3b8e1785f9e3",
   "metadata": {},
   "source": [
    " <table>\n",
    "  <tr>\n",
    "    <th>Operator</th>\n",
    "    <th>Description</th>\n",
    "    <th>Example</th>\n",
    "  </tr>\n",
    "  <tr>\n",
    "    <td>is</td>\n",
    "    <td>Returns True if both variables are the same object</td>\n",
    "    <td>x < x is y < 10</td>\n",
    "  </tr>\n",
    "  <tr>\n",
    "    <td>is not</td>\n",
    "    <td>Returns True if both variables are not the same object</td>\n",
    "    <td>x < x is not y< 4</td>\n",
    "  </tr>\n",
    "</table> "
   ]
  },
  {
   "cell_type": "code",
   "execution_count": 64,
   "id": "84989653",
   "metadata": {},
   "outputs": [
    {
     "name": "stdout",
     "output_type": "stream",
     "text": [
      "True\n",
      "False\n",
      "True\n"
     ]
    }
   ],
   "source": [
    "x = [\"apple\", \"banana\"]\n",
    "y = [\"apple\", \"banana\"]\n",
    "z = x\n",
    "\n",
    "print(x is z)\n",
    "\n",
    "# returns True because z is the same object as x\n",
    "\n",
    "print(x is y)\n",
    "\n",
    "# returns False because x is not the same object as y, even if they have the same content\n",
    "\n",
    "print(x == y)\n",
    "\n",
    "# to demonstrate the difference betweeen \"is\" and \"==\": this comparison returns True because x is equal to y"
   ]
  },
  {
   "cell_type": "code",
   "execution_count": 66,
   "id": "d61d1972",
   "metadata": {},
   "outputs": [
    {
     "name": "stdout",
     "output_type": "stream",
     "text": [
      "False\n",
      "True\n",
      "True\n"
     ]
    }
   ],
   "source": [
    "x = [\"apple\", \"banana\"]\n",
    "y = [\"apple\", \"car\"]\n",
    "z = x\n",
    "\n",
    "print(x is not z)\n",
    "\n",
    "# returns False because z is the same object as x\n",
    "\n",
    "print(x is not y)\n",
    "\n",
    "# returns True because x is not the same object as y, even if they have the same content\n",
    "\n",
    "print(x != y)\n",
    "\n",
    "# to demonstrate the difference betweeen \"is not\" and \"!=\": this comparison returns False because x is equal to y\n"
   ]
  },
  {
   "cell_type": "markdown",
   "id": "6ee193df",
   "metadata": {},
   "source": [
    "<b><h2>Python If ... Else</h2> <br>\n",
    " \n",
    "   Python supports the usual logical conditions from mathematics <br> \n",
    "    \n",
    " <table>\n",
    "  <tr>\n",
    "    <th>Operator</th>\n",
    "    <th>Name</th>\n",
    "    <th>Example</th>\n",
    "  </tr>\n",
    "  <tr>\n",
    "    <td>==</td>\n",
    "    <td>Equal</td>\n",
    "    <td>x == y</td>\n",
    "  </tr>\n",
    "  <tr>\n",
    "    <td>!=</td>\n",
    "    <td>Not equal</td>\n",
    "    <td>x != y</td>\n",
    "  </tr>\n",
    "      <tr>\n",
    "    <td>></td>\n",
    "    <td>Greater than</td>\n",
    "    <td>x > y</td>\n",
    "  </tr>\n",
    "       <tr>\n",
    "    <td><</td>\n",
    "    <td>Less than</td>\n",
    "    <td>x < y</td>\n",
    "  </tr>\n",
    "       <tr>\n",
    "    <td>>=</td>\n",
    "    <td>Greater than or equal to</td>\n",
    "    <td>x >= y</td>\n",
    "  </tr>\n",
    "       <tr>\n",
    "    <td><=</td>\n",
    "    <td>Less than or equal to</td>\n",
    "    <td>x <= y</td>\n",
    "  </tr>\n",
    "     \n",
    "</table> "
   ]
  },
  {
   "cell_type": "markdown",
   "id": "7fcae7bc",
   "metadata": {},
   "source": [
    "<b>If statement"
   ]
  },
  {
   "cell_type": "code",
   "execution_count": 23,
   "id": "23c4cd5e",
   "metadata": {},
   "outputs": [
    {
     "name": "stdout",
     "output_type": "stream",
     "text": [
      "b is greater than a\n"
     ]
    }
   ],
   "source": [
    "a = 33\n",
    "b = 200\n",
    "if b > a:\n",
    "    print(\"b is greater than a\")"
   ]
  },
  {
   "cell_type": "code",
   "execution_count": 69,
   "id": "1c0355d4",
   "metadata": {},
   "outputs": [
    {
     "name": "stdout",
     "output_type": "stream",
     "text": [
      "the person cannot vote\n"
     ]
    }
   ],
   "source": [
    "age = 8\n",
    "if age >= 18:\n",
    "    print(\"The person can vote\")\n",
    "else:\n",
    "    print(\"the person cannot vote\")"
   ]
  },
  {
   "cell_type": "markdown",
   "id": "a386e1af",
   "metadata": {},
   "source": [
    "<b>Elif <br> </b>\n",
    "    The elif keyword is Python's way of saying \"if the previous conditions were not true, then try this condition\""
   ]
  },
  {
   "cell_type": "code",
   "execution_count": 73,
   "id": "3a6510e7",
   "metadata": {},
   "outputs": [
    {
     "name": "stdout",
     "output_type": "stream",
     "text": [
      "b is greater than a\n"
     ]
    }
   ],
   "source": [
    "a = 33\n",
    "b = 34\n",
    "if b > a:\n",
    "  print(\"b is greater than a\")\n",
    "elif a == b:\n",
    "  print(\"a and b are equal\")\n",
    "# elif a!=b:\n",
    "#     print(\"this is output\")"
   ]
  },
  {
   "cell_type": "markdown",
   "id": "8038fb7b",
   "metadata": {},
   "source": [
    "<b>Else</b> <br>\n",
    "The else keyword catches anything which isn't caught by the preceding conditions."
   ]
  },
  {
   "cell_type": "code",
   "execution_count": 19,
   "id": "893443f8",
   "metadata": {},
   "outputs": [
    {
     "name": "stdout",
     "output_type": "stream",
     "text": [
      "The person can vote\n"
     ]
    }
   ],
   "source": [
    "# write elif condition for the code below\n",
    "age = 20\n",
    "if age >= 18:\n",
    "    print(\"The person can vote\")\n",
    "else:\n",
    "    print(\"The person cannot vote\")"
   ]
  },
  {
   "cell_type": "code",
   "execution_count": 21,
   "id": "93891008",
   "metadata": {},
   "outputs": [
    {
     "name": "stdout",
     "output_type": "stream",
     "text": [
      "a is greater than b\n"
     ]
    }
   ],
   "source": [
    "a = 200\n",
    "b = 33\n",
    "if b > a:\n",
    "  print(\"b is greater than a\")\n",
    "elif a == b:\n",
    "  print(\"a and b are equal\")\n",
    "else:\n",
    "  print(\"a is greater than b\")"
   ]
  },
  {
   "cell_type": "markdown",
   "id": "46992ec4",
   "metadata": {},
   "source": [
    "<h3>Python Loops</h3> <br>\n",
    "Python has two primitive loop commands:<br>\n",
    "\n",
    "* while loops<br>\n",
    "* for loops<br>"
   ]
  },
  {
   "cell_type": "markdown",
   "id": "bf69f2e9",
   "metadata": {},
   "source": [
    "<b>The while Loop</b><br>\n",
    "With the while loop we can execute a set of statements as long as a condition is true."
   ]
  },
  {
   "cell_type": "code",
   "execution_count": 77,
   "id": "4dc961e7",
   "metadata": {},
   "outputs": [
    {
     "name": "stdout",
     "output_type": "stream",
     "text": [
      "1\n",
      "2\n",
      "3\n",
      "4\n",
      "5\n",
      "6\n"
     ]
    }
   ],
   "source": [
    "# Print i as long as i is less than 6:\n",
    "i = 1\n",
    "while i <= 6:\n",
    "  print(i)\n",
    "  i += 1    #remember to increment i, or else the loop will continue forever. \n",
    "#i=i+1"
   ]
  },
  {
   "cell_type": "markdown",
   "id": "a5096dae",
   "metadata": {},
   "source": [
    "<b>The break Statement</b><br>\n",
    "With the break statement we can stop the loop even if the while condition is true"
   ]
  },
  {
   "cell_type": "code",
   "execution_count": 32,
   "id": "1bf8bc70",
   "metadata": {},
   "outputs": [
    {
     "name": "stdout",
     "output_type": "stream",
     "text": [
      "1\n",
      "2\n",
      "3\n"
     ]
    }
   ],
   "source": [
    "i = 1\n",
    "while i < 6:\n",
    "  print(i)\n",
    "  if i == 3:\n",
    "    break\n",
    "  i += 1"
   ]
  },
  {
   "cell_type": "markdown",
   "id": "103585c9",
   "metadata": {},
   "source": [
    "<b>The continue Statement</b><br>\n",
    "With the continue statement we can stop the current iteration, and continue with the next"
   ]
  },
  {
   "cell_type": "code",
   "execution_count": 35,
   "id": "60ae52c2",
   "metadata": {},
   "outputs": [
    {
     "name": "stdout",
     "output_type": "stream",
     "text": [
      "1\n",
      "2\n",
      "4\n",
      "5\n",
      "6\n"
     ]
    }
   ],
   "source": [
    "i = 0\n",
    "while i < 6:\n",
    "  i += 1\n",
    "  if i == 3:\n",
    "    continue\n",
    "  print(i)"
   ]
  },
  {
   "cell_type": "code",
   "execution_count": 36,
   "id": "c57d45ec",
   "metadata": {},
   "outputs": [
    {
     "name": "stdout",
     "output_type": "stream",
     "text": [
      "1\n",
      "2\n",
      "3\n",
      "4\n",
      "5\n",
      "i is no longer less than 6\n"
     ]
    }
   ],
   "source": [
    "i = 1\n",
    "while i < 6:\n",
    "  print(i)\n",
    "  i += 1\n",
    "else:\n",
    "  print(\"i is no longer less than 6\")"
   ]
  },
  {
   "cell_type": "markdown",
   "id": "64b635c6",
   "metadata": {},
   "source": [
    "<h3>Python For Loops</h3><br>\n",
    "A for loop is used for iterating over a sequence (that is either a list, a tuple, a dictionary, a set, or a string)"
   ]
  },
  {
   "cell_type": "code",
   "execution_count": 81,
   "id": "35eb37e4",
   "metadata": {},
   "outputs": [
    {
     "name": "stdout",
     "output_type": "stream",
     "text": [
      "apple\n",
      "banana\n"
     ]
    }
   ],
   "source": [
    "fruits = [\"apple\", \"banana\", \"cherry\", 1]\n",
    "for x in fruits:\n",
    "  print(x)\n",
    "  if x=='banana':\n",
    "        break"
   ]
  },
  {
   "cell_type": "code",
   "execution_count": 39,
   "id": "20dcc913",
   "metadata": {},
   "outputs": [
    {
     "name": "stdout",
     "output_type": "stream",
     "text": [
      "b\n",
      "a\n",
      "n\n",
      "a\n",
      "n\n",
      "a\n"
     ]
    }
   ],
   "source": [
    "for x in \"banana\":\n",
    "  print(x)"
   ]
  },
  {
   "cell_type": "code",
   "execution_count": 40,
   "id": "6be41944",
   "metadata": {},
   "outputs": [
    {
     "name": "stdout",
     "output_type": "stream",
     "text": [
      "apple\n",
      "banana\n"
     ]
    }
   ],
   "source": [
    "fruits = [\"apple\", \"banana\", \"cherry\"]\n",
    "for x in fruits:\n",
    "  print(x)\n",
    "  if x == \"banana\":\n",
    "    break"
   ]
  },
  {
   "cell_type": "code",
   "execution_count": 41,
   "id": "394f32db",
   "metadata": {},
   "outputs": [
    {
     "name": "stdout",
     "output_type": "stream",
     "text": [
      "apple\n",
      "cherry\n"
     ]
    }
   ],
   "source": [
    "fruits = [\"apple\", \"banana\", \"cherry\"]\n",
    "for x in fruits:\n",
    "  if x == \"banana\":\n",
    "    continue\n",
    "  print(x)"
   ]
  },
  {
   "cell_type": "code",
   "execution_count": 52,
   "id": "44f2e360",
   "metadata": {},
   "outputs": [
    {
     "name": "stdout",
     "output_type": "stream",
     "text": [
      "3\n",
      "4\n",
      "5\n"
     ]
    }
   ],
   "source": [
    "for x in range(3, 6):\n",
    "  print(x)"
   ]
  },
  {
   "cell_type": "code",
   "execution_count": 54,
   "id": "18c12197",
   "metadata": {},
   "outputs": [
    {
     "name": "stdout",
     "output_type": "stream",
     "text": [
      "3\n",
      "7\n",
      "11\n"
     ]
    }
   ],
   "source": [
    "for x in range(3, 15, 4):\n",
    "  print(x)"
   ]
  },
  {
   "cell_type": "code",
   "execution_count": 82,
   "id": "2ac77bab",
   "metadata": {},
   "outputs": [],
   "source": [
    "# Nested loop"
   ]
  },
  {
   "cell_type": "code",
   "execution_count": 57,
   "id": "a8ae668d",
   "metadata": {},
   "outputs": [
    {
     "name": "stdout",
     "output_type": "stream",
     "text": [
      "red apple\n",
      "red banana\n",
      "red cherry\n",
      "big apple\n",
      "big banana\n",
      "big cherry\n",
      "tasty apple\n",
      "tasty banana\n",
      "tasty cherry\n"
     ]
    }
   ],
   "source": [
    "adj = [\"red\", \"big\", \"tasty\"]\n",
    "fruits = [\"apple\", \"banana\", \"cherry\"]\n",
    "\n",
    "for x in adj:\n",
    "    for y in fruits:\n",
    "        print(x, y)"
   ]
  },
  {
   "cell_type": "code",
   "execution_count": null,
   "id": "44801a88",
   "metadata": {},
   "outputs": [],
   "source": [
    "x= 18 #find it x and y is ood or even \n",
    "y= 3"
   ]
  },
  {
   "cell_type": "code",
   "execution_count": null,
   "id": "d4c5b7c6",
   "metadata": {},
   "outputs": [],
   "source": []
  },
  {
   "cell_type": "code",
   "execution_count": 66,
   "id": "09ade659",
   "metadata": {},
   "outputs": [
    {
     "name": "stdout",
     "output_type": "stream",
     "text": [
      "18 Is Even Number\n",
      "3 Is Odd Number\n"
     ]
    }
   ],
   "source": [
    "x = 18\n",
    "\n",
    "if x % 2 == 0:\n",
    "    print(x,\"Is Even Number\")\n",
    "else:\n",
    "    print(x, \"Is Odd Number\")\n",
    "\n",
    "y = 3\n",
    "\n",
    "if y % 2 == 0:\n",
    "    print(y,\"Is Even Number\")\n",
    "else:\n",
    "    print(y, \"Is Odd Number\")\n"
   ]
  },
  {
   "cell_type": "code",
   "execution_count": null,
   "id": "519048ec",
   "metadata": {},
   "outputs": [],
   "source": [
    "# a = [3, 6, 99, 45]"
   ]
  },
  {
   "cell_type": "markdown",
   "id": "f5673e98-c16b-45d2-9986-e18c074552f2",
   "metadata": {},
   "source": [
    "<h2 style=\"color:red;\">Python Lists</h2> <br>\n",
    "* Lists are used to store multiple items in a single variable. <br>\n",
    "* Lists are one of 4 built-in data types in Python used to store collections of data. <br>\n",
    "* Lists are created using square brackets. <br>\n",
    "* can change, add, and remove items in a list <br>"
   ]
  },
  {
   "cell_type": "code",
   "execution_count": 160,
   "id": "5e8d9bab-7674-4631-b132-2fed6bce033b",
   "metadata": {},
   "outputs": [
    {
     "name": "stdout",
     "output_type": "stream",
     "text": [
      "['apple', 'banana', 'cherry']\n"
     ]
    }
   ],
   "source": [
    "fruits = [\"apple\", \"banana\", \"cherry\"]\n",
    "print(fruits)"
   ]
  },
  {
   "cell_type": "code",
   "execution_count": 83,
   "id": "6c585620-32b3-41dc-8dd1-4a7c7e83264b",
   "metadata": {},
   "outputs": [
    {
     "name": "stdout",
     "output_type": "stream",
     "text": [
      "['apple', 'banana', 'cherry', 'apple', 'cherry']\n"
     ]
    },
    {
     "data": {
      "text/plain": [
       "5"
      ]
     },
     "execution_count": 83,
     "metadata": {},
     "output_type": "execute_result"
    }
   ],
   "source": [
    "#Lists allow duplicate values\n",
    "apple = [\"apple\", \"banana\", \"cherry\", \"apple\", \"cherry\"]\n",
    "print(apple)\n",
    "len(apple)"
   ]
  },
  {
   "cell_type": "markdown",
   "id": "1de9dd99-b47e-44c6-9fac-0ea7f0ab68d4",
   "metadata": {},
   "source": [
    "<b>To determine how many items a list has, use the <u>len()</u> function"
   ]
  },
  {
   "cell_type": "code",
   "execution_count": 167,
   "id": "26127924-7c21-457e-b150-c9e55cdfe07f",
   "metadata": {},
   "outputs": [
    {
     "name": "stdout",
     "output_type": "stream",
     "text": [
      "3\n"
     ]
    }
   ],
   "source": [
    "fruits = [\"apple\", \"banana\", \"cherry\"]\n",
    "print(len(fruits))"
   ]
  },
  {
   "cell_type": "markdown",
   "id": "67b048a5-11b8-4b48-a662-f57b788d3d75",
   "metadata": {},
   "source": [
    "<b>List items can be of any data type"
   ]
  },
  {
   "cell_type": "code",
   "execution_count": 168,
   "id": "fbdbe79e-d8e3-404a-bae1-23076538ddd0",
   "metadata": {},
   "outputs": [],
   "source": [
    "list1 = [\"apple\", \"banana\", \"cherry\"]\n",
    "list2 = [1, 5, 7, 9, 3]\n",
    "list3 = [True, False, False]"
   ]
  },
  {
   "cell_type": "code",
   "execution_count": 169,
   "id": "cf470124-614e-4115-821d-9207377c2da9",
   "metadata": {},
   "outputs": [],
   "source": [
    "#A list can contain different data types\n",
    "list1 = [\"abc\", 34, True, 40, \"male\"]"
   ]
  },
  {
   "cell_type": "markdown",
   "id": "e650b8a1-7301-4dee-b90c-d74dd03b05b9",
   "metadata": {},
   "source": [
    "<b> We use the list() constructor when creating a new list."
   ]
  },
  {
   "cell_type": "code",
   "execution_count": 171,
   "id": "ae1b10e7-b4d9-4567-81ef-bc1839a0382d",
   "metadata": {},
   "outputs": [
    {
     "name": "stdout",
     "output_type": "stream",
     "text": [
      "['apple', 'banana', 'cherry']\n"
     ]
    }
   ],
   "source": [
    "fruits = list((\"apple\", \"banana\", \"cherry\")) # note the double round-brackets\n",
    "print(fruits)"
   ]
  },
  {
   "cell_type": "code",
   "execution_count": null,
   "id": "fa3a0181",
   "metadata": {},
   "outputs": [],
   "source": [
    "# list((\"\"))"
   ]
  },
  {
   "cell_type": "markdown",
   "id": "41f26f81-64ae-433b-9024-44b53422d1d4",
   "metadata": {},
   "source": [
    "<b>List items are indexed and you can access them by referring to the index number"
   ]
  },
  {
   "cell_type": "code",
   "execution_count": 90,
   "id": "555b2302-55cd-4c82-a08b-82822d7f619e",
   "metadata": {},
   "outputs": [
    {
     "name": "stdout",
     "output_type": "stream",
     "text": [
      "['apple', 'banana']\n"
     ]
    }
   ],
   "source": [
    "fruits = [\"apple\", \"banana\", \"cherry\"]\n",
    "print(fruits[:-1])"
   ]
  },
  {
   "cell_type": "code",
   "execution_count": 89,
   "id": "8199cfce-f89a-4a77-83ba-5a4593d154fa",
   "metadata": {},
   "outputs": [
    {
     "name": "stdout",
     "output_type": "stream",
     "text": [
      "cherry\n"
     ]
    }
   ],
   "source": [
    "fruits = [\"apple\", \"banana\", \"cherry\"]\n",
    "print(fruits[-1])"
   ]
  },
  {
   "cell_type": "code",
   "execution_count": 179,
   "id": "208311b9-3d6b-46f2-bf79-2725761bbb4a",
   "metadata": {},
   "outputs": [
    {
     "name": "stdout",
     "output_type": "stream",
     "text": [
      "['apple', 'banana']\n"
     ]
    }
   ],
   "source": [
    "#slicing\n",
    "fruits = [\"apple\", \"banana\", \"cherry\"]\n",
    "print(fruits[:2])"
   ]
  },
  {
   "cell_type": "code",
   "execution_count": 183,
   "id": "4983985b-52e0-433f-ae37-a009cbc525e5",
   "metadata": {},
   "outputs": [
    {
     "name": "stdout",
     "output_type": "stream",
     "text": [
      "['orange', 'kiwi', 'melon']\n"
     ]
    }
   ],
   "source": [
    "fruits = [\"apple\", \"banana\", \"cherry\", \"orange\", \"kiwi\", \"melon\", \"mango\"]\n",
    "print(fruits[-4:-1])"
   ]
  },
  {
   "cell_type": "markdown",
   "id": "7e8f7ae5-93d4-46ea-9f14-a014eb7acdfc",
   "metadata": {},
   "source": [
    "<b>Check if Item Exists"
   ]
  },
  {
   "cell_type": "code",
   "execution_count": 91,
   "id": "6d5c717a-ea7a-404e-a60a-159a90acf9ed",
   "metadata": {},
   "outputs": [
    {
     "name": "stdout",
     "output_type": "stream",
     "text": [
      "Yes, 'apple' is in the fruits list\n"
     ]
    }
   ],
   "source": [
    "fruit = [\"apple\", \"banana\", \"cherry\"]\n",
    "if \"apple\" in fruit:\n",
    "  print(\"Yes, 'apple' is in the fruits list\")"
   ]
  },
  {
   "cell_type": "code",
   "execution_count": 92,
   "id": "15ec21d8",
   "metadata": {},
   "outputs": [
    {
     "name": "stdout",
     "output_type": "stream",
     "text": [
      "Yes, there is an apple\n"
     ]
    }
   ],
   "source": [
    "for i in fruit:\n",
    "    if i==\"apple\":\n",
    "        print(\"Yes, there is an apple\")"
   ]
  },
  {
   "cell_type": "markdown",
   "id": "c1ee4b2e-e8c4-4555-accc-486f59b139ca",
   "metadata": {},
   "source": [
    "<b>Change Item Value <br>\n",
    "To change the value of a specific item, refer to the index number"
   ]
  },
  {
   "cell_type": "code",
   "execution_count": 95,
   "id": "4c33be0b-2ece-4ea9-99f2-16dd46b509f9",
   "metadata": {},
   "outputs": [
    {
     "name": "stdout",
     "output_type": "stream",
     "text": [
      "['apple', 'banana', 'blackcurrant']\n"
     ]
    }
   ],
   "source": [
    "fruit = [\"apple\", \"banana\", \"cherry\"]\n",
    "fruit[-1] = \"blackcurrant\"\n",
    "print(fruit)"
   ]
  },
  {
   "cell_type": "code",
   "execution_count": 96,
   "id": "2bd06a93-843e-43fa-bcd7-e96ca11b4a97",
   "metadata": {},
   "outputs": [
    {
     "name": "stdout",
     "output_type": "stream",
     "text": [
      "['apple', 'banana', 'cherry', 'orange', 'kiwi', 'blackcurrant', 'watermelon', 'mango']\n"
     ]
    }
   ],
   "source": [
    "fruit = [\"apple\", \"banana\", \"cherry\", \"orange\", \"kiwi\", \"mango\"]\n",
    "fruit[-1:-3] = [\"blackcurrant\", \"watermelon\"]\n",
    "print(fruit)"
   ]
  },
  {
   "cell_type": "code",
   "execution_count": 188,
   "id": "7ee27156-f382-4265-89a3-c278ef4e709c",
   "metadata": {},
   "outputs": [
    {
     "name": "stdout",
     "output_type": "stream",
     "text": [
      "['apple', 'watermelon']\n"
     ]
    }
   ],
   "source": [
    "fruit = [\"apple\", \"banana\", \"cherry\"]\n",
    "fruit[1:3] = [\"watermelon\"]\n",
    "print(fruit)"
   ]
  },
  {
   "cell_type": "markdown",
   "id": "64752d70-24f5-4b57-a9a3-07907a5a0d52",
   "metadata": {},
   "source": [
    "<b>Insert Items <br>\n",
    "To insert a new list item, without replacing any of the existing values, we can use the <u>insert()</u> method."
   ]
  },
  {
   "cell_type": "code",
   "execution_count": 190,
   "id": "995258ee-a9df-4f92-92e9-68e2ab33e867",
   "metadata": {},
   "outputs": [
    {
     "name": "stdout",
     "output_type": "stream",
     "text": [
      "['apple', 'banana', 'watermelon', 'cherry']\n"
     ]
    }
   ],
   "source": [
    "fruit = [\"apple\", \"banana\", \"cherry\"]\n",
    "fruit.insert(2, \"watermelon\")\n",
    "print(fruit)"
   ]
  },
  {
   "cell_type": "markdown",
   "id": "0381df16-5bfe-4b62-82ae-1ebc64bce190",
   "metadata": {},
   "source": [
    "<b>Append Items <br>\n",
    "To add an item to the end of the list, use the <u>append()</u> method:"
   ]
  },
  {
   "cell_type": "code",
   "execution_count": 192,
   "id": "497550b9-7590-4860-9c18-b827d2a9183d",
   "metadata": {},
   "outputs": [
    {
     "name": "stdout",
     "output_type": "stream",
     "text": [
      "['apple', 'banana', 'cherry', 'orange']\n"
     ]
    }
   ],
   "source": [
    "fruit = [\"apple\", \"banana\", \"cherry\"]\n",
    "fruit.append(\"orange\")\n",
    "print(fruit)"
   ]
  },
  {
   "cell_type": "markdown",
   "id": "bddfce7f-1d98-436f-8167-65fe29494d96",
   "metadata": {},
   "source": [
    "<b>Insert Items <br>\n",
    "To insert a list item at a specified index, use the insert() method. <br>\n",
    "<b>The insert() method inserts an item at the specified index"
   ]
  },
  {
   "cell_type": "code",
   "execution_count": 1,
   "id": "8813aa3e-81a0-4b97-ba7a-786aa0fcab55",
   "metadata": {},
   "outputs": [
    {
     "name": "stdout",
     "output_type": "stream",
     "text": [
      "['apple', 'orange', 'banana', 'cherry']\n"
     ]
    }
   ],
   "source": [
    "fruit = [\"apple\", \"banana\", \"cherry\"]\n",
    "fruit.insert(1, \"orange\")\n",
    "print(fruit)"
   ]
  }
 ],
 "metadata": {
  "kernelspec": {
   "display_name": "Python 3 (ipykernel)",
   "language": "python",
   "name": "python3"
  },
  "language_info": {
   "codemirror_mode": {
    "name": "ipython",
    "version": 3
   },
   "file_extension": ".py",
   "mimetype": "text/x-python",
   "name": "python",
   "nbconvert_exporter": "python",
   "pygments_lexer": "ipython3",
   "version": "3.9.13"
  }
 },
 "nbformat": 4,
 "nbformat_minor": 5
}
