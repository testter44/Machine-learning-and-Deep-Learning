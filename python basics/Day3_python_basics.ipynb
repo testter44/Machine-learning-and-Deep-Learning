{
 "cells": [
  {
   "cell_type": "markdown",
   "id": "fee503b6-a520-4d2e-a8d1-9c8b85c0c8a8",
   "metadata": {},
   "source": [
    "<b>Extend List <br>\n",
    "To append elements from another list to the current list, use the <u>extend()</u> method."
   ]
  },
  {
   "cell_type": "code",
   "execution_count": 2,
   "id": "7d026b6c-bfbc-47fa-bb9c-1c3001c6b45c",
   "metadata": {},
   "outputs": [
    {
     "name": "stdout",
     "output_type": "stream",
     "text": [
      "['apple', 'banana', 'cherry', 'mango', 'pineapple', 'papaya']\n"
     ]
    }
   ],
   "source": [
    "thislist = [\"apple\", \"banana\", \"cherry\"]\n",
    "tropical = [\"mango\", \"pineapple\", \"papaya\"]\n",
    "thislist.extend(tropical)\n",
    "print(thislist)"
   ]
  },
  {
   "cell_type": "code",
   "execution_count": 3,
   "id": "10a1f351-c330-4275-9b05-5796f7171d0d",
   "metadata": {},
   "outputs": [],
   "source": [
    "a = [1, 7, 9, 0]\n",
    "b = [\"cat\", \"dog\", \"cow\"]\n",
    "c = (\"bus\", \"car\", \"bike\")"
   ]
  },
  {
   "cell_type": "code",
   "execution_count": 5,
   "id": "4467fa08-4645-4ea4-9036-0e742029ad77",
   "metadata": {},
   "outputs": [
    {
     "data": {
      "text/plain": [
       "[1, 7, 9, 0, 'cat', 'dog', 'cow', 'cat', 'dog', 'cow']"
      ]
     },
     "execution_count": 5,
     "metadata": {},
     "output_type": "execute_result"
    }
   ],
   "source": [
    "a.extend(b)\n",
    "a"
   ]
  },
  {
   "cell_type": "code",
   "execution_count": null,
   "id": "59a5d600-491d-41ce-9483-5bcfd842b1e3",
   "metadata": {},
   "outputs": [],
   "source": []
  },
  {
   "cell_type": "code",
   "execution_count": null,
   "id": "47356f7b-9ed9-48a6-bfa8-cdf97fc83df6",
   "metadata": {},
   "outputs": [],
   "source": []
  },
  {
   "cell_type": "markdown",
   "id": "ddb78568-6ee8-4778-84dc-38a3a1cdff5a",
   "metadata": {},
   "source": [
    "<b>Add Any Iterable <br>\n",
    "The <u>extend()</u> method does not have to append lists, you can add any iterable object (tuples, sets, dictionaries etc.)."
   ]
  },
  {
   "cell_type": "code",
   "execution_count": 6,
   "id": "ae088740-735c-4b34-b6a8-85d447e8c5f5",
   "metadata": {},
   "outputs": [
    {
     "name": "stdout",
     "output_type": "stream",
     "text": [
      "['apple', 'banana', 'cherry', 'kiwi', 'orange']\n"
     ]
    }
   ],
   "source": [
    "thislist = [\"apple\", \"banana\", \"cherry\"]\n",
    "thistuple = (\"kiwi\", \"orange\")\n",
    "thislist.extend(thistuple)\n",
    "print(thislist)"
   ]
  },
  {
   "cell_type": "markdown",
   "id": "38750a31-8281-4c7f-97fa-a5ad00cba082",
   "metadata": {},
   "source": [
    "<b>Remove Specified Item <br>\n",
    "The <u>remove()</u> method removes the specified item."
   ]
  },
  {
   "cell_type": "code",
   "execution_count": 7,
   "id": "80eacc4f-4784-4cb1-acfd-f87014ef83f5",
   "metadata": {},
   "outputs": [
    {
     "name": "stdout",
     "output_type": "stream",
     "text": [
      "['apple', 'cherry']\n"
     ]
    }
   ],
   "source": [
    "fruit = [\"apple\", \"banana\", \"cherry\"]\n",
    "fruit.remove(\"banana\")\n",
    "print(fruit)"
   ]
  },
  {
   "cell_type": "code",
   "execution_count": 8,
   "id": "e75a3b3f-f272-42ed-9db1-eb86de5de83e",
   "metadata": {},
   "outputs": [
    {
     "name": "stdout",
     "output_type": "stream",
     "text": [
      "['apple', 'cherry', 'banana', 'kiwi']\n"
     ]
    }
   ],
   "source": [
    "fruit = [\"apple\", \"banana\", \"cherry\", \"banana\", \"kiwi\"]\n",
    "fruit.remove(\"banana\")\n",
    "print(fruit)"
   ]
  },
  {
   "cell_type": "code",
   "execution_count": null,
   "id": "e3945a68",
   "metadata": {},
   "outputs": [],
   "source": []
  },
  {
   "cell_type": "markdown",
   "id": "70f361da-c570-4e34-a3d9-150a14d4e7ec",
   "metadata": {},
   "source": [
    "<b>Remove Specified Index <br>\n",
    "The <u>pop()</u> method removes the specified index."
   ]
  },
  {
   "cell_type": "code",
   "execution_count": 12,
   "id": "de2dbb36-cf92-4131-8857-2e078750fed1",
   "metadata": {},
   "outputs": [
    {
     "name": "stdout",
     "output_type": "stream",
     "text": [
      "['banana', 'cherry']\n"
     ]
    }
   ],
   "source": [
    "fruit = [\"apple\", \"banana\", \"cherry\"]\n",
    "fruit.pop(0)\n",
    "print(fruit)"
   ]
  },
  {
   "cell_type": "markdown",
   "id": "346ba285-18e7-4891-ab88-6c2ccfd876a5",
   "metadata": {},
   "source": [
    "<b>If you do not specify the index, the pop() method removes the last item."
   ]
  },
  {
   "cell_type": "code",
   "execution_count": 13,
   "id": "6a042de0-dbef-4d29-85e6-cf8f7b984f8a",
   "metadata": {},
   "outputs": [
    {
     "name": "stdout",
     "output_type": "stream",
     "text": [
      "['banana', 'cherry']\n"
     ]
    }
   ],
   "source": [
    "fruit = [\"apple\", \"banana\", \"cherry\"]\n",
    "del fruit[0]\n",
    "print(fruit)"
   ]
  },
  {
   "cell_type": "code",
   "execution_count": 14,
   "id": "fba6c3f9-5834-47db-964f-b580ccae8faa",
   "metadata": {},
   "outputs": [],
   "source": [
    "fruit = [\"apple\", \"banana\", \"cherry\"]\n",
    "del fruit"
   ]
  },
  {
   "cell_type": "code",
   "execution_count": 15,
   "id": "1dd6ef0b",
   "metadata": {},
   "outputs": [
    {
     "ename": "NameError",
     "evalue": "name 'fruit' is not defined",
     "output_type": "error",
     "traceback": [
      "\u001b[1;31m---------------------------------------------------------------------------\u001b[0m",
      "\u001b[1;31mNameError\u001b[0m                                 Traceback (most recent call last)",
      "\u001b[1;32m~\\AppData\\Local\\Temp\\ipykernel_5728\\3670734841.py\u001b[0m in \u001b[0;36m<module>\u001b[1;34m\u001b[0m\n\u001b[1;32m----> 1\u001b[1;33m \u001b[0mfruit\u001b[0m\u001b[1;33m\u001b[0m\u001b[1;33m\u001b[0m\u001b[0m\n\u001b[0m",
      "\u001b[1;31mNameError\u001b[0m: name 'fruit' is not defined"
     ]
    }
   ],
   "source": [
    "fruit"
   ]
  },
  {
   "cell_type": "markdown",
   "id": "5ba675eb-a22f-4090-8b77-d3927559b443",
   "metadata": {},
   "source": [
    "<b>Clear the List <br>\n",
    "The clear() method empties the list. <br>\n",
    "<b>The list still remains, but it has no content. <br>"
   ]
  },
  {
   "cell_type": "code",
   "execution_count": 16,
   "id": "7dfbd76f-0009-45d4-beb5-2136bc30a239",
   "metadata": {},
   "outputs": [
    {
     "name": "stdout",
     "output_type": "stream",
     "text": [
      "[]\n"
     ]
    }
   ],
   "source": [
    "fruit = [\"apple\", \"banana\", \"cherry\"]\n",
    "fruit.clear()\n",
    "print(fruit)"
   ]
  },
  {
   "cell_type": "markdown",
   "id": "f478546d-3229-43bb-80c0-6c3e06b19363",
   "metadata": {},
   "source": [
    "<b>Loop Through a List</b> <br>\n",
    "You can loop through the list items by using a for loop"
   ]
  },
  {
   "cell_type": "code",
   "execution_count": 3,
   "id": "8f7abf15-f6dc-4080-a997-396d0aa75d0b",
   "metadata": {},
   "outputs": [
    {
     "name": "stdout",
     "output_type": "stream",
     "text": [
      "apple\n",
      "banana\n",
      "cherry\n"
     ]
    }
   ],
   "source": [
    "fruits = [\"apple\", \"banana\", \"cherry\"]\n",
    "for x in fruits:\n",
    "  print(x)"
   ]
  },
  {
   "cell_type": "markdown",
   "id": "9166437a-bc2f-4662-bdb9-f6a52faaf3e4",
   "metadata": {},
   "source": [
    "<b>Loop Through the Index Numbers </b><br>\n",
    "You can also loop through the list items by referring to their index number. <br>\n",
    "\n",
    "Use the range() and len() functions to create a suitable iterable"
   ]
  },
  {
   "cell_type": "code",
   "execution_count": 18,
   "id": "88e1d921-34a4-4142-9a57-934b8384a919",
   "metadata": {},
   "outputs": [
    {
     "name": "stdout",
     "output_type": "stream",
     "text": [
      "0\n",
      "1\n",
      "2\n"
     ]
    }
   ],
   "source": [
    "fruits = [\"apple\", \"banana\", \"cherry\"]\n",
    "len(fruits)\n",
    "for i in range(len(fruits)):\n",
    "    print(i)"
   ]
  },
  {
   "cell_type": "code",
   "execution_count": 19,
   "id": "0b01a02a-0c97-46bb-9064-374626a73cf6",
   "metadata": {},
   "outputs": [
    {
     "name": "stdout",
     "output_type": "stream",
     "text": [
      "apple\n",
      "banana\n",
      "cherry\n"
     ]
    }
   ],
   "source": [
    "fruits = [\"apple\", \"banana\", \"cherry\"]\n",
    "for i in range(len(fruits)):\n",
    "  print(fruits[i])"
   ]
  },
  {
   "cell_type": "markdown",
   "id": "e767bc55-9fe5-45ab-89a0-7c152d8d4f81",
   "metadata": {},
   "source": [
    "<b>Using a While Loop\n"
   ]
  },
  {
   "cell_type": "code",
   "execution_count": 20,
   "id": "91c6d219-9172-4c0c-a529-d3f49283e108",
   "metadata": {},
   "outputs": [
    {
     "name": "stdout",
     "output_type": "stream",
     "text": [
      "apple\n",
      "banana\n",
      "cherry\n"
     ]
    }
   ],
   "source": [
    "fruits = [\"apple\", \"banana\", \"cherry\"]\n",
    "i = 0\n",
    "while i < len(fruits):\n",
    "    # print(i)\n",
    "    print(fruits[i])\n",
    "    i = i + 1\n",
    "#     i+=1"
   ]
  },
  {
   "cell_type": "markdown",
   "id": "bec61800-41ba-40b4-94b2-fb1124a9d45f",
   "metadata": {},
   "source": [
    "<b>Looping Using List Comprehension"
   ]
  },
  {
   "cell_type": "code",
   "execution_count": 25,
   "id": "c33dbdb6-1d7f-438c-b7ae-325a7f0cf72c",
   "metadata": {},
   "outputs": [
    {
     "data": {
      "text/plain": [
       "['apple', 'banana', 'cherry']"
      ]
     },
     "execution_count": 25,
     "metadata": {},
     "output_type": "execute_result"
    }
   ],
   "source": [
    "fruits = [\"apple\", \"banana\", \"cherry\"]\n",
    "a = [x for x in fruits]\n",
    "a"
   ]
  },
  {
   "cell_type": "code",
   "execution_count": 24,
   "id": "7450d8f0",
   "metadata": {},
   "outputs": [
    {
     "name": "stdout",
     "output_type": "stream",
     "text": [
      "apple\n",
      "banana\n",
      "cherry\n"
     ]
    }
   ],
   "source": [
    "fruits = [\"apple\", \"banana\", \"cherry\"]\n",
    "\n",
    "for x in fruits:\n",
    "    print(x)"
   ]
  },
  {
   "cell_type": "markdown",
   "id": "437bd4e0-1b93-4b1d-941c-f24d56539847",
   "metadata": {},
   "source": [
    "<b>List Comprehension</b><br>\n",
    "List comprehension offers a shorter syntax when you want to create a new list based on the values of an existing list."
   ]
  },
  {
   "cell_type": "code",
   "execution_count": 3,
   "id": "69de3ce8-9ba7-4e2c-8cda-fe051465afde",
   "metadata": {},
   "outputs": [
    {
     "name": "stdout",
     "output_type": "stream",
     "text": [
      "['apple', 'banana', 'mango,']\n"
     ]
    }
   ],
   "source": [
    "fruits = [\"apple\", \"banana\", \"cherry\", \"kiwi\", \"mango,\", 'deer']\n",
    "newlist = []\n",
    "\n",
    "for x in fruits:\n",
    "  if \"a\" in x:\n",
    "    newlist.append(x)\n",
    "\n",
    "print(newlist)"
   ]
  },
  {
   "cell_type": "code",
   "execution_count": 30,
   "id": "699ed61d-4d50-465d-a459-3fe189a2a75c",
   "metadata": {},
   "outputs": [
    {
     "name": "stdout",
     "output_type": "stream",
     "text": [
      "['apple', 'banana', 'mango']\n"
     ]
    }
   ],
   "source": [
    "fruits = [\"apple\", \"banana\", \"cherry\", \"kiwi\", \"mango\", 'deer']\n",
    "\n",
    "newlist = [x for x in fruits if \"a\" in x]\n",
    "\n",
    "print(newlist)"
   ]
  },
  {
   "cell_type": "markdown",
   "id": "af5179ff-4960-41db-bd4c-fa8c7952aa1d",
   "metadata": {},
   "source": [
    "<b> Sort List Alphanumerically </b> <br>\n",
    "List objects have a sort() method that will sort the list alphanumerically, ascending, by default"
   ]
  },
  {
   "cell_type": "code",
   "execution_count": 31,
   "id": "c611cb71-3ccd-4ddf-9df4-cf6076fc4643",
   "metadata": {},
   "outputs": [
    {
     "name": "stdout",
     "output_type": "stream",
     "text": [
      "['banana', 'kiwi', 'mango', 'orange', 'pineapple']\n"
     ]
    }
   ],
   "source": [
    "thislist = [\"orange\", \"mango\", \"kiwi\", \"pineapple\", \"banana\"]\n",
    "thislist.sort()\n",
    "print(thislist)"
   ]
  },
  {
   "cell_type": "code",
   "execution_count": 27,
   "id": "20c0879e-f2ab-4dc2-b30f-2de97540b360",
   "metadata": {},
   "outputs": [
    {
     "name": "stdout",
     "output_type": "stream",
     "text": [
      "100\n"
     ]
    }
   ],
   "source": [
    "thislist = [100, 50, 65, 82, 23]\n",
    "thislist.sort()\n",
    "print(thislist[-1])"
   ]
  },
  {
   "cell_type": "code",
   "execution_count": 33,
   "id": "b108ec4c-dc06-48ce-926e-c8480738751e",
   "metadata": {},
   "outputs": [
    {
     "name": "stdout",
     "output_type": "stream",
     "text": [
      "['pineapple', 'orange', 'mango', 'kiwi', 'banana']\n"
     ]
    }
   ],
   "source": [
    "thislist = [\"orange\", \"mango\", \"kiwi\", \"pineapple\", \"banana\"]\n",
    "thislist.sort(reverse = True)\n",
    "print(thislist)"
   ]
  },
  {
   "cell_type": "code",
   "execution_count": 28,
   "id": "10244099-7140-425e-850f-ca698fc49888",
   "metadata": {},
   "outputs": [
    {
     "name": "stdout",
     "output_type": "stream",
     "text": [
      "[100, 82, 65, 50, 23]\n"
     ]
    }
   ],
   "source": [
    "thislist = [100, 50, 65, 82, 23]\n",
    "thislist.sort(reverse = True)\n",
    "print(thislist)"
   ]
  },
  {
   "cell_type": "markdown",
   "id": "b325a773-2598-4777-bbb9-6f688cf9e5e3",
   "metadata": {},
   "source": [
    "<h4>Task</h4>"
   ]
  },
  {
   "cell_type": "markdown",
   "id": "395be9c0-5d25-43c9-9950-d2c0a492159d",
   "metadata": {},
   "source": [
    "<b>Program to Find Largest Number in a List"
   ]
  },
  {
   "cell_type": "code",
   "execution_count": 35,
   "id": "7bf9e32b-1605-4912-9a86-af378153a3f3",
   "metadata": {},
   "outputs": [],
   "source": [
    "a = [10, 20, 4, 45, 99]"
   ]
  },
  {
   "cell_type": "code",
   "execution_count": 36,
   "id": "eca34bce-e76a-44ab-a702-0028fa18998d",
   "metadata": {},
   "outputs": [],
   "source": [
    "a.sort()"
   ]
  },
  {
   "cell_type": "code",
   "execution_count": 38,
   "id": "1974b799-3b6e-4c0d-88f8-9fb226511815",
   "metadata": {},
   "outputs": [
    {
     "name": "stdout",
     "output_type": "stream",
     "text": [
      "Largest element is: 99\n"
     ]
    }
   ],
   "source": [
    "print(\"Largest element is:\", a[-1])"
   ]
  },
  {
   "cell_type": "code",
   "execution_count": 39,
   "id": "6636c061-d940-4a6d-8527-2d3313954eae",
   "metadata": {},
   "outputs": [
    {
     "name": "stdout",
     "output_type": "stream",
     "text": [
      "Largest element is: 99\n"
     ]
    }
   ],
   "source": [
    "print(\"Largest element is:\", max(a))"
   ]
  },
  {
   "cell_type": "code",
   "execution_count": 31,
   "id": "b844fd8c",
   "metadata": {},
   "outputs": [
    {
     "name": "stdout",
     "output_type": "stream",
     "text": [
      "sajjan\n"
     ]
    },
    {
     "data": {
      "text/plain": [
       "'sajjan'"
      ]
     },
     "execution_count": 31,
     "metadata": {},
     "output_type": "execute_result"
    }
   ],
   "source": [
    "x = 7 \n",
    "input()"
   ]
  },
  {
   "cell_type": "code",
   "execution_count": 32,
   "id": "b317b551-3a32-49d5-b834-4ef7dd62aa4c",
   "metadata": {},
   "outputs": [
    {
     "name": "stdout",
     "output_type": "stream",
     "text": [
      "Enter number of elements in list: 3\n",
      "Enter elements: 43\n",
      "Enter elements: 3\n",
      "Enter elements: 67\n",
      "Largest element is: 67\n"
     ]
    }
   ],
   "source": [
    "# Python program to find largest\n",
    "# number in a list\n",
    " \n",
    "# Creating an empty list\n",
    "list1 = []\n",
    " \n",
    "# asking number of elements to put in list\n",
    "num = int(input(\"Enter number of elements in list: \"))\n",
    " \n",
    "# Iterating till num to append elements in list\n",
    "for i in range(num):\n",
    "    ele = int(input(\"Enter elements: \"))\n",
    "    list1.append(ele)\n",
    " \n",
    "# Printing maximum element\n",
    "print(\"Largest element is:\", max(list1))\n"
   ]
  },
  {
   "cell_type": "code",
   "execution_count": 9,
   "id": "f3bc86f2-af2b-4569-b55d-f38bc68bce2e",
   "metadata": {},
   "outputs": [],
   "source": [
    "# # Python program to print odd Numbers in given range\n",
    " \n",
    "# start, end = 4, 19\n",
    " \n",
    "# # iterating each number in list\n",
    "# for num in range(start, end+1):\n",
    "     \n",
    "#     # checking condition\n",
    "#     if num % 2 != 0:\n",
    "#         print(num, end = \" \")"
   ]
  },
  {
   "cell_type": "markdown",
   "id": "f53a6727-997b-49f2-8846-7ef5334eb432",
   "metadata": {},
   "source": [
    "<b>Tuple</b><br>\n",
    "* Tuples are used to store multiple items in a single variable. <br>\n",
    "* It is ordered and unchangeable\n",
    "* Tuples are written with round brackets.\n",
    "*  It allows duplicate items\n"
   ]
  },
  {
   "cell_type": "code",
   "execution_count": 33,
   "id": "fd64e63b-2366-4285-b1d8-a7da71181ead",
   "metadata": {},
   "outputs": [
    {
     "name": "stdout",
     "output_type": "stream",
     "text": [
      "('car', 'bus', 'bike', 'car', 6)\n"
     ]
    }
   ],
   "source": [
    "vechile = (\"car\", \"bus\", \"bike\", \"car\", 6)\n",
    "print(vechile)"
   ]
  },
  {
   "cell_type": "code",
   "execution_count": 34,
   "id": "169633d2-eb16-462f-976a-51540672c3e8",
   "metadata": {},
   "outputs": [
    {
     "name": "stdout",
     "output_type": "stream",
     "text": [
      "<class 'tuple'>\n"
     ]
    }
   ],
   "source": [
    "print(type(vechile))"
   ]
  },
  {
   "cell_type": "code",
   "execution_count": 35,
   "id": "4cbac051-8e81-407e-8c4c-42ba22661f5e",
   "metadata": {},
   "outputs": [
    {
     "data": {
      "text/plain": [
       "5"
      ]
     },
     "execution_count": 35,
     "metadata": {},
     "output_type": "execute_result"
    }
   ],
   "source": [
    "len(vechile)"
   ]
  },
  {
   "cell_type": "code",
   "execution_count": 38,
   "id": "0d8adee6-a8ec-4e8e-9969-e50bdbec168e",
   "metadata": {},
   "outputs": [],
   "source": [
    "vechile = (\"car\", ) # a single data in small bracket is not a tuple\n",
    "                    # should be seperated by comma"
   ]
  },
  {
   "cell_type": "code",
   "execution_count": 39,
   "id": "72f5a528-cebd-40b8-8321-4080b2d14ce9",
   "metadata": {},
   "outputs": [
    {
     "data": {
      "text/plain": [
       "tuple"
      ]
     },
     "execution_count": 39,
     "metadata": {},
     "output_type": "execute_result"
    }
   ],
   "source": [
    "type(vechile)"
   ]
  },
  {
   "cell_type": "code",
   "execution_count": 40,
   "id": "649b00e5-ae46-40df-84f5-f77bc089c044",
   "metadata": {},
   "outputs": [],
   "source": [
    "random = (\"car\", 34, 4.5, True) # tuple can be of different data type"
   ]
  },
  {
   "cell_type": "code",
   "execution_count": 36,
   "id": "2b5f9cf4-80f4-46b5-9148-7ca4329cf297",
   "metadata": {},
   "outputs": [
    {
     "data": {
      "text/plain": [
       "('car', 34, 4.5, True)"
      ]
     },
     "execution_count": 36,
     "metadata": {},
     "output_type": "execute_result"
    }
   ],
   "source": [
    "random"
   ]
  },
  {
   "cell_type": "code",
   "execution_count": 41,
   "id": "e49eed2f-8783-4790-aca9-6709ae30fd34",
   "metadata": {},
   "outputs": [],
   "source": [
    "# vechile = (\"car\", \"bus\", \"bike\", \"car\")\n",
    "vechile = tuple((\"car\", \"bus\", \"bike\", \"car\"))"
   ]
  },
  {
   "cell_type": "code",
   "execution_count": 43,
   "id": "05a0adb3",
   "metadata": {},
   "outputs": [
    {
     "data": {
      "text/plain": [
       "[1, 4, 6]"
      ]
     },
     "execution_count": 43,
     "metadata": {},
     "output_type": "execute_result"
    }
   ],
   "source": [
    "a  = list((1, 4, 6))\n",
    "a"
   ]
  },
  {
   "cell_type": "code",
   "execution_count": 42,
   "id": "b643ce0a-1783-4f49-bf13-83bc0f7f4208",
   "metadata": {},
   "outputs": [
    {
     "data": {
      "text/plain": [
       "tuple"
      ]
     },
     "execution_count": 42,
     "metadata": {},
     "output_type": "execute_result"
    }
   ],
   "source": [
    "type(vechile)"
   ]
  },
  {
   "cell_type": "code",
   "execution_count": 44,
   "id": "8b218b86-5615-4567-9fde-348993b50697",
   "metadata": {},
   "outputs": [
    {
     "data": {
      "text/plain": [
       "('car', 'bus')"
      ]
     },
     "execution_count": 44,
     "metadata": {},
     "output_type": "execute_result"
    }
   ],
   "source": [
    "vechile[-4:-2]"
   ]
  },
  {
   "cell_type": "code",
   "execution_count": 45,
   "id": "38774ae3-9a42-4f37-bfef-767db07756d3",
   "metadata": {},
   "outputs": [
    {
     "name": "stdout",
     "output_type": "stream",
     "text": [
      "yes\n"
     ]
    }
   ],
   "source": [
    "if \"car\" in vechile:\n",
    "    print(\"yes\")"
   ]
  },
  {
   "cell_type": "markdown",
   "id": "8acbd1f5-0e09-4742-8b10-20782deb8f18",
   "metadata": {},
   "source": [
    "<b>Once a tuple is created, you cannot change its values. Tuples are unchangeable, or <u>immutable</u> as it also is called."
   ]
  },
  {
   "cell_type": "code",
   "execution_count": 46,
   "id": "fc0120d1-d22a-4a52-b3bf-52f969dff0b6",
   "metadata": {},
   "outputs": [],
   "source": [
    "vechile = (\"car\", \"bus\", \"bike\", \"car\")"
   ]
  },
  {
   "cell_type": "code",
   "execution_count": 47,
   "id": "d768fd2c-9fe4-4448-b165-9054d42bc930",
   "metadata": {},
   "outputs": [],
   "source": [
    "x = list(vechile)"
   ]
  },
  {
   "cell_type": "code",
   "execution_count": 48,
   "id": "c76b05cb-2efd-45b5-aa19-9511444c28b1",
   "metadata": {},
   "outputs": [
    {
     "data": {
      "text/plain": [
       "list"
      ]
     },
     "execution_count": 48,
     "metadata": {},
     "output_type": "execute_result"
    }
   ],
   "source": [
    "type(x)"
   ]
  },
  {
   "cell_type": "code",
   "execution_count": 50,
   "id": "8291d49f-f04e-4839-8ca9-a46052312176",
   "metadata": {},
   "outputs": [],
   "source": [
    "x.append(\"daaaa\")   #x.insert(1, 1)     #x[3] = 1"
   ]
  },
  {
   "cell_type": "code",
   "execution_count": 51,
   "id": "a8bf64e3-658b-41d8-b2f0-220a99c9cbb9",
   "metadata": {},
   "outputs": [
    {
     "data": {
      "text/plain": [
       "('car', 'bus', 'bike', 'car', 'daaaa', 'daaaa')"
      ]
     },
     "execution_count": 51,
     "metadata": {},
     "output_type": "execute_result"
    }
   ],
   "source": [
    "tuple(x)"
   ]
  },
  {
   "cell_type": "code",
   "execution_count": 73,
   "id": "c9ab537b-8d2b-4eb0-8eb5-c76595c3ee86",
   "metadata": {},
   "outputs": [
    {
     "name": "stdout",
     "output_type": "stream",
     "text": [
      "car\n",
      "bus\n",
      "bike\n"
     ]
    }
   ],
   "source": [
    "#unpack tuple\n",
    "vechile = (\"car\", \"bus\", \"bike\")\n",
    "(x, y, z) = vechile\n",
    "print(x)\n",
    "print(y)\n",
    "print(z)"
   ]
  },
  {
   "cell_type": "code",
   "execution_count": 72,
   "id": "5ba9a228-c3bb-4d0b-8bd8-3c7a8890df79",
   "metadata": {},
   "outputs": [],
   "source": [
    "# vechile = (\"car\", \"bus\", \"bike\", \"1\", \"99\")"
   ]
  },
  {
   "cell_type": "code",
   "execution_count": 52,
   "id": "172514c3-c0b1-412e-bc25-fd8b03c39de3",
   "metadata": {},
   "outputs": [
    {
     "name": "stdout",
     "output_type": "stream",
     "text": [
      "car\n",
      "bus\n",
      "bike\n",
      "1\n",
      "99\n"
     ]
    }
   ],
   "source": [
    "# loop tuple using while loop\n",
    "vechile = (\"car\", \"bus\", \"bike\", \"1\", \"99\")\n",
    "i = 0\n",
    "while i < len(vechile):\n",
    "  print(vechile[i])\n",
    "  i = i + 1"
   ]
  },
  {
   "cell_type": "code",
   "execution_count": 77,
   "id": "01340a05-1e90-45cb-87e4-0ffe254155f6",
   "metadata": {},
   "outputs": [
    {
     "name": "stdout",
     "output_type": "stream",
     "text": [
      "('a', 'b', 'c', 1, 2, 3)\n"
     ]
    }
   ],
   "source": [
    "# To join two or more tuples you can use the + operator\n",
    "tuple1 = (\"a\", \"b\" , \"c\")\n",
    "tuple2 = (1, 2, 3)\n",
    "\n",
    "tuple3 = tuple1 + tuple2\n",
    "print(tuple3)"
   ]
  },
  {
   "cell_type": "code",
   "execution_count": null,
   "id": "cdbe47a1-a07d-4d24-8e85-49bfa1d335af",
   "metadata": {},
   "outputs": [],
   "source": []
  },
  {
   "cell_type": "markdown",
   "id": "3fcfd314-38d7-42c1-ac11-ac0df31abcbe",
   "metadata": {},
   "source": [
    "<b>Python Sets</b><br>\n",
    "* Sets are used to store multiple items in a single variable. (same as list and tuple)<br>\n",
    "* A set is a collection which is unordered, unchangeable*, and unindexed.\n",
    "* Sets are written with curly brackets."
   ]
  },
  {
   "cell_type": "code",
   "execution_count": 53,
   "id": "f0e0a943-70d4-45b2-ada4-f6e06cec3fb6",
   "metadata": {},
   "outputs": [],
   "source": [
    "vechile = {\"car\", \"bus\", \"bike\"}"
   ]
  },
  {
   "cell_type": "code",
   "execution_count": 54,
   "id": "8f976dc3-fdb3-4950-a476-41dffa688732",
   "metadata": {},
   "outputs": [
    {
     "name": "stdout",
     "output_type": "stream",
     "text": [
      "<class 'set'>\n"
     ]
    }
   ],
   "source": [
    "print(type(vechile))"
   ]
  },
  {
   "cell_type": "code",
   "execution_count": 57,
   "id": "a9a71bb5-0996-4c40-a4c0-4e8af9024e92",
   "metadata": {},
   "outputs": [
    {
     "name": "stdout",
     "output_type": "stream",
     "text": [
      "{'bike', 'bus', 'car'}\n"
     ]
    }
   ],
   "source": [
    "vechile = {\"car\", \"bus\", \"bike\", \"bike\"}  # no dupicate, duplicate value will be ignoredduplicate value will be ignored\n",
    "print(vechile)"
   ]
  },
  {
   "cell_type": "code",
   "execution_count": 58,
   "id": "9c3764c5",
   "metadata": {},
   "outputs": [
    {
     "data": {
      "text/plain": [
       "{'bike', 'bus', 'car'}"
      ]
     },
     "execution_count": 58,
     "metadata": {},
     "output_type": "execute_result"
    }
   ],
   "source": [
    "vechile"
   ]
  },
  {
   "cell_type": "code",
   "execution_count": 59,
   "id": "3f91dd01-be28-400b-8017-da17f1a81359",
   "metadata": {},
   "outputs": [
    {
     "name": "stdout",
     "output_type": "stream",
     "text": [
      "4\n",
      "{'bike', True, 'bus', 'car'}\n"
     ]
    }
   ],
   "source": [
    "vechile = {\"car\", \"bus\", \"bike\", \"bike\", True, 1}  # no dupicate, duplicate value will be ignored\n",
    "print(len(vechile))\n",
    "print(vechile)"
   ]
  },
  {
   "cell_type": "code",
   "execution_count": 60,
   "id": "6291f64f-d883-4f84-940a-5dfac194c9b8",
   "metadata": {},
   "outputs": [
    {
     "name": "stdout",
     "output_type": "stream",
     "text": [
      "{'bike', 'bus', 'car', True}\n"
     ]
    }
   ],
   "source": [
    "#It is also possible to use the set() constructor to make a set.\n",
    "vechile = set((\"car\", \"bus\", \"bike\", \"bike\", True, 1))\n",
    "print(vechile)"
   ]
  },
  {
   "cell_type": "code",
   "execution_count": 63,
   "id": "fd0f822e-0b83-4d8e-843d-e4340d17fdcf",
   "metadata": {},
   "outputs": [
    {
     "name": "stdout",
     "output_type": "stream",
     "text": [
      "bike\n",
      "bus\n",
      "car\n",
      "True\n"
     ]
    }
   ],
   "source": [
    "#loop in set\n",
    "for i  in vechile:\n",
    "    print(i)"
   ]
  },
  {
   "cell_type": "markdown",
   "id": "c2ccfaf6-9d7d-45af-86d1-3e95f099d630",
   "metadata": {},
   "source": [
    "<b>add items in set using <u>add()</u>"
   ]
  },
  {
   "cell_type": "code",
   "execution_count": 64,
   "id": "c04443ba-e94b-4e25-9ea6-65ebcc9a7900",
   "metadata": {},
   "outputs": [
    {
     "name": "stdout",
     "output_type": "stream",
     "text": [
      "{'bike', 'bus', 'truck', 'car'}\n"
     ]
    }
   ],
   "source": [
    "#add items in set using add()\n",
    "vechile = {\"car\", \"bus\", \"bike\"}\n",
    "vechile.add(\"truck\")\n",
    "print(vechile)"
   ]
  },
  {
   "cell_type": "markdown",
   "id": "b771a6cd-728c-439a-ade6-349dc8f447be",
   "metadata": {},
   "source": [
    "<b>To add items from another set into the current set, use the <u>update()</u> method.</b>"
   ]
  },
  {
   "cell_type": "code",
   "execution_count": 65,
   "id": "2cc62401-50bb-468c-8764-cce1549f97e2",
   "metadata": {},
   "outputs": [
    {
     "name": "stdout",
     "output_type": "stream",
     "text": [
      "{'banana', 'mango', 'pineapple', 'cherry', 'apple', 'papaya'}\n"
     ]
    }
   ],
   "source": [
    "thisset = {\"apple\", \"banana\", \"cherry\"}\n",
    "tropical = {\"pineapple\", \"mango\", \"papaya\"}\n",
    "\n",
    "thisset.update(tropical)\n",
    "\n",
    "print(thisset)"
   ]
  },
  {
   "cell_type": "code",
   "execution_count": 66,
   "id": "1e8180ad-c92e-4434-8734-163a79a2000f",
   "metadata": {},
   "outputs": [
    {
     "name": "stdout",
     "output_type": "stream",
     "text": [
      "{'banana', 'orange', 'cherry', 'kiwi', 'apple'}\n"
     ]
    }
   ],
   "source": [
    "thisset = {\"apple\", \"banana\", \"cherry\"}\n",
    "mylist = (\"kiwi\", \"orange\")\n",
    "\n",
    "thisset.update(mylist)\n",
    "\n",
    "print(thisset)"
   ]
  },
  {
   "cell_type": "markdown",
   "id": "b8f8ae71-6398-4661-ba56-b823edc5624e",
   "metadata": {},
   "source": [
    "<b>Remove a random item by using the <u>remove(), discard()</u> method"
   ]
  },
  {
   "cell_type": "code",
   "execution_count": 69,
   "id": "f91b71e3-d38a-4131-acb9-bd251caba053",
   "metadata": {},
   "outputs": [
    {
     "name": "stdout",
     "output_type": "stream",
     "text": [
      "{'apple', 'cherry'}\n"
     ]
    }
   ],
   "source": [
    "thisset = {\"apple\", \"banana\", \"cherry\"}\n",
    "\n",
    "thisset.remove(\"banana\")   #discard(\"banana\")\n",
    "\n",
    "# print(x)\n",
    "\n",
    "print(thisset)"
   ]
  },
  {
   "cell_type": "markdown",
   "id": "67989a3e-0e8a-4e64-9924-582c7f5813f4",
   "metadata": {},
   "source": [
    "<b>we can use <u>union()</u> and <u>update()</u> method to join sets"
   ]
  },
  {
   "cell_type": "code",
   "execution_count": 122,
   "id": "c53ddbdc-2cdd-4d34-88d2-172ac583ef91",
   "metadata": {},
   "outputs": [
    {
     "name": "stdout",
     "output_type": "stream",
     "text": [
      "{'b', 1, 2, 3, 'c', 'a'}\n"
     ]
    }
   ],
   "source": [
    "set1 = {\"a\", \"b\" , \"c\"}\n",
    "set2 = {1, 2, 3}\n",
    "\n",
    "set3 = set1.union(set2)  #update(set2)\n",
    "print(set3)"
   ]
  },
  {
   "cell_type": "markdown",
   "id": "a151fffd-bd32-45aa-96d0-00defc20cf83",
   "metadata": {},
   "source": [
    "<h2>Python Dictionaries</h2>\n",
    "* Dictionaries are written with curly brackets, and have keys and values.<br>\n",
    "* Dictionaries are used to store data values in key:value pairs. <br>\n",
    "* A dictionary is a collection which is ordered*, changeable and do not allow duplicates. <br> \n",
    "\n",
    "\n"
   ]
  },
  {
   "cell_type": "code",
   "execution_count": 78,
   "id": "9161cfa3-074e-40f7-a6b5-08dde919ae11",
   "metadata": {},
   "outputs": [
    {
     "name": "stdout",
     "output_type": "stream",
     "text": [
      "{'brand': 'Ford', 'model': 'Mustang', 'year': 1964}\n"
     ]
    }
   ],
   "source": [
    "dict = {\n",
    "  \"brand\": \"Ford\",     # values can be of any data types\n",
    "  \"model\": \"Mustang\",\n",
    "  \"year\": 1964\n",
    "}\n",
    "print(dict)"
   ]
  },
  {
   "cell_type": "code",
   "execution_count": 71,
   "id": "1d37a740-3f8e-4c27-a104-7c5768a3e078",
   "metadata": {},
   "outputs": [
    {
     "name": "stdout",
     "output_type": "stream",
     "text": [
      "3\n"
     ]
    }
   ],
   "source": [
    "print(len(dict))"
   ]
  },
  {
   "cell_type": "code",
   "execution_count": 73,
   "id": "9e7bd1d6-e09d-45d5-8327-54037c21ce76",
   "metadata": {},
   "outputs": [],
   "source": [
    "# Nested dictionary\n",
    "students = {\n",
    "  \"student_1\" : {\n",
    "    \"name\" : \"Anil\",\n",
    "    \"year\" : 2004\n",
    "  },\n",
    "  \"student_2\" : {\n",
    "    \"name\" : \"Sita\",\n",
    "    \"year\" : 2007\n",
    "  },\n",
    "  \"student_3\" : {\n",
    "    \"name\" : \"Laxmi\",\n",
    "    \"year\" : 2011\n",
    "  }\n",
    "}"
   ]
  },
  {
   "cell_type": "code",
   "execution_count": 75,
   "id": "88fabf5a-e634-401b-9da9-07d8cf4efce0",
   "metadata": {},
   "outputs": [
    {
     "data": {
      "text/plain": [
       "'Anil'"
      ]
     },
     "execution_count": 75,
     "metadata": {},
     "output_type": "execute_result"
    }
   ],
   "source": [
    "students[\"student_1\"]['name']"
   ]
  },
  {
   "cell_type": "code",
   "execution_count": 3,
   "id": "a8746706-020f-4ab7-ad22-1acc7e0f6855",
   "metadata": {},
   "outputs": [],
   "source": [
    "  student_1 = {\n",
    "    \"name\" : \"Anil\",\n",
    "    \"year\" : 2004\n",
    "  }\n",
    "\n",
    "    \n",
    "student_2 = {\n",
    "    \"name\" : \"Sita\",\n",
    "    \"year\" : 2007\n",
    "  }\n",
    "\n",
    "student_3 = {\n",
    "    \"name\" : \"Laxmi\",\n",
    "    \"year\" : 2011\n",
    "  }\n",
    "\n",
    "classSix = {\n",
    "    \"student_1\": student_1, \n",
    "    \"student_2\": student_2, \n",
    "    \"student_3\": student_3\n",
    "}"
   ]
  },
  {
   "cell_type": "code",
   "execution_count": 2,
   "id": "79eb4dd2-4d45-4915-a334-81b8daeba8eb",
   "metadata": {},
   "outputs": [
    {
     "data": {
      "text/plain": [
       "{'name': 'Anil', 'year': 2004}"
      ]
     },
     "execution_count": 2,
     "metadata": {},
     "output_type": "execute_result"
    }
   ],
   "source": [
    "classSix['student_1']"
   ]
  },
  {
   "cell_type": "code",
   "execution_count": null,
   "id": "3f3cc623-c08d-43af-bee9-460a66a557b3",
   "metadata": {},
   "outputs": [],
   "source": []
  },
  {
   "cell_type": "code",
   "execution_count": 77,
   "id": "2cb81931-3acf-475a-86f1-5eb4502feffd",
   "metadata": {},
   "outputs": [
    {
     "name": "stdout",
     "output_type": "stream",
     "text": [
      "Ford\n",
      "Ford\n"
     ]
    }
   ],
   "source": [
    "# access dictionary items\n",
    "print(dict[\"brand\"]) # with key\n",
    "\n",
    "print(dict.get(\"brand\")) # with get() method"
   ]
  },
  {
   "cell_type": "markdown",
   "id": "800bf348-e85a-4aaa-ae64-ddad9ac428e5",
   "metadata": {},
   "source": [
    "<b>The <u>keys()</u> method will return a list of all the keys in the dictionary."
   ]
  },
  {
   "cell_type": "code",
   "execution_count": 132,
   "id": "f1b7645d-5990-4d97-8821-cb443fd812bf",
   "metadata": {},
   "outputs": [
    {
     "data": {
      "text/plain": [
       "dict_keys(['brand', 'model', 'year'])"
      ]
     },
     "execution_count": 132,
     "metadata": {},
     "output_type": "execute_result"
    }
   ],
   "source": [
    "dict.keys()"
   ]
  },
  {
   "cell_type": "markdown",
   "id": "fed809e1-d1fa-4759-a1cf-bba34735ae2e",
   "metadata": {},
   "source": [
    "<b>The <u>values()</u> method will return a list of all the values in the dictionary"
   ]
  },
  {
   "cell_type": "code",
   "execution_count": 79,
   "id": "a90faf49-b13e-4827-90af-c184179ae3d9",
   "metadata": {},
   "outputs": [
    {
     "data": {
      "text/plain": [
       "dict_values(['Ford', 'Mustang', 1964])"
      ]
     },
     "execution_count": 79,
     "metadata": {},
     "output_type": "execute_result"
    }
   ],
   "source": [
    "dict.values()"
   ]
  },
  {
   "cell_type": "code",
   "execution_count": 80,
   "id": "800d4e72-522d-4ebd-a3de-cc63e36092f1",
   "metadata": {},
   "outputs": [
    {
     "data": {
      "text/plain": [
       "{'brand': 'Ford', 'model': 'Mustang', 'year': '2000'}"
      ]
     },
     "execution_count": 80,
     "metadata": {},
     "output_type": "execute_result"
    }
   ],
   "source": [
    "# add or update dictionary keys\n",
    "dict[\"year\"]=\"2000\"\n",
    "dict"
   ]
  },
  {
   "cell_type": "code",
   "execution_count": 81,
   "id": "59a8d9e5-4d6c-43f7-b324-48445738d638",
   "metadata": {},
   "outputs": [
    {
     "name": "stdout",
     "output_type": "stream",
     "text": [
      "Yes\n"
     ]
    }
   ],
   "source": [
    "#Check if \"model\" is present in the dictionary\n",
    "dict = {\n",
    "  \"brand\": \"Ford\",    \n",
    "  \"model\": \"Mustang\",\n",
    "  \"year\": 1964\n",
    "}\n",
    "\n",
    "if \"model\" in dict:\n",
    "    print(\"Yes\")\n",
    "else:\n",
    "    print(\"no\")"
   ]
  },
  {
   "cell_type": "code",
   "execution_count": 82,
   "id": "a42ebf0e-3955-4525-bfff-a2cabd75122b",
   "metadata": {},
   "outputs": [
    {
     "name": "stdout",
     "output_type": "stream",
     "text": [
      "{'brand': 'Ford', 'year': 1964}\n"
     ]
    }
   ],
   "source": [
    "#using pop() method to remove dictionary items\n",
    "dict = {\n",
    "  \"brand\": \"Ford\",\n",
    "  \"model\": \"Mustang\",\n",
    "  \"year\": 1964\n",
    "}\n",
    "dict.pop(\"model\")\n",
    "print(dict)"
   ]
  },
  {
   "cell_type": "code",
   "execution_count": 83,
   "id": "6d20db2a-76ef-4c5d-9dd0-ebc2bdc1b078",
   "metadata": {},
   "outputs": [
    {
     "name": "stdout",
     "output_type": "stream",
     "text": [
      "brand\n",
      "year\n"
     ]
    }
   ],
   "source": [
    "#loop in dictionary\n",
    "for i in dict:\n",
    "    print(i)"
   ]
  },
  {
   "cell_type": "code",
   "execution_count": 154,
   "id": "e0862df4-82df-4970-a868-ba3a3a3f3872",
   "metadata": {},
   "outputs": [
    {
     "name": "stdout",
     "output_type": "stream",
     "text": [
      "Ford\n",
      "1964\n"
     ]
    }
   ],
   "source": [
    "for i in dict:\n",
    "    print(dict[i])"
   ]
  },
  {
   "cell_type": "code",
   "execution_count": 84,
   "id": "159bcfb9-33f3-4c26-bf00-ff96f7f4280a",
   "metadata": {},
   "outputs": [
    {
     "name": "stdout",
     "output_type": "stream",
     "text": [
      "brand Ford\n",
      "year 1964\n"
     ]
    }
   ],
   "source": [
    "for i, j in dict.items():\n",
    "    print(i, j)"
   ]
  },
  {
   "cell_type": "code",
   "execution_count": 85,
   "id": "83026203-9b07-41dc-8960-c8bca83a5760",
   "metadata": {},
   "outputs": [
    {
     "name": "stdout",
     "output_type": "stream",
     "text": [
      "{'brand': 'Ford', 'model': 'Mustang', 'year': 1964}\n"
     ]
    }
   ],
   "source": [
    "\n",
    "#copy dictionary with copy() method \n",
    "car = {\n",
    "  \"brand\": \"Ford\",\n",
    "  \"model\": \"Mustang\",\n",
    "  \"year\": 1964\n",
    "}\n",
    "new_car = car.copy()\n",
    "print(new_car)"
   ]
  },
  {
   "cell_type": "code",
   "execution_count": 86,
   "id": "166ce34a-1d63-4f93-b8f7-bb7580196802",
   "metadata": {},
   "outputs": [
    {
     "name": "stdout",
     "output_type": "stream",
     "text": [
      "{}\n"
     ]
    }
   ],
   "source": [
    "car = {\n",
    "  \"brand\": \"Ford\",\n",
    "  \"model\": \"Mustang\",\n",
    "  \"year\": 1964\n",
    "}\n",
    "\n",
    "car.clear()\n",
    "\n",
    "print(car)"
   ]
  },
  {
   "cell_type": "code",
   "execution_count": 87,
   "id": "d314b012-d317-485f-b221-0621fc9d439c",
   "metadata": {},
   "outputs": [
    {
     "name": "stdout",
     "output_type": "stream",
     "text": [
      "{'brand': 'Ford', 'year': 1964}\n"
     ]
    }
   ],
   "source": [
    "car = {\n",
    "  \"brand\": \"Ford\",\n",
    "  \"model\": \"Mustang\",\n",
    "  \"year\": 1964\n",
    "}\n",
    "\n",
    "car.pop(\"model\")\n",
    "\n",
    "print(car)"
   ]
  },
  {
   "cell_type": "markdown",
   "id": "b52dd758-b2f7-440c-b9e2-8750edbb872c",
   "metadata": {},
   "source": [
    "<b>Python Collections (Arrays)</b> <br>\n",
    "* List\n",
    "* Tuple\n",
    "* Set\n",
    "* Dictionary"
   ]
  },
  {
   "cell_type": "markdown",
   "id": "e6a5ceb1-1179-410e-b6b3-5e8bc9587a2b",
   "metadata": {},
   "source": [
    "<b>Array</b><br>\n",
    "An array is a special variable, which can hold more than one value at a time."
   ]
  },
  {
   "cell_type": "markdown",
   "id": "e2afc757-0bfb-4d64-bc76-9e4199344cf4",
   "metadata": {},
   "source": [
    "<h3>Python Functions</h3> <br>\n",
    "\n",
    "* A function is a block of code which only runs when it is called.\n",
    "\n",
    "* You can pass data, known as parameters, into a function.\n",
    "\n",
    "* A function can return data as a result."
   ]
  },
  {
   "cell_type": "code",
   "execution_count": 94,
   "id": "1d4c3e57-41bc-4036-b47a-cc804a89aa35",
   "metadata": {},
   "outputs": [
    {
     "name": "stdout",
     "output_type": "stream",
     "text": [
      "Hello from a function\n"
     ]
    }
   ],
   "source": [
    "def my_function():\n",
    "    print(\"Hello from a function\")\n",
    "\n",
    "my_function()"
   ]
  },
  {
   "cell_type": "code",
   "execution_count": 2,
   "id": "c13b714a-56ff-4560-8ea2-3c9b31e85b7e",
   "metadata": {},
   "outputs": [
    {
     "data": {
      "text/plain": [
       "6"
      ]
     },
     "execution_count": 2,
     "metadata": {},
     "output_type": "execute_result"
    }
   ],
   "source": [
    "def add(a, b):   # a and b are called parameter #A parameter is the variable listed inside the parentheses in the function definition. \n",
    "    z = a+b\n",
    "#     print(z)\n",
    "    return z\n",
    "    \n",
    "add(2, 4) # 2 & 4 are called argument # An argument is the value that is sent to the function when it is called."
   ]
  },
  {
   "cell_type": "code",
   "execution_count": null,
   "id": "d6cb4c8a",
   "metadata": {},
   "outputs": [],
   "source": []
  },
  {
   "cell_type": "markdown",
   "id": "4f796cf4-c8a6-4941-94c5-2d3e685636d9",
   "metadata": {},
   "source": [
    "<b>If you do not know how many arguments that will be passed into your function, add a * before the parameter name in the function definition."
   ]
  },
  {
   "cell_type": "code",
   "execution_count": 100,
   "id": "a4e2e2bd-3588-4809-8f1a-f3d3643b2a74",
   "metadata": {},
   "outputs": [
    {
     "name": "stdout",
     "output_type": "stream",
     "text": [
      "The youngest child is Linus\n"
     ]
    }
   ],
   "source": [
    "def my_function(*kids):\n",
    "  print(\"The youngest child is \" + kids[2])\n",
    "\n",
    "my_function(\"Emil\", \"Tobias\", \"Linus\")"
   ]
  },
  {
   "cell_type": "markdown",
   "id": "ec1e6210-ad10-4573-ac9e-c24b0cc75fc7",
   "metadata": {},
   "source": [
    "<b>Default Parameter Value</b><br>\n",
    "If we call the function without argument, it uses the default value"
   ]
  },
  {
   "cell_type": "code",
   "execution_count": 101,
   "id": "d1af5549-6eea-4ee1-a05f-257f46c711c7",
   "metadata": {},
   "outputs": [
    {
     "data": {
      "text/plain": [
       "10"
      ]
     },
     "execution_count": 101,
     "metadata": {},
     "output_type": "execute_result"
    }
   ],
   "source": [
    "\n",
    "def my_function(a=4, b=6):\n",
    "  sum = a+b\n",
    "  return sum\n",
    "\n",
    "my_function()\n",
    "# my_function(6, 6)"
   ]
  },
  {
   "cell_type": "code",
   "execution_count": 102,
   "id": "6f982eac-3e6c-48c9-9240-f9776412812f",
   "metadata": {},
   "outputs": [
    {
     "name": "stdout",
     "output_type": "stream",
     "text": [
      "c\n",
      "d\n",
      "e\n"
     ]
    }
   ],
   "source": [
    "def my_function(food):\n",
    "  for x in food:\n",
    "    print(x)\n",
    "\n",
    "fruits = {'c':\"apple\", 'd':\"banana\", 'e':\"cherry\"}\n",
    "\n",
    "my_function(fruits)\n"
   ]
  },
  {
   "cell_type": "markdown",
   "id": "bc6d2b13-1f43-4180-acf9-a212091171a2",
   "metadata": {},
   "source": [
    "<b>The pass Statement</b> <br>\n",
    "function definitions cannot be empty, but if you for some reason have a function definition with no content, put in the <b><u>pass</u></b> statement to avoid getting an error."
   ]
  },
  {
   "cell_type": "code",
   "execution_count": 6,
   "id": "c86bbc7c-9ec6-455e-88f5-dbe482a6fb91",
   "metadata": {},
   "outputs": [],
   "source": [
    "def myfunction():\n",
    "    pass"
   ]
  },
  {
   "cell_type": "code",
   "execution_count": null,
   "id": "19712552-d979-44dd-82f8-3b0f3dc722e0",
   "metadata": {},
   "outputs": [],
   "source": []
  },
  {
   "cell_type": "markdown",
   "id": "05b68aa0-4b0c-4a90-8318-0d9ebedcb504",
   "metadata": {},
   "source": [
    "<h3>Exercise </h3>"
   ]
  },
  {
   "cell_type": "markdown",
   "id": "21507664-a11a-4632-a927-6ae91659aae9",
   "metadata": {},
   "source": [
    "Generate a Python list of all the even numbers between 4 to 30\n"
   ]
  },
  {
   "cell_type": "code",
   "execution_count": 106,
   "id": "deff6536-3bab-4cb8-8542-ec261583115b",
   "metadata": {},
   "outputs": [
    {
     "data": {
      "text/plain": [
       "[4, 6, 8, 10, 12, 14, 16, 18, 20, 22, 24, 26, 28]"
      ]
     },
     "execution_count": 106,
     "metadata": {},
     "output_type": "execute_result"
    }
   ],
   "source": [
    "list(range(4, 30, 2))"
   ]
  },
  {
   "cell_type": "markdown",
   "id": "bde867c9-d3a1-46c6-a238-1bff805d8886",
   "metadata": {},
   "source": [
    "Find the largest item from a given list <br>\n",
    "x = [4, 6, 8, 24, 12, 2]"
   ]
  },
  {
   "cell_type": "code",
   "execution_count": 20,
   "id": "d5ba9a76-9f3c-42ff-a31b-bba371b3f3af",
   "metadata": {},
   "outputs": [
    {
     "data": {
      "text/plain": [
       "24"
      ]
     },
     "execution_count": 20,
     "metadata": {},
     "output_type": "execute_result"
    }
   ],
   "source": [
    "x = [4, 6, 8, 24, 12, 2]\n",
    "max(x)\n",
    "# x.sort(reverse=True)\n",
    "# z = x[0]\n",
    "# print(z)"
   ]
  },
  {
   "cell_type": "markdown",
   "id": "998436a7-8dcc-4ea3-9c27-986f5675ead0",
   "metadata": {},
   "source": [
    "Define a function that accepts radius and returns the area of a circle. <br>\n",
    "radius = 4 <br>\n",
    "formula for area of circle = 2*π^2 "
   ]
  },
  {
   "cell_type": "code",
   "execution_count": 113,
   "id": "74c065aa-bfd3-467a-a38f-5d385693d2c4",
   "metadata": {},
   "outputs": [
    {
     "name": "stdout",
     "output_type": "stream",
     "text": [
      "Enter Radius: 4.1\n",
      "52\n"
     ]
    }
   ],
   "source": [
    "def area(radius):\n",
    "    area = 3.14*radius*radius\n",
    "    return area\n",
    "\n",
    "area(4)\n",
    "\n",
    "\n",
    "# radius = float(input(\"Enter Radius: \"))  # 4\n",
    "# print(int(area(radius)))"
   ]
  },
  {
   "cell_type": "code",
   "execution_count": null,
   "id": "5af893af",
   "metadata": {},
   "outputs": [],
   "source": [
    "# program to find volume of a cube\n",
    "v= l*b*h # formula"
   ]
  },
  {
   "cell_type": "code",
   "execution_count": 8,
   "id": "314881e6-443d-48ee-90c4-cbdfeda0015a",
   "metadata": {},
   "outputs": [
    {
     "data": {
      "text/plain": [
       "30"
      ]
     },
     "execution_count": 8,
     "metadata": {},
     "output_type": "execute_result"
    }
   ],
   "source": [
    "def volume_of_cube(l, b, h):\n",
    "    v = l*b*h\n",
    "    return v\n",
    "\n",
    "volume_of_cube(3, 5, 2)"
   ]
  },
  {
   "cell_type": "code",
   "execution_count": 9,
   "id": "ca17ad85",
   "metadata": {},
   "outputs": [
    {
     "data": {
      "text/plain": [
       "216"
      ]
     },
     "execution_count": 9,
     "metadata": {},
     "output_type": "execute_result"
    }
   ],
   "source": [
    "volume_of_cube(4, 6, 9)"
   ]
  },
  {
   "cell_type": "code",
   "execution_count": 12,
   "id": "2443e228",
   "metadata": {},
   "outputs": [
    {
     "name": "stdout",
     "output_type": "stream",
     "text": [
      "The person cannot vote\n"
     ]
    }
   ],
   "source": [
    "# write a  function to detect if a person can vote with their age\n",
    "age  = 13\n",
    "\n",
    "if age > 18:\n",
    "    print(\"The person ca n vote\")\n",
    "else:\n",
    "    print(\"The person cannot vote\")"
   ]
  },
  {
   "cell_type": "code",
   "execution_count": 13,
   "id": "a79d369c",
   "metadata": {},
   "outputs": [
    {
     "name": "stdout",
     "output_type": "stream",
     "text": [
      "The person ca n vote\n"
     ]
    }
   ],
   "source": [
    "\n",
    "def eligible_vote(age):\n",
    "    if age > 18:\n",
    "        print(\"The person ca n vote\")\n",
    "    else:\n",
    "        print(\"The person cannot vote\")\n",
    "        \n",
    "eligible_vote(28)"
   ]
  },
  {
   "cell_type": "code",
   "execution_count": null,
   "id": "b6f0e54f",
   "metadata": {},
   "outputs": [],
   "source": []
  },
  {
   "cell_type": "markdown",
   "id": "c2129440-319f-40f4-b542-24e4949ae7e4",
   "metadata": {},
   "source": [
    "Write a Python function to sum all the numbers in a list. <br>\n",
    "a = [2, 6, 9, 10] <br>\n",
    "output: 27"
   ]
  },
  {
   "cell_type": "code",
   "execution_count": 114,
   "id": "0f770515-59f2-492a-9636-47a8c95924e9",
   "metadata": {},
   "outputs": [
    {
     "name": "stdout",
     "output_type": "stream",
     "text": [
      "27\n"
     ]
    }
   ],
   "source": [
    "# Define a function named 'sum' that takes a list of numbers as input\n",
    "a = [2, 6, 9, 10]\n",
    "# expeted output is : 27\n",
    "\n",
    "def sum(numbers):\n",
    "    # Initialize a variable 'total' to store the sum of numbers, starting at 0\n",
    "    total = 0\n",
    "    \n",
    "    # Iterate through each element 'x' in the 'numbers' list\n",
    "    for x in numbers:\n",
    "        # Add the current element 'x' to the 'total'\n",
    "        total += x\n",
    "    \n",
    "    # Return the final sum stored in the 'total' variable\n",
    "    return total\n",
    "\n",
    "# Print the result of calling the 'sum' function with a tuple of numbers (8, 2, 3, 0, 7)\n",
    "print(sum(a))"
   ]
  },
  {
   "cell_type": "markdown",
   "id": "c432b839-9a81-4f0d-b178-a16c68b58e44",
   "metadata": {},
   "source": [
    "Write a Python function to multiply all the numbers in a list. <br>\n",
    "a = [2, 6, 9, 10] <br>\n",
    "output: 1080"
   ]
  },
  {
   "cell_type": "code",
   "execution_count": 4,
   "id": "0fd7ad32-e684-4f7b-8e49-afbb29760ffd",
   "metadata": {},
   "outputs": [
    {
     "name": "stdout",
     "output_type": "stream",
     "text": [
      "1080\n"
     ]
    }
   ],
   "source": [
    "# Define a function named 'multiply' that takes a list of numbers as input\n",
    "a = [2, 6, 9, 10] \n",
    "\n",
    "def multiply(numbers):\n",
    "    # Initialize a variable 'total' to store the multiplication result, starting at 1\n",
    "    total = 1\n",
    "    \n",
    "    # Iterate through each element 'x' in the 'numbers' list\n",
    "    for x in numbers:\n",
    "        # Multiply the current element 'x' with the 'total'\n",
    "        total *= x\n",
    "    \n",
    "    # Return the final multiplication result stored in the 'total' variable\n",
    "    return total\n",
    "\n",
    "# Print the result of calling the 'multiply' function with a tuple of numbers (8, 2, 3, -1, 7)\n",
    "print(multiply(a))"
   ]
  }
 ],
 "metadata": {
  "kernelspec": {
   "display_name": "Python 3 (ipykernel)",
   "language": "python",
   "name": "python3"
  },
  "language_info": {
   "codemirror_mode": {
    "name": "ipython",
    "version": 3
   },
   "file_extension": ".py",
   "mimetype": "text/x-python",
   "name": "python",
   "nbconvert_exporter": "python",
   "pygments_lexer": "ipython3",
   "version": "3.9.13"
  }
 },
 "nbformat": 4,
 "nbformat_minor": 5
}
