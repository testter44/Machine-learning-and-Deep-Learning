{
 "cells": [
  {
   "cell_type": "code",
   "execution_count": null,
   "id": "7e4342b6",
   "metadata": {},
   "outputs": [],
   "source": [
    "# Create virtual environment with conda"
   ]
  },
  {
   "cell_type": "markdown",
   "id": "7a93989b",
   "metadata": {},
   "source": [
    "<b>check conda version <br></b>\n",
    "conda -V  <br>\n",
    "conda --version <br>"
   ]
  },
  {
   "cell_type": "code",
   "execution_count": 1,
   "id": "0b90e4aa",
   "metadata": {},
   "outputs": [
    {
     "name": "stdout",
     "output_type": "stream",
     "text": [
      "conda 22.9.0\n"
     ]
    }
   ],
   "source": [
    "!conda -V"
   ]
  },
  {
   "cell_type": "code",
   "execution_count": 2,
   "id": "fc62a236",
   "metadata": {},
   "outputs": [
    {
     "name": "stdout",
     "output_type": "stream",
     "text": [
      "Python 3.9.13\n"
     ]
    }
   ],
   "source": [
    "!python -V"
   ]
  },
  {
   "cell_type": "markdown",
   "id": "286c2a58",
   "metadata": {},
   "source": [
    "conda create -n yourenvname python=x.x <br>\n",
    "example: conda create -n data_science python=3.9"
   ]
  },
  {
   "cell_type": "markdown",
   "id": "da233010",
   "metadata": {},
   "source": [
    "<b>activate conda environment <br></b>\n",
    "conda activate env_name <br>\n",
    "Example: conda activate data_science <br>"
   ]
  },
  {
   "cell_type": "markdown",
   "id": "3962cee1",
   "metadata": {},
   "source": [
    "<b>deactivate conda environment <br></b>\n",
    "conda deactivate env_name <br>\n",
    "Example: conda deactivate data_science <br>"
   ]
  },
  {
   "cell_type": "markdown",
   "id": "bec792f1",
   "metadata": {},
   "source": [
    "<b>Why use virtual environment?? <br></b>\n",
    ":> different project require different versions of libraries"
   ]
  },
  {
   "cell_type": "markdown",
   "id": "11d84411",
   "metadata": {},
   "source": [
    "<h1 style=\"color:Blue\">Python Basics</h1>"
   ]
  },
  {
   "cell_type": "markdown",
   "id": "74b92597",
   "metadata": {},
   "source": [
    "* Python is general-purpose, high-level programming language. <br>\n",
    "* It supports both function and Object Oriented Programming. "
   ]
  },
  {
   "cell_type": "code",
   "execution_count": 5,
   "id": "d2cb05ad-b014-4f14-bebe-5853961cae60",
   "metadata": {},
   "outputs": [
    {
     "name": "stdout",
     "output_type": "stream",
     "text": [
      "Python 3.8.17\n"
     ]
    }
   ],
   "source": [
    "#check python version\n",
    "!python --version"
   ]
  },
  {
   "cell_type": "code",
   "execution_count": 3,
   "id": "9ddac7be-e424-4f8b-85c3-92b4ec6d355e",
   "metadata": {},
   "outputs": [
    {
     "name": "stdout",
     "output_type": "stream",
     "text": [
      "Hello, World!\n"
     ]
    }
   ],
   "source": [
    "#python Hello world\n",
    "print(\"Hello, World!\")"
   ]
  },
  {
   "cell_type": "code",
   "execution_count": 4,
   "id": "692b42f0",
   "metadata": {},
   "outputs": [
    {
     "name": "stdout",
     "output_type": "stream",
     "text": [
      "Hello\n"
     ]
    }
   ],
   "source": [
    "print(\"Hello\")"
   ]
  },
  {
   "cell_type": "markdown",
   "id": "40ae1ff8-9c1d-4044-8491-8581fced5731",
   "metadata": {},
   "source": [
    "<h1 style=\"color:Blue\">Python Indentation</h1>\n",
    "<b>Indentation refers to the spaces at the beginning of a code line."
   ]
  },
  {
   "cell_type": "code",
   "execution_count": 7,
   "id": "fa17679e-7483-4735-bd81-e394c6cf2c30",
   "metadata": {},
   "outputs": [
    {
     "name": "stdout",
     "output_type": "stream",
     "text": [
      "Five is greater than two!\n"
     ]
    }
   ],
   "source": [
    "if 5 > 2:\n",
    "    print(\"Five is greater than two!\")"
   ]
  },
  {
   "cell_type": "code",
   "execution_count": 11,
   "id": "e1376c09-f815-4c4a-9414-7710a9eec329",
   "metadata": {},
   "outputs": [
    {
     "name": "stdout",
     "output_type": "stream",
     "text": [
      "Five is greater than two!\n",
      "Five is greater than two!\n"
     ]
    }
   ],
   "source": [
    "if 5 > 2:\n",
    "    print(\"Five is greater than two!\") \n",
    "if 5 > 2:\n",
    "    print(\"Five is greater than two!\") "
   ]
  },
  {
   "cell_type": "markdown",
   "id": "3507e3ba-332c-4f71-b9fe-a15448d4985b",
   "metadata": {},
   "source": [
    "<h1 style=\"color:Blue\">Python Comments</h1>"
   ]
  },
  {
   "cell_type": "markdown",
   "id": "99e34ca3-b2ff-49cb-be5e-5ca400e7d17d",
   "metadata": {},
   "source": [
    "<b>Comments in python can be doe by : #, '''  '''.</b>"
   ]
  },
  {
   "cell_type": "markdown",
   "id": "3d298b11-af7a-4523-8a4b-f787078dc486",
   "metadata": {},
   "source": [
    "Comments can be used to prevent execution when testing code."
   ]
  },
  {
   "cell_type": "code",
   "execution_count": 8,
   "id": "cc9ac5d6-30d0-43da-9adf-3d16e5b134aa",
   "metadata": {},
   "outputs": [],
   "source": [
    "# print(\"Hello World!\") \n",
    "# print(\"Hello World!\")"
   ]
  },
  {
   "cell_type": "markdown",
   "id": "f6f71b28-cbb0-45e9-b7e3-f77503d76d5f",
   "metadata": {},
   "source": [
    "<b>Comments can be used to explain Python code"
   ]
  },
  {
   "cell_type": "code",
   "execution_count": 17,
   "id": "fdeaae52-9610-4bd6-a827-519f28747bc4",
   "metadata": {},
   "outputs": [
    {
     "name": "stdout",
     "output_type": "stream",
     "text": [
      "Hello World!\n"
     ]
    }
   ],
   "source": [
    "print(\"Hello World!\") #this is a code to print hello world"
   ]
  },
  {
   "cell_type": "code",
   "execution_count": 9,
   "id": "34b27e1c",
   "metadata": {},
   "outputs": [
    {
     "name": "stdout",
     "output_type": "stream",
     "text": [
      "Hello World!\n"
     ]
    }
   ],
   "source": [
    "print(\"Hello World!\")   #this is a code to print hello world"
   ]
  },
  {
   "cell_type": "markdown",
   "id": "0c10e7bd-ed8c-420d-954f-372d1f7fad69",
   "metadata": {},
   "source": [
    "<h3>Multiline Comments</h3>"
   ]
  },
  {
   "cell_type": "code",
   "execution_count": 21,
   "id": "ad9ec0cf-68d5-473c-97db-f334aa813cea",
   "metadata": {},
   "outputs": [
    {
     "name": "stdout",
     "output_type": "stream",
     "text": [
      "Hello World!\n"
     ]
    }
   ],
   "source": [
    "# This is a comment for hello world\n",
    "# written in\n",
    "# more than just one line\n",
    "print(\"Hello World!\")"
   ]
  },
  {
   "cell_type": "code",
   "execution_count": 22,
   "id": "860f29b5-d0fb-4714-9df7-cf53f0b324c9",
   "metadata": {},
   "outputs": [
    {
     "name": "stdout",
     "output_type": "stream",
     "text": [
      "Hello World!\n"
     ]
    }
   ],
   "source": [
    "'''This is a comment for hello world\n",
    "written in\n",
    "more than just one line'''\n",
    "print(\"Hello World!\")"
   ]
  },
  {
   "cell_type": "code",
   "execution_count": 13,
   "id": "43514651-3a37-4b04-bb4a-5ce87cd6a955",
   "metadata": {},
   "outputs": [],
   "source": [
    "x=7.5\n",
    "y='c'"
   ]
  },
  {
   "cell_type": "markdown",
   "id": "3baad4a7-9999-4d45-8596-e62ba3510b24",
   "metadata": {},
   "source": [
    "<h1 style=\"color:Blue\">Python Variables</h1>\n",
    "<b>variables are created when you assign a value to it"
   ]
  },
  {
   "cell_type": "markdown",
   "id": "e6a53f4d-9426-427c-ad5e-d280d575372a",
   "metadata": {},
   "source": [
    "<h2>Variable Names</h2>"
   ]
  },
  {
   "cell_type": "markdown",
   "id": "04fc7922-8827-4623-9745-c84587f286e7",
   "metadata": {},
   "source": [
    "* A variable name must start with a letter or the underscore character\n",
    "* A variable name cannot start with a number\n",
    "* A variable name can only contain alpha-numeric characters and underscores (A-z, 0-9, and _ )\n",
    "* Variable names are case-sensitive (age, Age and AGE are three different variables)\n",
    "* A variable name cannot be any of the Python keywords."
   ]
  },
  {
   "cell_type": "markdown",
   "id": "06cc0827-1e0b-41d0-9bfc-44d8b33fac9c",
   "metadata": {},
   "source": [
    "<b><h4>legal variable names:</h4><br> </b>\n",
    "myvar = \"Data science\" <br>\n",
    "my_var = \"Data science\" <br>\n",
    "_my_var = \"Data science\" <br>\n",
    "myVar = \"Data science\" <br>\n",
    "MYVAR = \"Data science\" <br>\n",
    "myvar2 = \"Data science\""
   ]
  },
  {
   "cell_type": "markdown",
   "id": "5f2bc7b3-a39b-48d4-864c-2c408652c5fd",
   "metadata": {},
   "source": [
    "<b><h4>Illegal variable names:<h4></b> <br>\n",
    "2myvar = \"Data science\" <br>\n",
    "my-var = \"Data science\" <br>\n",
    "my var = \"Data science\" <br>"
   ]
  },
  {
   "cell_type": "markdown",
   "id": "3bdd65d6-f154-406d-8632-5ce73066bfec",
   "metadata": {},
   "source": [
    "<h4 >Camel Case</h4>\n",
    "Each word, except the first, starts with a capital letter:\n",
    "\n"
   ]
  },
  {
   "cell_type": "code",
   "execution_count": 40,
   "id": "2eb9a696-0de1-4456-aef3-af8fa5cc418c",
   "metadata": {},
   "outputs": [],
   "source": [
    "myVariableName = \"Data science\""
   ]
  },
  {
   "cell_type": "code",
   "execution_count": 14,
   "id": "0857de50",
   "metadata": {},
   "outputs": [],
   "source": [
    "dataScience = 1"
   ]
  },
  {
   "cell_type": "markdown",
   "id": "1b7194c6-b5ca-4dd2-a699-f8f31464ee7e",
   "metadata": {},
   "source": [
    "<h4 style=\"color:Red\">Pascal Case</h4>\n",
    "<b>Each word starts with a capital letter:\n"
   ]
  },
  {
   "cell_type": "code",
   "execution_count": 41,
   "id": "772ef3f7-5247-47ae-8ff1-5679b74a7a6c",
   "metadata": {},
   "outputs": [],
   "source": [
    "MyVariableName = \"Data science\"\n"
   ]
  },
  {
   "cell_type": "markdown",
   "id": "b3063dfd-38e5-451c-8a7e-ef183607e81e",
   "metadata": {},
   "source": [
    "<h4 style=\"color:Red\">Snake Case</h4>\n",
    "<b>Each word is separated by an underscore character:"
   ]
  },
  {
   "cell_type": "code",
   "execution_count": 43,
   "id": "b1bb33b1-1dfc-4607-abc8-498f02507a86",
   "metadata": {},
   "outputs": [],
   "source": [
    "my_variable_name = \"Data science\"\n"
   ]
  },
  {
   "cell_type": "code",
   "execution_count": null,
   "id": "126f4483-e2a4-4b82-8583-57bfbba37a9f",
   "metadata": {},
   "outputs": [],
   "source": []
  },
  {
   "cell_type": "code",
   "execution_count": 23,
   "id": "7c60be1c-4f29-4ce3-9ec5-ae5f0487ff82",
   "metadata": {},
   "outputs": [
    {
     "name": "stdout",
     "output_type": "stream",
     "text": [
      "5\n",
      "John\n"
     ]
    }
   ],
   "source": [
    "x = 5\n",
    "y = \"John\"\n",
    "print(x)\n",
    "print(y)"
   ]
  },
  {
   "cell_type": "markdown",
   "id": "4372a57d-3d5d-48aa-8c4c-fd096a9b2d51",
   "metadata": {},
   "source": [
    "<b>Variables do not need to be declared with any particular type, and can even change type after they have been set."
   ]
  },
  {
   "cell_type": "code",
   "execution_count": 26,
   "id": "48ccebd2-9585-4960-be2f-857cafe7e616",
   "metadata": {},
   "outputs": [
    {
     "name": "stdout",
     "output_type": "stream",
     "text": [
      "4\n",
      "Sally\n"
     ]
    }
   ],
   "source": [
    "x = 4       # x is of type int\n",
    "y = \"Sally\" # y is now of type str\n",
    "print(x)\n",
    "print(y)"
   ]
  },
  {
   "cell_type": "code",
   "execution_count": 17,
   "id": "61bc8516-ec42-402b-9591-f1539728065c",
   "metadata": {},
   "outputs": [
    {
     "name": "stdout",
     "output_type": "stream",
     "text": [
      "<class 'int'>\n"
     ]
    }
   ],
   "source": [
    "x = str(3)    # x will be '3'\n",
    "y = int(3)    # y will be 3\n",
    "z = float(3)  # z will be 3.0\n",
    "print(type(y))"
   ]
  },
  {
   "cell_type": "markdown",
   "id": "c57f8e4d-bf11-4692-bc31-b5119ad428d5",
   "metadata": {},
   "source": [
    "<b>You can get the data type of a variable with the <u>type()</u> function."
   ]
  },
  {
   "cell_type": "code",
   "execution_count": 29,
   "id": "9c16d67a-c151-4bbf-a4bb-61b4eaac79ea",
   "metadata": {},
   "outputs": [
    {
     "name": "stdout",
     "output_type": "stream",
     "text": [
      "<class 'int'>\n",
      "<class 'float'>\n",
      "<class 'str'>\n"
     ]
    }
   ],
   "source": [
    "x = 4       # x is of type int\n",
    "y = 8.3333333  # y is a float\n",
    "z = \"Sally\" # x is now of type str\n",
    "print(type(x))\n",
    "print(type(y))\n",
    "print(type(z))"
   ]
  },
  {
   "cell_type": "markdown",
   "id": "a14c3c0e-ef44-427c-bf58-cb4a9752bf9f",
   "metadata": {},
   "source": [
    "<b>String variables can be declared either by using <u>single</u> or <u>double quotes</u>:"
   ]
  },
  {
   "cell_type": "code",
   "execution_count": 33,
   "id": "7a0ddcc1-e6a3-4b95-a9c1-5d513cacf0ce",
   "metadata": {},
   "outputs": [
    {
     "name": "stdout",
     "output_type": "stream",
     "text": [
      "John\n",
      "John\n"
     ]
    }
   ],
   "source": [
    "x = \"John\"\n",
    "# is the same as\n",
    "y = 'John'\n",
    "\n",
    "print(x)\n",
    "print(y)"
   ]
  },
  {
   "cell_type": "markdown",
   "id": "b311de68-275e-415e-b8a9-4c3e36351e3e",
   "metadata": {},
   "source": [
    "<b>Variable names are <u>case-sensitive</u>."
   ]
  },
  {
   "cell_type": "code",
   "execution_count": 21,
   "id": "40996d20-9547-42d1-81f8-543f72f4d177",
   "metadata": {},
   "outputs": [
    {
     "name": "stdout",
     "output_type": "stream",
     "text": [
      "4\n"
     ]
    }
   ],
   "source": [
    "a = 4\n",
    "a = \"Sally\"\n",
    "# A will not overwrite a\n",
    "\n",
    "print(a)\n",
    "print(A)"
   ]
  },
  {
   "cell_type": "markdown",
   "id": "be33987d-7308-4790-845d-75da74e14c92",
   "metadata": {},
   "source": [
    "<h4 style=\"color:Red\">Many Values to Multiple Variables</h4>"
   ]
  },
  {
   "cell_type": "markdown",
   "id": "6afb0aa4-417a-4d6f-a9f9-9dba6af5060d",
   "metadata": {},
   "source": [
    "<b>Python allows you to assign values to multiple variables in one line"
   ]
  },
  {
   "cell_type": "code",
   "execution_count": 24,
   "id": "e8c56899-7c9b-4d74-9a8e-597628c68727",
   "metadata": {},
   "outputs": [
    {
     "name": "stdout",
     "output_type": "stream",
     "text": [
      "Orange\n",
      "Banana\n",
      "Cherry\n"
     ]
    }
   ],
   "source": [
    "x, y, z = \"Orange\", \"Banana\", \"Cherry\"\n",
    "print(x)\n",
    "print(y)\n",
    "print(z)"
   ]
  },
  {
   "cell_type": "code",
   "execution_count": 22,
   "id": "aa4c4dbf",
   "metadata": {},
   "outputs": [],
   "source": [
    "x= \"Orange\"\n",
    "y= \"Banana\"\n",
    "z=\"Cherry\""
   ]
  },
  {
   "cell_type": "markdown",
   "id": "c11031b4-6424-4597-9b99-3b160496638b",
   "metadata": {},
   "source": [
    "<b>And you can assign the same value to multiple variables in one line"
   ]
  },
  {
   "cell_type": "code",
   "execution_count": 46,
   "id": "a5eec64b-6437-46c4-8a3d-e746adacb54e",
   "metadata": {},
   "outputs": [
    {
     "name": "stdout",
     "output_type": "stream",
     "text": [
      "Orange\n",
      "Orange\n",
      "Orange\n"
     ]
    }
   ],
   "source": [
    "x = y = z = \"Orange\"\n",
    "print(x)\n",
    "print(y)\n",
    "print(z)"
   ]
  },
  {
   "cell_type": "markdown",
   "id": "13fd945b-4609-454f-b9fa-25e59478d145",
   "metadata": {},
   "source": [
    "<h4 style=\"color:Red\">Unpack a Collection</h4>"
   ]
  },
  {
   "cell_type": "code",
   "execution_count": 27,
   "id": "ff07fb34-0bfb-481b-88d2-ed9756ba770a",
   "metadata": {},
   "outputs": [
    {
     "name": "stdout",
     "output_type": "stream",
     "text": [
      "1\n",
      "banana\n",
      "cherry\n"
     ]
    },
    {
     "data": {
      "text/plain": [
       "int"
      ]
     },
     "execution_count": 27,
     "metadata": {},
     "output_type": "execute_result"
    }
   ],
   "source": [
    "fruits = [1, \"banana\", \"cherry\"]\n",
    "x, y, z = fruits\n",
    "print(x)\n",
    "print(y)\n",
    "print(z)\n",
    "type(x)"
   ]
  },
  {
   "cell_type": "markdown",
   "id": "ca12e141-98ee-4f5f-9cd7-2564a0d4e6dd",
   "metadata": {},
   "source": [
    "<h4 style=\"color:Red\">Output Variables</h4>\n",
    "<b>print() function is often used to output variables"
   ]
  },
  {
   "cell_type": "code",
   "execution_count": 51,
   "id": "8a080f47-14be-4fb7-8613-d0ae3fb98d6b",
   "metadata": {},
   "outputs": [
    {
     "name": "stdout",
     "output_type": "stream",
     "text": [
      "Python is awesome\n"
     ]
    }
   ],
   "source": [
    "x = \"Python\"\n",
    "y = \"is\"\n",
    "z = \"awesome\"\n",
    "print(x, y, z)"
   ]
  },
  {
   "cell_type": "code",
   "execution_count": 28,
   "id": "8985c4be-fd62-4211-be7a-38ce0489d53f",
   "metadata": {},
   "outputs": [
    {
     "name": "stdout",
     "output_type": "stream",
     "text": [
      "Python is awesome\n"
     ]
    }
   ],
   "source": [
    "x = \"Python \"\n",
    "y = \"is \"\n",
    "z = \"awesome\"\n",
    "print(x+y+z) # + is an operator"
   ]
  },
  {
   "cell_type": "code",
   "execution_count": 31,
   "id": "f48b955f-8c67-4eef-9395-03e50a72effa",
   "metadata": {},
   "outputs": [
    {
     "name": "stdout",
     "output_type": "stream",
     "text": [
      "-5\n"
     ]
    }
   ],
   "source": [
    "x,y = 5,10\n",
    "# y = 10\n",
    "print(x - y)  # + is an operator,  5 and 10 are int data type"
   ]
  },
  {
   "cell_type": "code",
   "execution_count": 32,
   "id": "4569f454-9a41-42b2-812e-fdbf5c37c6c5",
   "metadata": {},
   "outputs": [
    {
     "ename": "TypeError",
     "evalue": "unsupported operand type(s) for +: 'int' and 'str'",
     "output_type": "error",
     "traceback": [
      "\u001b[1;31m---------------------------------------------------------------------------\u001b[0m",
      "\u001b[1;31mTypeError\u001b[0m                                 Traceback (most recent call last)",
      "\u001b[1;32m~\\AppData\\Local\\Temp\\ipykernel_6220\\338608337.py\u001b[0m in \u001b[0;36m<module>\u001b[1;34m\u001b[0m\n\u001b[0;32m      1\u001b[0m \u001b[0mx\u001b[0m \u001b[1;33m=\u001b[0m \u001b[1;36m5\u001b[0m\u001b[1;33m\u001b[0m\u001b[1;33m\u001b[0m\u001b[0m\n\u001b[0;32m      2\u001b[0m \u001b[0my\u001b[0m \u001b[1;33m=\u001b[0m \u001b[1;34m\"John\"\u001b[0m\u001b[1;33m\u001b[0m\u001b[1;33m\u001b[0m\u001b[0m\n\u001b[1;32m----> 3\u001b[1;33m \u001b[0mprint\u001b[0m\u001b[1;33m(\u001b[0m\u001b[0mx\u001b[0m \u001b[1;33m+\u001b[0m \u001b[0my\u001b[0m\u001b[1;33m)\u001b[0m\u001b[1;33m\u001b[0m\u001b[1;33m\u001b[0m\u001b[0m\n\u001b[0m",
      "\u001b[1;31mTypeError\u001b[0m: unsupported operand type(s) for +: 'int' and 'str'"
     ]
    }
   ],
   "source": [
    "x = 5\n",
    "y = \"John\"\n",
    "print(x + y) \n"
   ]
  },
  {
   "cell_type": "code",
   "execution_count": 58,
   "id": "4c604b35-2cd7-4450-8356-1aef2ddace36",
   "metadata": {},
   "outputs": [
    {
     "name": "stdout",
     "output_type": "stream",
     "text": [
      "5 John\n"
     ]
    }
   ],
   "source": [
    "x = 5\n",
    "y = \"John\"\n",
    "print(x, y)"
   ]
  },
  {
   "cell_type": "code",
   "execution_count": null,
   "id": "6ee5806c-da2a-4d47-a2c4-e1e0828ed87d",
   "metadata": {},
   "outputs": [],
   "source": [
    "#Exercise"
   ]
  },
  {
   "cell_type": "markdown",
   "id": "725ff29a-d1ea-4225-8bb8-22eb91aeb9c6",
   "metadata": {},
   "source": [
    "<h1 style=\"color:Blue\">Python Data Types</h1>"
   ]
  },
  {
   "cell_type": "markdown",
   "id": "77087c1d-7b37-4bc3-b563-fa2d302768cf",
   "metadata": {},
   "source": [
    "<h2>Built-in Data Types</h2>"
   ]
  },
  {
   "cell_type": "markdown",
   "id": "54461c92-3daf-492b-886c-ddb6655189c8",
   "metadata": {},
   "source": [
    "<b>Variables can store data of different types, and different types can do different things. <br>\n",
    "\n"
   ]
  },
  {
   "cell_type": "markdown",
   "id": "5381fb49-ff24-4f84-b658-e67c3a0ac5aa",
   "metadata": {},
   "source": [
    "\n",
    "* Text Type:\tstr\n",
    "* Numeric Types:\tint, float, complex\n",
    "* Sequence Types:\tlist, tuple, range\n",
    "* Mapping Type:\tdict\n",
    "* Set Types:\tset, frozenset\n",
    "* Boolean Type:\tbool\n",
    "* Binary Types:\tbytes, bytearray, memoryview\n",
    "* None Type:\tNoneType"
   ]
  },
  {
   "cell_type": "code",
   "execution_count": 61,
   "id": "16db1afb-2e92-477e-8145-61f0f8bae37d",
   "metadata": {},
   "outputs": [
    {
     "name": "stdout",
     "output_type": "stream",
     "text": [
      "<class 'str'>\n"
     ]
    }
   ],
   "source": [
    "x = \"Hello World\"\n",
    "print(type(x))"
   ]
  },
  {
   "cell_type": "code",
   "execution_count": 62,
   "id": "6d003947-a5c6-4bad-955b-4ea40321dfe3",
   "metadata": {},
   "outputs": [
    {
     "name": "stdout",
     "output_type": "stream",
     "text": [
      "<class 'int'>\n"
     ]
    }
   ],
   "source": [
    "x = 20\n",
    "print(type(x))"
   ]
  },
  {
   "cell_type": "code",
   "execution_count": 63,
   "id": "93810856-7510-42ca-bd8b-04dce213f672",
   "metadata": {},
   "outputs": [
    {
     "name": "stdout",
     "output_type": "stream",
     "text": [
      "<class 'float'>\n"
     ]
    }
   ],
   "source": [
    "x = 20.5\n",
    "print(type(x))"
   ]
  },
  {
   "cell_type": "code",
   "execution_count": 64,
   "id": "42789f85-b66b-488b-9185-0fd24e7fab9b",
   "metadata": {},
   "outputs": [
    {
     "name": "stdout",
     "output_type": "stream",
     "text": [
      "<class 'complex'>\n"
     ]
    }
   ],
   "source": [
    "x = 1j\n",
    "print(type(x))"
   ]
  },
  {
   "cell_type": "code",
   "execution_count": 36,
   "id": "ae09af74-3fe8-4bd4-8b2e-1cc3356fdfb7",
   "metadata": {},
   "outputs": [
    {
     "name": "stdout",
     "output_type": "stream",
     "text": [
      "<class 'list'>\n"
     ]
    },
    {
     "data": {
      "text/plain": [
       "'cherry'"
      ]
     },
     "execution_count": 36,
     "metadata": {},
     "output_type": "execute_result"
    }
   ],
   "source": [
    "x = [\"apple\", \"banana\", \"cherry\"]\n",
    "print(type(x))\n",
    "x[2]"
   ]
  },
  {
   "cell_type": "code",
   "execution_count": 66,
   "id": "f15cdd27-9c1e-4495-ae35-20cdddcecca4",
   "metadata": {},
   "outputs": [
    {
     "name": "stdout",
     "output_type": "stream",
     "text": [
      "<class 'tuple'>\n"
     ]
    }
   ],
   "source": [
    "x = (\"apple\", \"banana\", \"cherry\")\n",
    "print(type(x))"
   ]
  },
  {
   "cell_type": "code",
   "execution_count": 33,
   "id": "5ca4fc93-a8d1-4f46-b601-54aaf889d701",
   "metadata": {},
   "outputs": [
    {
     "name": "stdout",
     "output_type": "stream",
     "text": [
      "range(0, 6)\n",
      "<class 'range'>\n"
     ]
    }
   ],
   "source": [
    "x = range(6)\n",
    "print(x)\n",
    "print(type(x))"
   ]
  },
  {
   "cell_type": "code",
   "execution_count": 68,
   "id": "a59d0661-d975-407d-b24d-3d0c3e7632fc",
   "metadata": {},
   "outputs": [
    {
     "name": "stdout",
     "output_type": "stream",
     "text": [
      "<class 'dict'>\n"
     ]
    }
   ],
   "source": [
    "x = {\"name\" : \"John\", \"age\" : 36}\n",
    "print(type(x))"
   ]
  },
  {
   "cell_type": "code",
   "execution_count": 69,
   "id": "e00ad460-83c7-47fc-88bf-1cf5eeac865f",
   "metadata": {},
   "outputs": [
    {
     "name": "stdout",
     "output_type": "stream",
     "text": [
      "<class 'set'>\n"
     ]
    }
   ],
   "source": [
    "x = {\"apple\", \"banana\", \"cherry\"}\n",
    "print(type(x))"
   ]
  },
  {
   "cell_type": "code",
   "execution_count": 70,
   "id": "387efb9d-edcd-4e6e-b7b0-97ce9a7f4aad",
   "metadata": {},
   "outputs": [
    {
     "name": "stdout",
     "output_type": "stream",
     "text": [
      "<class 'frozenset'>\n"
     ]
    }
   ],
   "source": [
    "x = frozenset({\"apple\", \"banana\", \"cherry\"})\n",
    "print(type(x))"
   ]
  },
  {
   "cell_type": "code",
   "execution_count": 71,
   "id": "12a4d9d3-c99d-464a-b0b1-4926550b30f8",
   "metadata": {},
   "outputs": [
    {
     "name": "stdout",
     "output_type": "stream",
     "text": [
      "<class 'bool'>\n"
     ]
    }
   ],
   "source": [
    "x = True\n",
    "print(type(x))"
   ]
  },
  {
   "cell_type": "code",
   "execution_count": 72,
   "id": "c55f2494-4521-448c-82d3-1d7dd54ed7ac",
   "metadata": {},
   "outputs": [
    {
     "name": "stdout",
     "output_type": "stream",
     "text": [
      "<class 'bytes'>\n"
     ]
    }
   ],
   "source": [
    "x = b\"Hello\"\n",
    "print(type(x))"
   ]
  },
  {
   "cell_type": "code",
   "execution_count": 73,
   "id": "335545b1-f7fe-4e55-816f-915055f4bf40",
   "metadata": {},
   "outputs": [
    {
     "name": "stdout",
     "output_type": "stream",
     "text": [
      "<class 'bytearray'>\n"
     ]
    }
   ],
   "source": [
    "x = bytearray(5)\n",
    "print(type(x))"
   ]
  },
  {
   "cell_type": "code",
   "execution_count": 74,
   "id": "096d5dad-bfd3-4632-a342-ebed857ea980",
   "metadata": {},
   "outputs": [
    {
     "name": "stdout",
     "output_type": "stream",
     "text": [
      "<class 'memoryview'>\n"
     ]
    }
   ],
   "source": [
    "x = memoryview(bytes(5))\n",
    "print(type(x))"
   ]
  },
  {
   "cell_type": "code",
   "execution_count": 75,
   "id": "f589b2f7-7f9d-492e-8200-f08f6f67b0f1",
   "metadata": {},
   "outputs": [
    {
     "name": "stdout",
     "output_type": "stream",
     "text": [
      "<class 'NoneType'>\n"
     ]
    }
   ],
   "source": [
    "x = None\n",
    "print(type(x))"
   ]
  },
  {
   "cell_type": "markdown",
   "id": "3333046e-ddb5-44c1-9930-896e191624c0",
   "metadata": {},
   "source": [
    "<h2>Python Numbers</h2>"
   ]
  },
  {
   "cell_type": "markdown",
   "id": "782503a3-996b-4a16-8dbb-2bd96df5a757",
   "metadata": {},
   "source": [
    "<b>There are three numeric types in Python:\n",
    "\n",
    "* int\n",
    "* float\n",
    "* complex"
   ]
  },
  {
   "cell_type": "code",
   "execution_count": 76,
   "id": "b4030f7b-705b-42fc-95eb-a2f21123e2c8",
   "metadata": {},
   "outputs": [
    {
     "name": "stdout",
     "output_type": "stream",
     "text": [
      "<class 'int'>\n",
      "<class 'float'>\n",
      "<class 'complex'>\n"
     ]
    }
   ],
   "source": [
    "x = 1    # int\n",
    "y = 2.8  # float\n",
    "z = 1j   # complex\n",
    "\n",
    "print(type(x))\n",
    "print(type(y))\n",
    "print(type(z))\n"
   ]
  },
  {
   "cell_type": "markdown",
   "id": "ad6d78c2-065a-4229-a15c-ded23d9f8787",
   "metadata": {},
   "source": [
    "<h3 style=\"color:Red\">Int</h3>\n",
    "<b>Int, or integer, is a whole number, positive or negative, without decimals, of unlimited length.\n",
    "\n"
   ]
  },
  {
   "cell_type": "code",
   "execution_count": 77,
   "id": "881827d6-383b-4058-b196-5c3782def7e0",
   "metadata": {},
   "outputs": [
    {
     "name": "stdout",
     "output_type": "stream",
     "text": [
      "<class 'int'>\n",
      "<class 'int'>\n",
      "<class 'int'>\n"
     ]
    }
   ],
   "source": [
    "x = 1\n",
    "y = 35656222554887711\n",
    "z = -3255522\n",
    "\n",
    "print(type(x))\n",
    "print(type(y))\n",
    "print(type(z))"
   ]
  },
  {
   "cell_type": "markdown",
   "id": "8e870d1d-f117-4bfe-a214-460900ad213a",
   "metadata": {},
   "source": [
    "<h3style=\"color:Red\">Float</h3>\n",
    "Float, or \"floating point number\" is a number, positive or negative, containing one or more decimals."
   ]
  },
  {
   "cell_type": "code",
   "execution_count": 82,
   "id": "51fc4a5d-0839-49df-82d0-30d07f5f511e",
   "metadata": {},
   "outputs": [
    {
     "name": "stdout",
     "output_type": "stream",
     "text": [
      "<class 'float'>\n",
      "<class 'float'>\n",
      "<class 'float'>\n",
      "<class 'float'>\n",
      "<class 'float'>\n",
      "<class 'float'>\n"
     ]
    }
   ],
   "source": [
    "\n",
    "x = 1.10\n",
    "y = 1.0\n",
    "z = -35.59\n",
    "\n",
    "a = 35e3\n",
    "b = 12E4\n",
    "c = -87.7e100\n",
    "\n",
    "print(type(x))\n",
    "print(type(y))\n",
    "print(type(z))\n",
    "print(type(a))\n",
    "print(type(b))\n",
    "print(type(c))"
   ]
  },
  {
   "cell_type": "markdown",
   "id": "26bb6989-8888-4548-a99c-c3b68eadaaaf",
   "metadata": {},
   "source": [
    "<h3 style=\"color:Red\">Complex</h3>\n",
    "<b>Complex numbers are written with a \"j\" as the imaginary part:"
   ]
  },
  {
   "cell_type": "code",
   "execution_count": 83,
   "id": "ed04a40f-2246-4374-831e-8ae6c056402f",
   "metadata": {},
   "outputs": [
    {
     "name": "stdout",
     "output_type": "stream",
     "text": [
      "<class 'complex'>\n",
      "<class 'complex'>\n",
      "<class 'complex'>\n"
     ]
    }
   ],
   "source": [
    "x = 3+5j\n",
    "y = 5j\n",
    "z = -5j\n",
    "\n",
    "print(type(x))\n",
    "print(type(y))\n",
    "print(type(z))"
   ]
  },
  {
   "cell_type": "markdown",
   "id": "16369c58-6dbf-47d1-be9d-b81d5950a92d",
   "metadata": {},
   "source": [
    "<h3 style=\"color:Red\">Type Conversion</h3>\n",
    "<b>You can convert from one type to another with the int(), float(), and complex() methods"
   ]
  },
  {
   "cell_type": "code",
   "execution_count": 84,
   "id": "9a4297bc-09c4-4311-85d1-f82a7da961d4",
   "metadata": {},
   "outputs": [
    {
     "name": "stdout",
     "output_type": "stream",
     "text": [
      "1.0\n",
      "2\n",
      "(1+0j)\n",
      "<class 'float'>\n",
      "<class 'int'>\n",
      "<class 'complex'>\n"
     ]
    }
   ],
   "source": [
    "x = 1    # int\n",
    "y = 2.8  # float\n",
    "z = 1j   # complex\n",
    "\n",
    "#convert from int to float:\n",
    "a = float(x)\n",
    "\n",
    "#convert from float to int:\n",
    "b = int(y)\n",
    "\n",
    "#convert from int to complex:\n",
    "c = complex(x)\n",
    "\n",
    "print(a)\n",
    "print(b)\n",
    "print(c)\n",
    "\n",
    "print(type(a))\n",
    "print(type(b))\n",
    "print(type(c))"
   ]
  },
  {
   "cell_type": "markdown",
   "id": "6f82a84b-1be3-4813-ba4b-7c857a42b0ef",
   "metadata": {},
   "source": [
    "<h3>Specify a Variable Type</h3>\n",
    "<b>There may be times when you want to specify a type on to a variable. \n"
   ]
  },
  {
   "cell_type": "code",
   "execution_count": 164,
   "id": "61743485-8107-40f9-8ae7-0b747c605060",
   "metadata": {},
   "outputs": [],
   "source": [
    "x = int(1)   # x will be 1\n",
    "y = int(2.8) # y will be 2\n",
    "z = int(\"3\") # z will be 3"
   ]
  },
  {
   "cell_type": "code",
   "execution_count": 100,
   "id": "604424aa-ce58-4af7-b49c-a56d82ea29fd",
   "metadata": {},
   "outputs": [],
   "source": [
    "x = float(1)     # x will be 1.0\n",
    "y = float(2.8)   # y will be 2.8\n",
    "z = float(\"3\")   # z will be 3.0\n",
    "w = float(\"4.2\") # w will be 4.2"
   ]
  }
 ],
 "metadata": {
  "kernelspec": {
   "display_name": "Python 3 (ipykernel)",
   "language": "python",
   "name": "python3"
  },
  "language_info": {
   "codemirror_mode": {
    "name": "ipython",
    "version": 3
   },
   "file_extension": ".py",
   "mimetype": "text/x-python",
   "name": "python",
   "nbconvert_exporter": "python",
   "pygments_lexer": "ipython3",
   "version": "3.8.7"
  }
 },
 "nbformat": 4,
 "nbformat_minor": 5
}
